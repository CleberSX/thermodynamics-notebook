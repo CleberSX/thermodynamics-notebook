{
 "cells": [
  {
   "cell_type": "code",
   "execution_count": 54,
   "metadata": {
    "collapsed": false
   },
   "outputs": [],
   "source": [
    "import numpy as np\n",
    "from itertools import izip\n",
    "from math import *"
   ]
  },
  {
   "cell_type": "code",
   "execution_count": 55,
   "metadata": {
    "collapsed": true
   },
   "outputs": [],
   "source": [
    "R = 8.314 # [kg/(J.K)]"
   ]
  },
  {
   "cell_type": "code",
   "execution_count": 56,
   "metadata": {
    "collapsed": true
   },
   "outputs": [],
   "source": [
    "class Component():\n",
    "    def __init__(self, a, b):\n",
    "        self.a = a\n",
    "        self.b = b"
   ]
  },
  {
   "cell_type": "code",
   "execution_count": 62,
   "metadata": {
    "collapsed": false
   },
   "outputs": [],
   "source": [
    "class WanDerWaalsEos():\n",
    "    def __init__(self, components, binary_interaction):\n",
    "        self.components = components\n",
    "        self.binary_interaction = binary_interaction\n",
    "        \n",
    "    def set_molar_fractions(self, molar_fractions):\n",
    "        self.molar_fractions = molar_fractions\n",
    "    \n",
    "    def update_eos_coefficients(self):\n",
    "        self.b = 0.0\n",
    "        self.a = 0.0\n",
    "        for i, (y_i, comp_i) in enumerate(izip(self.molar_fractions, self.components)):\n",
    "            self.b += y_i * comp_i.b\n",
    "            for j, (y_j, comp_j) in enumerate(izip(self.molar_fractions, self.components)):\n",
    "                delta = self.binary_interaction[i, j]\n",
    "                a_ij = delta * sqrt(comp_i.a * comp_j.a)\n",
    "                self.a += y_i * y_j * a_ij\n",
    "        \n",
    "    def compute_fugacity(self, index, temperature):\n",
    "        component = self.components[i]\n",
    "        T = temperature\n",
    "        \n",
    "        \n",
    "        "
   ]
  },
  {
   "cell_type": "code",
   "execution_count": 83,
   "metadata": {
    "collapsed": true
   },
   "outputs": [],
   "source": [
    "comp_a = Component(a=0.55237, b=3.0412e-5)\n",
    "comp_b = Component(a=0.42548, b=3.738e-5)\n",
    "components_list = [comp_a, comp_b]\n",
    "\n",
    "delta_ij = 0.47126/sqrt(comp_a.a * comp_b.a)\n",
    "\n",
    "binary_interaction = np.array(\n",
    "    [[1.000000, delta_ij],\n",
    "     [delta_ij, 1.000000]]\n",
    ")"
   ]
  },
  {
   "cell_type": "code",
   "execution_count": 84,
   "metadata": {
    "collapsed": false
   },
   "outputs": [],
   "source": [
    "eos = WanDerWaalsEos(components_list, binary_interaction)"
   ]
  },
  {
   "cell_type": "code",
   "execution_count": 85,
   "metadata": {
    "collapsed": true
   },
   "outputs": [],
   "source": [
    "molar_fractions = np.array([0.9, 0.1])"
   ]
  },
  {
   "cell_type": "code",
   "execution_count": 86,
   "metadata": {
    "collapsed": false
   },
   "outputs": [
    {
     "name": "stdout",
     "output_type": "stream",
     "text": [
      "0.5365013\n",
      "3.11088e-05\n"
     ]
    }
   ],
   "source": [
    "eos.set_molar_fractions(molar_fractions)\n",
    "eos.update_eos_coefficients()\n",
    "\n",
    "print eos.a\n",
    "print eos.b"
   ]
  },
  {
   "cell_type": "code",
   "execution_count": null,
   "metadata": {
    "collapsed": true
   },
   "outputs": [],
   "source": []
  }
 ],
 "metadata": {
  "kernelspec": {
   "display_name": "Python 2",
   "language": "python",
   "name": "python2"
  },
  "language_info": {
   "codemirror_mode": {
    "name": "ipython",
    "version": 2
   },
   "file_extension": ".py",
   "mimetype": "text/x-python",
   "name": "python",
   "nbconvert_exporter": "python",
   "pygments_lexer": "ipython2",
   "version": "2.7.9"
  }
 },
 "nbformat": 4,
 "nbformat_minor": 0
}
