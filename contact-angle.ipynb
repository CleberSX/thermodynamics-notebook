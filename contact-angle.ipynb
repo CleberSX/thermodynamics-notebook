{
 "cells": [
  {
   "cell_type": "code",
   "execution_count": 1,
   "metadata": {
    "collapsed": true
   },
   "outputs": [],
   "source": [
    "from sympy import *\n",
    "from sympy import init_printing\n",
    "import numpy as np\n",
    "import matplotlib.pyplot as plt\n",
    "from scipy import integrate\n",
    "\n",
    "init_printing(use_unicode=False, wrap_line=False, no_global=True)"
   ]
  },
  {
   "cell_type": "code",
   "execution_count": 2,
   "metadata": {
    "collapsed": true
   },
   "outputs": [],
   "source": [
    "P, R, T, v, b, a, alpha, rho = symbols(\"P R T v b a alpha rho\")"
   ]
  },
  {
   "cell_type": "code",
   "execution_count": 3,
   "metadata": {
    "collapsed": false
   },
   "outputs": [],
   "source": [
    "P = R*T/(v - b) - a*alpha/(v*(v + b) + b*(v - b))"
   ]
  },
  {
   "cell_type": "code",
   "execution_count": 4,
   "metadata": {
    "collapsed": false
   },
   "outputs": [
    {
     "data": {
      "image/png": "[encoded data removed]",
      "text/latex": [
       "$$\\frac{R T}{- b + v} - \\frac{a \\alpha}{b \\left(- b + v\\right) + v \\left(b + v\\right)}$$"
      ],
      "text/plain": [
       " R*T            a*alpha        \n",
       "------ - ----------------------\n",
       "-b + v   b*(-b + v) + v*(b + v)"
      ]
     },
     "execution_count": 4,
     "metadata": {},
     "output_type": "execute_result"
    }
   ],
   "source": [
    "P"
   ]
  },
  {
   "cell_type": "code",
   "execution_count": 5,
   "metadata": {
    "collapsed": true
   },
   "outputs": [],
   "source": [
    "M, k = symbols(\"M xi\")"
   ]
  },
  {
   "cell_type": "code",
   "execution_count": 6,
   "metadata": {
    "collapsed": false
   },
   "outputs": [
    {
     "data": {
      "image/png": "[encoded data removed]",
      "text/latex": [
       "$$\\frac{R T}{\\frac{M}{\\rho} - b} - \\frac{a \\alpha}{\\frac{M}{\\rho} \\left(\\frac{M}{\\rho} + b\\right) + b \\left(\\frac{M}{\\rho} - b\\right)}$$"
      ],
      "text/plain": [
       "  R*T              a*alpha         \n",
       "------- - -------------------------\n",
       " M          / M     \\              \n",
       "--- - b   M*|--- + b|              \n",
       "rho         \\rho    /     / M     \\\n",
       "          ----------- + b*|--- - b|\n",
       "              rho         \\rho    /"
      ]
     },
     "execution_count": 6,
     "metadata": {},
     "output_type": "execute_result"
    }
   ],
   "source": [
    "P.subs(v, M/rho)"
   ]
  },
  {
   "cell_type": "code",
   "execution_count": 7,
   "metadata": {
    "collapsed": false
   },
   "outputs": [],
   "source": [
    "P_r, rho_r, T_r = symbols(\"P_r rho_r T_r\")\n",
    "P_c, rho_c, T_c = symbols(\"P_c rho_c T_c\")\n",
    "omega_a, omega_b = symbols(\"Omega_a Omega_b\")\n",
    "Z_c = symbols(\"Z_c\")"
   ]
  },
  {
   "cell_type": "code",
   "execution_count": 8,
   "metadata": {
    "collapsed": false
   },
   "outputs": [
    {
     "data": {
      "image/png": "[encoded data removed]",
      "text/latex": [
       "$$\\frac{R T}{\\frac{M}{\\rho} - b} - \\frac{a \\alpha}{\\frac{M}{\\rho} \\left(\\frac{M}{\\rho} + b\\right) + b \\left(\\frac{M}{\\rho} - b\\right)}$$"
      ],
      "text/plain": [
       "  R*T              a*alpha         \n",
       "------- - -------------------------\n",
       " M          / M     \\              \n",
       "--- - b   M*|--- + b|              \n",
       "rho         \\rho    /     / M     \\\n",
       "          ----------- + b*|--- - b|\n",
       "              rho         \\rho    /"
      ]
     },
     "execution_count": 8,
     "metadata": {},
     "output_type": "execute_result"
    }
   ],
   "source": [
    "P1 = P.subs(v, M/rho)\n",
    "P1"
   ]
  },
  {
   "cell_type": "code",
   "execution_count": 9,
   "metadata": {
    "collapsed": false
   },
   "outputs": [
    {
     "data": {
      "image/png": "[encoded data removed]",
      "text/latex": [
       "$$\\frac{R T}{\\frac{M}{\\rho_{c} \\rho_{r}} - b} - \\frac{a \\alpha}{\\frac{M}{\\rho_{c} \\rho_{r}} \\left(\\frac{M}{\\rho_{c} \\rho_{r}} + b\\right) + b \\left(\\frac{M}{\\rho_{c} \\rho_{r}} - b\\right)}$$"
      ],
      "text/plain": [
       "      R*T                          a*alpha                 \n",
       "--------------- - -----------------------------------------\n",
       "     M              /     M         \\                      \n",
       "----------- - b   M*|----------- + b|                      \n",
       "rho_c*rho_r         \\rho_c*rho_r    /     /     M         \\\n",
       "                  ------------------- + b*|----------- - b|\n",
       "                      rho_c*rho_r         \\rho_c*rho_r    /"
      ]
     },
     "execution_count": 9,
     "metadata": {},
     "output_type": "execute_result"
    }
   ],
   "source": [
    "P2 = P1.subs(rho, rho_c * rho_r)\n",
    "P2"
   ]
  },
  {
   "cell_type": "code",
   "execution_count": 10,
   "metadata": {
    "collapsed": false
   },
   "outputs": [
    {
     "data": {
      "image/png": "[encoded data removed]",
      "text/latex": [
       "$$\\frac{R T_{c} T_{r}}{\\frac{M}{\\rho_{c} \\rho_{r}} - b} - \\frac{a \\alpha}{\\frac{M}{\\rho_{c} \\rho_{r}} \\left(\\frac{M}{\\rho_{c} \\rho_{r}} + b\\right) + b \\left(\\frac{M}{\\rho_{c} \\rho_{r}} - b\\right)}$$"
      ],
      "text/plain": [
       "   R*T_c*T_r                       a*alpha                 \n",
       "--------------- - -----------------------------------------\n",
       "     M              /     M         \\                      \n",
       "----------- - b   M*|----------- + b|                      \n",
       "rho_c*rho_r         \\rho_c*rho_r    /     /     M         \\\n",
       "                  ------------------- + b*|----------- - b|\n",
       "                      rho_c*rho_r         \\rho_c*rho_r    /"
      ]
     },
     "execution_count": 10,
     "metadata": {},
     "output_type": "execute_result"
    }
   ],
   "source": [
    "P3 = P2.subs(T, T_c * T_r)\n",
    "P3"
   ]
  },
  {
   "cell_type": "code",
   "execution_count": 11,
   "metadata": {
    "collapsed": false
   },
   "outputs": [
    {
     "data": {
      "image/png": "[encoded data removed]",
      "text/latex": [
       "$$\\frac{1}{P_{c}} \\left(\\frac{R T_{c} T_{r}}{\\frac{M}{\\rho_{c} \\rho_{r}} - b} - \\frac{a \\alpha}{\\frac{M}{\\rho_{c} \\rho_{r}} \\left(\\frac{M}{\\rho_{c} \\rho_{r}} + b\\right) + b \\left(\\frac{M}{\\rho_{c} \\rho_{r}} - b\\right)}\\right)$$"
      ],
      "text/plain": [
       "   R*T_c*T_r                       a*alpha                 \n",
       "--------------- - -----------------------------------------\n",
       "     M              /     M         \\                      \n",
       "----------- - b   M*|----------- + b|                      \n",
       "rho_c*rho_r         \\rho_c*rho_r    /     /     M         \\\n",
       "                  ------------------- + b*|----------- - b|\n",
       "                      rho_c*rho_r         \\rho_c*rho_r    /\n",
       "-----------------------------------------------------------\n",
       "                            P_c                            "
      ]
     },
     "execution_count": 11,
     "metadata": {},
     "output_type": "execute_result"
    }
   ],
   "source": [
    "P4 = P3/P_c\n",
    "P4"
   ]
  },
  {
   "cell_type": "code",
   "execution_count": 12,
   "metadata": {
    "collapsed": false
   },
   "outputs": [
    {
     "data": {
      "image/png": "[encoded data removed]",
      "text/latex": [
       "$$\\frac{1}{P_{c}} \\left(- \\frac{\\Omega_{a} R^{2} T_{c}^{2} \\alpha}{P_{c} \\left(\\frac{M}{\\rho_{c} \\rho_{r}} \\left(\\frac{M}{\\rho_{c} \\rho_{r}} + b\\right) + b \\left(\\frac{M}{\\rho_{c} \\rho_{r}} - b\\right)\\right)} + \\frac{R T_{c} T_{r}}{\\frac{M}{\\rho_{c} \\rho_{r}} - b}\\right)$$"
      ],
      "text/plain": [
       "                        2    2                                     \n",
       "               Omega_a*R *T_c *alpha                   R*T_c*T_r   \n",
       "- ----------------------------------------------- + ---------------\n",
       "      /  /     M         \\                      \\        M         \n",
       "      |M*|----------- + b|                      |   ----------- - b\n",
       "      |  \\rho_c*rho_r    /     /     M         \\|   rho_c*rho_r    \n",
       "  P_c*|------------------- + b*|----------- - b||                  \n",
       "      \\    rho_c*rho_r         \\rho_c*rho_r    //                  \n",
       "-------------------------------------------------------------------\n",
       "                                P_c                                "
      ]
     },
     "execution_count": 12,
     "metadata": {},
     "output_type": "execute_result"
    }
   ],
   "source": [
    "P5 = P4.subs(a, omega_a*(R**2)*(T_c**2)/P_c)\n",
    "P5"
   ]
  },
  {
   "cell_type": "code",
   "execution_count": 13,
   "metadata": {
    "collapsed": false
   },
   "outputs": [
    {
     "data": {
      "image/png": "[encoded data removed]",
      "text/latex": [
       "$$\\frac{1}{P_{c}} \\left(- \\frac{\\Omega_{a} R^{2} T_{c}^{2} \\alpha}{P_{c} \\left(\\frac{M}{\\rho_{c} \\rho_{r}} \\left(\\frac{M}{\\rho_{c} \\rho_{r}} + \\frac{\\Omega_{b} R}{P_{c}} T_{c}\\right) + \\frac{\\Omega_{b} R}{P_{c}} T_{c} \\left(\\frac{M}{\\rho_{c} \\rho_{r}} - \\frac{\\Omega_{b} R}{P_{c}} T_{c}\\right)\\right)} + \\frac{R T_{c} T_{r}}{\\frac{M}{\\rho_{c} \\rho_{r}} - \\frac{\\Omega_{b} R}{P_{c}} T_{c}}\\right)$$"
      ],
      "text/plain": [
       "                                          2    2                                                                   \n",
       "                                 Omega_a*R *T_c *alpha                                           R*T_c*T_r         \n",
       "- ----------------------------------------------------------------------------------- + ---------------------------\n",
       "      /  /     M        Omega_b*R*T_c\\                 /     M        Omega_b*R*T_c\\\\        M        Omega_b*R*T_c\n",
       "      |M*|----------- + -------------|   Omega_b*R*T_c*|----------- - -------------||   ----------- - -------------\n",
       "      |  \\rho_c*rho_r        P_c     /                 \\rho_c*rho_r        P_c     /|   rho_c*rho_r        P_c     \n",
       "  P_c*|------------------------------- + -------------------------------------------|                              \n",
       "      \\          rho_c*rho_r                                 P_c                    /                              \n",
       "-------------------------------------------------------------------------------------------------------------------\n",
       "                                                        P_c                                                        "
      ]
     },
     "execution_count": 13,
     "metadata": {},
     "output_type": "execute_result"
    }
   ],
   "source": [
    "P6 = P5.subs(b, omega_b*R*T_c/P_c)\n",
    "P6"
   ]
  },
  {
   "cell_type": "code",
   "execution_count": 14,
   "metadata": {
    "collapsed": false
   },
   "outputs": [
    {
     "data": {
      "image/png": "[encoded data removed]",
      "text/latex": [
       "$$- \\frac{\\Omega_{a} R^{2} T_{c}^{2} \\alpha}{\\frac{M^{2} P_{c}^{2}}{\\rho_{c}^{2} \\rho_{r}^{2}} + \\frac{2 M \\Omega_{b} P_{c}}{\\rho_{c} \\rho_{r}} R T_{c} - \\Omega_{b}^{2} R^{2} T_{c}^{2}} + \\frac{R T_{c} T_{r}}{\\frac{M P_{c}}{\\rho_{c} \\rho_{r}} - \\Omega_{b} R T_{c}}$$"
      ],
      "text/plain": [
       "                            2    2                                                      \n",
       "                   Omega_a*R *T_c *alpha                              R*T_c*T_r         \n",
       "- -------------------------------------------------------- + ---------------------------\n",
       "      2    2                                                    M*P_c                   \n",
       "     M *P_c       2*M*Omega_b*P_c*R*T_c          2  2    2   ----------- - Omega_b*R*T_c\n",
       "  ------------- + --------------------- - Omega_b *R *T_c    rho_c*rho_r                \n",
       "       2      2        rho_c*rho_r                                                      \n",
       "  rho_c *rho_r                                                                          "
      ]
     },
     "execution_count": 14,
     "metadata": {},
     "output_type": "execute_result"
    }
   ],
   "source": [
    "P7 = expand(P6)\n",
    "P7"
   ]
  },
  {
   "cell_type": "code",
   "execution_count": 15,
   "metadata": {
    "collapsed": false
   },
   "outputs": [
    {
     "data": {
      "image/png": "[encoded data removed]",
      "text/latex": [
       "$$- \\frac{\\rho_{r} \\left(\\Omega_{a} \\alpha \\rho_{r} \\left(\\Omega_{b} \\rho_{r} - Z_{c}\\right) + T_{r} \\left(- \\Omega_{b}^{2} \\rho_{r}^{2} + 2 \\Omega_{b} Z_{c} \\rho_{r} + Z_{c}^{2}\\right)\\right)}{\\left(\\Omega_{b} \\rho_{r} - Z_{c}\\right) \\left(- \\Omega_{b}^{2} \\rho_{r}^{2} + 2 \\Omega_{b} Z_{c} \\rho_{r} + Z_{c}^{2}\\right)}$$"
      ],
      "text/plain": [
       "       /                                                /         2      2                            2\\\\ \n",
       "-rho_r*\\Omega_a*alpha*rho_r*(Omega_b*rho_r - Z_c) + T_r*\\- Omega_b *rho_r  + 2*Omega_b*Z_c*rho_r + Z_c // \n",
       "----------------------------------------------------------------------------------------------------------\n",
       "                                        /         2      2                            2\\                  \n",
       "                  (Omega_b*rho_r - Z_c)*\\- Omega_b *rho_r  + 2*Omega_b*Z_c*rho_r + Z_c /                  "
      ]
     },
     "execution_count": 15,
     "metadata": {},
     "output_type": "execute_result"
    }
   ],
   "source": [
    "P8 = P7.subs(T_c, P_c * M / (Z_c * rho_c * R))\n",
    "P_r = simplify(P8)\n",
    "P_r"
   ]
  },
  {
   "cell_type": "code",
   "execution_count": 16,
   "metadata": {
    "collapsed": false
   },
   "outputs": [
    {
     "data": {
      "image/png": "[encoded data removed]",
      "text/latex": [
       "$$- \\frac{\\rho_{oo} \\left(\\Omega_{a} \\alpha \\rho_{oo} \\left(\\Omega_{b} \\rho_{oo} - Z_{c}\\right) + T_{r} \\left(- \\Omega_{b}^{2} \\rho_{oo}^{2} + 2 \\Omega_{b} Z_{c} \\rho_{oo} + Z_{c}^{2}\\right)\\right)}{\\left(\\Omega_{b} \\rho_{oo} - Z_{c}\\right) \\left(- \\Omega_{b}^{2} \\rho_{oo}^{2} + 2 \\Omega_{b} Z_{c} \\rho_{oo} + Z_{c}^{2}\\right)}$$"
      ],
      "text/plain": [
       "        /                                                  /         2       2                             2\\\\ \n",
       "-rho_oo*\\Omega_a*alpha*rho_oo*(Omega_b*rho_oo - Z_c) + T_r*\\- Omega_b *rho_oo  + 2*Omega_b*Z_c*rho_oo + Z_c // \n",
       "---------------------------------------------------------------------------------------------------------------\n",
       "                                          /         2       2                             2\\                   \n",
       "                   (Omega_b*rho_oo - Z_c)*\\- Omega_b *rho_oo  + 2*Omega_b*Z_c*rho_oo + Z_c /                   "
      ]
     },
     "execution_count": 16,
     "metadata": {},
     "output_type": "execute_result"
    }
   ],
   "source": [
    "rho_oo = symbols(\"rho_oo\")\n",
    "P_oo = P_r.subs(rho_r, rho_oo)\n",
    "P_oo"
   ]
  },
  {
   "cell_type": "code",
   "execution_count": 17,
   "metadata": {
    "collapsed": false
   },
   "outputs": [],
   "source": [
    "integrand = expand((P_r - P_oo)/(rho_r ** 2))"
   ]
  },
  {
   "cell_type": "code",
   "execution_count": 18,
   "metadata": {
    "collapsed": true
   },
   "outputs": [],
   "source": [
    "def calculate_helmholtz_excess(\n",
    "    rho_value,     \n",
    "    reduced_temperature, \n",
    "    rho_inf, \n",
    "    eos\n",
    "    ):\n",
    "    # Defining symbols\n",
    "    R, T, v, b, a, alpha, rho = symbols(\"R T v b a alpha rho\")\n",
    "    M, k = symbols(\"M xi\")\n",
    "    P_r, rho_r, T_r = symbols(\"P_r rho_r T_r\")\n",
    "    P_c, rho_c, T_c = symbols(\"P_c rho_c T_c\")\n",
    "    omega_a, omega_b = symbols(\"Omega_a Omega_b\")\n",
    "    Z_c = symbols(\"Z_c\")\n",
    "    rho_oo = symbols(\"rho_oo\")\n",
    "    \n",
    "    P1 = eos.pressure.subs(v, M/rho)\n",
    "    P2 = P1.subs(rho, rho_c * rho_r)\n",
    "    P3 = P2.subs(T, T_c * T_r)\n",
    "    P4 = P3/P_c\n",
    "    P5 = P4.subs(a, omega_a*(R**2)*(T_c**2)/P_c)\n",
    "    P6 = P5.subs(b, omega_b*R*T_c/P_c)\n",
    "    P7 = expand(P6)\n",
    "    P8 = P7.subs(T_c, P_c * M / (Z_c * rho_c * R)) \n",
    "    \n",
    "    P_r = simplify(P8)    \n",
    "    P_oo = P_r.subs(rho_r, rho_oo)    \n",
    "    integrand = ((P_r - P_oo)/(rho_r ** 2))\n",
    "\n",
    "    integrand = integrand.subs(omega_a, eos.omega_a)\n",
    "    integrand = integrand.subs(omega_b, eos.omega_b)\n",
    "    integrand = integrand.subs(Z_c, eos.critical_z_factor)\n",
    "    integrand = integrand.subs(T_r, reduced_temperature)\n",
    "    integrand = integrand.subs(rho_oo, rho_inf)\n",
    "    \n",
    "    func = lambdify(rho_r, integrand)\n",
    "    y, err = integrate.quad(func, rho_inf, rho_value)\n",
    "    return rho_value * y"
   ]
  },
  {
   "cell_type": "code",
   "execution_count": 19,
   "metadata": {
    "collapsed": false
   },
   "outputs": [],
   "source": [
    "# Defining symbols\n",
    "P, R, T, v, b, a, alpha, rho = symbols(\"P R T v b a alpha rho\")\n",
    "def find_correct_root_of_cubic_eos(p0, p1, p2, p3, fluid_type):\n",
    "    coef_a = (3.0 * p2 - (p1 ** 2)) / 3.0        \n",
    "    coef_b = (2.0 * (p1 ** 3) - 9.0 * p1 * p2 + 27.0 * p3) / 27.0        \n",
    "    delta = 0.25 * (coef_b ** 2) + (coef_a ** 3) / 27.0     \n",
    "\n",
    "    if delta > 0.0:\n",
    "        # 1 real root, 2 imaginary                 \n",
    "        const_A =  cbrt(-0.5 * coef_b + sqrt(delta)) \n",
    "        const_B =  cbrt(-0.5 * coef_b - sqrt(delta))\n",
    "\n",
    "        correct_root = const_A + const_B - p1 / 3.0 \n",
    "    else:\n",
    "        # 3 real roots\n",
    "        phi = acos(-0.5 * coef_b / sqrt(-(coef_a ** 3) / 27.0))\n",
    "        root_1 = 2.0 * sqrt(-coef_a / 3.0) * cos(phi / 3.0) - p1 / 3.0\n",
    "        root_2 = 2.0 * sqrt(-coef_a / 3.0) * cos(phi / 3.0 + 2.0 * np.pi / 3.0) - p1 / 3.0\n",
    "        root_3 = 2.0 * sqrt(-coef_a / 3.0) * cos(phi / 3.0 + 4.0 * np.pi / 3.0) - p1 / 3.0\n",
    "\n",
    "        smallest_root = min(min(root_1,root_2), root_3)\n",
    "        largest_root = max(max(root_1,root_2), root_3)\n",
    "\n",
    "        if fluid_type is 'liquid':        \n",
    "            correct_root = smallest_root\n",
    "        else:\n",
    "            assert fluid_type is 'vapor', 'Wrong fluid type! ' + fluid_type\n",
    "            correct_root = largest_root\n",
    "    \n",
    "    assert correct_root > 0.0, fluid_type + ' Z-factor < 0.0! Delta is %f, %f' % (delta, correct_root)\n",
    "    \n",
    "    return correct_root\n",
    "\n",
    "GAS_CONST = 8.314\n",
    "\n",
    "class EquationOfState(object):\n",
    "    def __init__(\n",
    "        self,\n",
    "        critical_pressure, \n",
    "        critical_temperature,\n",
    "        acentric_factor,\n",
    "        molar_mass\n",
    "    ):       \n",
    "        self.critical_pressure = critical_pressure\n",
    "        self.critical_temperature = critical_temperature\n",
    "        self.acentric_factor = acentric_factor\n",
    "        self.molar_mass = molar_mass\n",
    "        \n",
    "        \n",
    "    def calculate_pressure_and_densities(self, temperature):\n",
    "        \n",
    "        def func(x):            \n",
    "            pressure = x\n",
    "            Z_V = eos.calculate_eos_roots(pressure, temperature, 'vapor')\n",
    "            Z_L = eos.calculate_eos_roots(pressure, temperature, 'liquid')\n",
    "        \n",
    "            f_V = eos.calculate_fugacity(pressure, temperature, Z_V)\n",
    "            f_L = eos.calculate_fugacity(pressure, temperature, Z_L)\n",
    "            \n",
    "            return f_V - f_L\n",
    "            \n",
    "        from scipy.optimize import newton\n",
    "        \n",
    "        pressure = newton(func=func, x0=1.0e5)\n",
    "        \n",
    "        Z_V = eos.calculate_eos_roots(pressure, temperature, 'vapor')\n",
    "        Z_L = eos.calculate_eos_roots(pressure, temperature, 'liquid')\n",
    "        \n",
    "        rho_V = pressure * self.molar_mass / (Z_V * GAS_CONST * temperature)\n",
    "        rho_L = pressure * self.molar_mass / (Z_L * GAS_CONST * temperature)\n",
    "        \n",
    "        return pressure, rho_V, rho_L\n",
    "    \n",
    "    \n",
    "class PengRobinsonEos(EquationOfState):\n",
    "    def __init__(\n",
    "        self,\n",
    "        critical_pressure, \n",
    "        critical_temperature,\n",
    "        acentric_factor,\n",
    "        molar_mass\n",
    "    ):\n",
    "        self.omega_a = 0.45724\n",
    "        self.omega_b = 0.07780\n",
    "        self.critical_z_factor = 0.3074\n",
    "        self.pressure = R * T / (v - b) - a*alpha / (v*(v + b) + b*(v - b))\n",
    "        \n",
    "        EquationOfState.__init__(self, critical_pressure, critical_temperature, acentric_factor, molar_mass)\n",
    "\n",
    "    \n",
    "    def alpha_function(self, reduced_temperature):\n",
    "        omega = self.acentric_factor\n",
    "        \n",
    "        if omega < 0.49:\n",
    "            m = 0.37464 + 1.54226 * omega - 0.26992 * (omega ** 2)\n",
    "        else:\n",
    "            m = 0.379642 + 1.48503 * omega - 0.164423 * (omega ** 2) + 0.016667 * (omega ** 3)\n",
    "        \n",
    "        return (1.0 + m * (1.0 - sqrt(reduced_temperature))) ** 2\n",
    "    \n",
    "    \n",
    "    def calculate_fugacity(\n",
    "        self,\n",
    "        pressure,\n",
    "        temperature,\n",
    "        z_factor\n",
    "    ):\n",
    "        P = pressure\n",
    "        T = temperature\n",
    "        Z = z_factor\n",
    "        \n",
    "        Pr = P / self.critical_pressure\n",
    "        Tr = T / self.critical_temperature\n",
    "        \n",
    "        aa = self.alpha_function(Tr)\n",
    "        \n",
    "        A = aa * self.omega_a * Pr / (Tr ** 2)\n",
    "        B = self.omega_b * Pr / Tr\n",
    "        \n",
    "        SQRT_2 = sqrt(2.0)        \n",
    "        ln_f = (Z - 1.0) - log( Z - B ) - (A / (2.0 * SQRT_2 * B)) \\\n",
    "             * log( (Z + (1.0 + SQRT_2)*B)/(Z + (1.0 - SQRT_2)*B) )\n",
    "        return P * exp(ln_f)\n",
    "        \n",
    "        \n",
    "    def calculate_eos_roots(self, pressure, temperature, fluid_type):\n",
    "        P = pressure\n",
    "        T = temperature\n",
    "\n",
    "        Pr = P / self.critical_pressure\n",
    "        Tr = T / self.critical_temperature\n",
    "        \n",
    "        aa = self.alpha_function(Tr)\n",
    "        \n",
    "        A = aa * self.omega_a * Pr / (Tr ** 2)\n",
    "        B = self.omega_b * Pr / Tr      \n",
    "        \n",
    "        p0 = 1.0\n",
    "        p1 = - (1.0 - B)\n",
    "        p2 = A - 3.0 * (B ** 2) - 2.0 * B\n",
    "        p3 = -(A * B - B ** 2 - B ** 3)     \n",
    "\n",
    "        return find_correct_root_of_cubic_eos(p0, p1, p2, p3, fluid_type)       \n",
    "        \n",
    "        \n",
    "class VanDerWaalsEos(EquationOfState):\n",
    "    def __init__(\n",
    "        self,\n",
    "        critical_pressure, \n",
    "        critical_temperature,\n",
    "        acentric_factor,\n",
    "        molar_mass\n",
    "    ):\n",
    "        self.omega_a = 27.0/64.0\n",
    "        self.omega_b = 1.0/8.0\n",
    "        self.critical_z_factor = 3.0/8.0\n",
    "        self.pressure = R * T / (v - b) - a / (v**2)\n",
    "       \n",
    "        EquationOfState.__init__(self, critical_pressure, critical_temperature, acentric_factor, molar_mass)\n",
    "        \n",
    "    def calculate_fugacity(\n",
    "        self,\n",
    "        pressure,\n",
    "        temperature,\n",
    "        z_factor\n",
    "    ):\n",
    "        P = pressure\n",
    "        T = temperature\n",
    "        Z = z_factor\n",
    "        Pr = P / self.critical_pressure\n",
    "        Tr = T / self.critical_temperature\n",
    "        \n",
    "        A = self.omega_a * Pr / (Tr ** 2)\n",
    "        B = self.omega_b * Pr / Tr\n",
    "        \n",
    "        ln_f = B / (Z - B) - log(Z - B) - 2.0 * A / Z\n",
    "        return P * exp(ln_f)\n",
    "    \n",
    "    \n",
    "    def calculate_eos_roots(self, pressure, temperature, fluid_type):\n",
    "        P = pressure\n",
    "        T = temperature\n",
    "\n",
    "        Pr = P / self.critical_pressure\n",
    "        Tr = T / self.critical_temperature\n",
    "        \n",
    "        A = self.omega_a * Pr / (Tr ** 2)\n",
    "        B = self.omega_b * Pr / Tr\n",
    "        \n",
    "        p0 = 1.0\n",
    "        p1 = - (B + 1.0)\n",
    "        p2 = A\n",
    "        p3 = - A * B   \n",
    "        \n",
    "        return find_correct_root_of_cubic_eos(p0, p1, p2, p3, fluid_type)    \n",
    "    \n",
    "    \n",
    "\n"
   ]
  },
  {
   "cell_type": "code",
   "execution_count": 20,
   "metadata": {
    "collapsed": false
   },
   "outputs": [
    {
     "name": "stdout",
     "output_type": "stream",
     "text": [
      "0.982476817228185\n",
      "98277.1196134455\n",
      "newton results\n",
      "714812.851555774 714812.851555785 23.2593689522383 352.245583099088 835569.339164810\n"
     ]
    }
   ],
   "source": [
    "temperature = 303.15\n",
    "#pressure = 500.0 * 6894.75729\n",
    "pressure = 1.0 * 1.0e5\n",
    "\n",
    "# n-Butane properties\n",
    "critical_pressure = 6894.75729 * 550.7\n",
    "critical_temperature = (5.0 / 9.0) * 765.3 # [K]\n",
    "acentric_factor = 0.192800 # [-]\n",
    "molar_mass = 58.12 * 0.001 # [kg/mol]\n",
    "\n",
    "eos = VanDerWaalsEos(critical_pressure, critical_temperature, acentric_factor, molar_mass)\n",
    "Zfactor = eos.calculate_eos_roots(pressure, temperature, 'vapor')\n",
    "print Zfactor\n",
    "print eos.calculate_fugacity(pressure, temperature, Zfactor)\n",
    "\n",
    "\n",
    "print 'newton results'\n",
    "\n",
    "\n",
    "pressure, rho_V, rho_L = eos.calculate_pressure_and_densities(temperature)\n",
    "Z_V = eos.calculate_eos_roots(pressure, temperature, 'vapor')\n",
    "Z_L = eos.calculate_eos_roots(pressure, temperature, 'liquid')\n",
    "f_V = eos.calculate_fugacity(pressure, temperature, Z_V)\n",
    "f_L = eos.calculate_fugacity(pressure, temperature, Z_L)\n",
    "\n",
    "print f_V, f_L, rho_V, rho_L, pressure"
   ]
  },
  {
   "cell_type": "markdown",
   "metadata": {},
   "source": [
    "# Step by step\n",
    "\n",
    "1. Given the temperature and an Equation of State\n",
    "2. Calculate the pressure and the densities"
   ]
  },
  {
   "cell_type": "code",
   "execution_count": 22,
   "metadata": {
    "collapsed": false
   },
   "outputs": [
    {
     "name": "stdout",
     "output_type": "stream",
     "text": [
      "0.4 2.58793748432490\n",
      "0.425 2.55695590908282\n",
      "0.45 2.52509676795955\n",
      "0.475 2.49229809695853\n",
      "0.5 2.45849200035004\n"
     ]
    }
   ],
   "source": [
    "# n-Butane properties\n",
    "critical_pressure = 6894.75729 * 550.7\n",
    "critical_temperature = (5.0 / 9.0) * 765.3 # [K]\n",
    "acentric_factor = 0.192800 # [-]\n",
    "molar_mass = 58.12 * 0.001 # [kg/mol]\n",
    "\n",
    "eos = VanDerWaalsEos(critical_pressure, critical_temperature, acentric_factor, molar_mass)\n",
    "\n",
    "reduced_temperatures = np.linspace(0.4, 0.5, num=5)\n",
    "#temperature = 303.15\n",
    "for reduced_temperature in reduced_temperatures:\n",
    "    temperature = reduced_temperature * critical_temperature\n",
    "    \n",
    "    pressure, rho_V, rho_L = eos.calculate_pressure_and_densities(temperature)\n",
    "\n",
    "    rho_c = eos.critical_pressure * eos.molar_mass / (eos.critical_z_factor * GAS_CONST * eos.critical_temperature)\n",
    "    rho_inf = rho_L / rho_c \n",
    "    \n",
    "    print reduced_temperature, rho_inf\n",
    "    \n",
    "    reduced_densities = np.linspace(0.01, 2.5, num=20)\n",
    "    psi_vec = []\n",
    "    for rho in reduced_densities:\n",
    "        psi = calculate_helmholtz_excess(\n",
    "            rho_value=rho, \n",
    "            reduced_temperature=reduced_temperature, \n",
    "            rho_inf=rho_inf,\n",
    "            eos=eos\n",
    "            )\n",
    "        psi_vec.append(psi)\n",
    "    psi_vec = np.array(psi_vec)\n",
    "\n",
    "    plt.plot(reduced_densities, psi_vec, marker='o')\n",
    "\n",
    "\n",
    "ax = plt.gca()\n",
    "ax.grid(True)\n",
    "plt.show()\n"
   ]
  },
  {
   "cell_type": "code",
   "execution_count": 23,
   "metadata": {
    "collapsed": false
   },
   "outputs": [
    {
     "name": "stdout",
     "output_type": "stream",
     "text": [
      "0.8 0.0921619264335243 761687.713668340 18.7170808941358 534.554641682232\n"
     ]
    }
   ],
   "source": [
    "# n-Butane properties\n",
    "critical_pressure = 6894.75729 * 550.7\n",
    "critical_temperature = (5.0 / 9.0) * 765.3 # [K]\n",
    "acentric_factor = 0.192800 # [-]\n",
    "molar_mass = 58.12 * 0.001 # [kg/mol]\n",
    "\n",
    "eos = PengRobinsonEos(critical_pressure, critical_temperature, acentric_factor, molar_mass)\n",
    "\n",
    "reduced_temperatures = np.linspace(0.8, 0.8, num=1)\n",
    "#temperature = 303.15\n",
    "for reduced_temperature in reduced_temperatures:\n",
    "    temperature = reduced_temperature * critical_temperature    \n",
    "    pressure, rho_V, rho_L = eos.calculate_pressure_and_densities(temperature)\n",
    "\n",
    "    rho_c = eos.critical_pressure * eos.molar_mass / (eos.critical_z_factor * GAS_CONST * eos.critical_temperature)\n",
    "    rho_inf = rho_V / rho_c \n",
    "    \n",
    "    print reduced_temperature, rho_inf, pressure, rho_V, rho_L\n",
    "    \n",
    "    eos.pressure = eos.pressure.subs(alpha, eos.alpha_function(reduced_temperature))    \n",
    "    \n",
    "    reduced_densities = np.linspace(0.1, 2.6, num=40)\n",
    "    \n",
    "    psi_vec = []\n",
    "    reduced_densities_to_plot = []\n",
    "    \n",
    "    for rho in reduced_densities:\n",
    "        psi = calculate_helmholtz_excess(\n",
    "            rho_value=rho, \n",
    "            reduced_temperature=reduced_temperature, \n",
    "            rho_inf=rho_inf,\n",
    "            eos=eos\n",
    "            )\n",
    "        \n",
    "        if psi < 0.0:\n",
    "            continue\n",
    "            \n",
    "        reduced_densities_to_plot.append(rho)\n",
    "        psi_vec.append(psi)\n",
    "        \n",
    "    psi_vec = np.array(psi_vec)\n",
    "\n",
    "    plt.plot(reduced_densities_to_plot, psi_vec, marker='o')\n",
    "\n",
    "\n",
    "ax = plt.gca()\n",
    "ax.grid(True)\n",
    "plt.show()\n"
   ]
  },
  {
   "cell_type": "code",
   "execution_count": 24,
   "metadata": {
    "collapsed": true
   },
   "outputs": [],
   "source": [
    "def gamma_VL(kappa, eos, integral): \n",
    "    rho_c = eos.critical_pressure * eos.molar_mass / (eos.critical_z_factor * GAS_CONST * eos.critical_temperature)\n",
    "    return rho_c * sqrt(2.0 * eos.critical_pressure * kappa) * integral\n",
    "\n",
    "def integrate_helholtz(eos, reduced_temperature, rho_V_r, rho_L_r):\n",
    "    def func(x):\n",
    "        psi = calculate_helmholtz_excess(\n",
    "                rho_value=x, \n",
    "                reduced_temperature=reduced_temperature, \n",
    "                rho_inf=rho_V_r,\n",
    "                eos=eos\n",
    "                )\n",
    "        return psi\n",
    "        \n",
    "    y, err = integrate.quad(func, rho_V_r, rho_L_r)\n",
    "    return y"
   ]
  },
  {
   "cell_type": "markdown",
   "metadata": {},
   "source": [
    "# Calculate Interfacial Tension"
   ]
  },
  {
   "cell_type": "code",
   "execution_count": 25,
   "metadata": {
    "collapsed": false
   },
   "outputs": [],
   "source": [
    "reduced_temperature = 0.8\n",
    "rho_V = 18.7170808941358 \n",
    "rho_L = 534.554641682232\n",
    "\n",
    "# n-Butane properties\n",
    "critical_pressure = 6894.75729 * 550.7\n",
    "critical_temperature = (5.0 / 9.0) * 765.3 # [K]\n",
    "acentric_factor = 0.192800 # [-]\n",
    "molar_mass = 58.12 * 0.001 # [kg/mol]\n",
    "\n",
    "eos = PengRobinsonEos(critical_pressure, critical_temperature, acentric_factor, molar_mass)\n",
    "eos.pressure = eos.pressure.subs(alpha, eos.alpha_function(reduced_temperature))  \n",
    "\n",
    "rho_c = eos.critical_pressure * eos.molar_mass / (eos.critical_z_factor * GAS_CONST * eos.critical_temperature)\n",
    "\n",
    "rho_V_r = rho_V / rho_c\n",
    "rho_L_r = rho_L / rho_c\n",
    "\n",
    "integral = integrate_helholtz(eos, reduced_temperature, rho_V_r, rho_L_r)\n",
    "\n",
    "kappa_values = np.linspace(4.0e-17, 2.0e-16, num=20)\n",
    "\n",
    "gamma_calc = []\n",
    "for kappa in kappa_values:\n",
    "    gamma_calc.append(gamma_VL(kappa, eos, integral))\n",
    "\n",
    "    \n",
    "plt.semilogy(gamma_calc, kappa_values, marker='o')\n",
    "\n",
    "\n",
    "#plt.plot(gamma_calc, kappa_values, marker='o')\n",
    "ax = plt.gca()\n",
    "ax.grid(True, which=u'both')\n",
    "\n",
    "plt.show()"
   ]
  },
  {
   "cell_type": "markdown",
   "metadata": {
    "collapsed": false
   },
   "source": [
    "# TODO\n",
    "\n",
    "Calculate the above curve for various temperatures\n",
    "\n",
    "Calculate the equilibrium contact angle as a function of $\\phi^*$\n",
    "\n",
    "$$\n",
    "\\cos \\theta = \\frac{\\gamma_{sv} - \\gamma_{sl}}{\\gamma_{lv}}\n",
    "$$\n",
    "\n",
    "$$\n",
    "\\phi^* = \\frac{\\phi}{\\sqrt{\\kappa P_c}} = \\pm \\sqrt{2 \\Psi^*_{exc}(\\rho_s, T)}\n",
    "$$\n",
    "\n",
    "$$\n",
    "\\gamma_{vs} = \\Phi(\\rho_s) + \\rho_c \\sqrt{\\kappa P_c} \\int^{\\rho^*_{sv}}_{\\rho^*_{v}} \\sqrt{2 \\Psi^*_{exc}} d\\rho^*\n",
    "$$\n",
    "\n",
    "$$\n",
    "\\gamma_{ls} = \\Phi(\\rho_s) + \\rho_c \\sqrt{\\kappa P_c} \\int^{\\rho^*_{sl}}_{\\rho^*_{l}} \\sqrt{2 \\Psi^*_{exc}} d\\rho^*\n",
    "$$\n",
    "\n",
    "$$\n",
    "\\Phi(\\rho_s) = - \\phi \\rho^*_{s} \\rho_c\n",
    "$$\n",
    "\n",
    "$$\n",
    "\\phi = \\phi^* \\sqrt{\\kappa P_c}\n",
    "$$\n",
    "\n",
    "Obs: Check out fig 3.9 to find the roots of eq $\\phi^* = \\frac{\\phi}{\\sqrt{\\kappa P_c}} = \\pm \\sqrt{2 \\Psi^*_{exc}(\\rho_s, T)}$\n",
    "\n",
    "We also can get $\\kappa$ from \n",
    "\n",
    "$$\n",
    "\\gamma_{lv} = \\rho_c \\sqrt{2 \\kappa P_c} \\int^{\\rho^*_{l}}_{\\rho^*_{v}} \\sqrt{\\Psi^*_{exc}} d\\rho^*\n",
    "$$"
   ]
  },
  {
   "cell_type": "code",
   "execution_count": null,
   "metadata": {
    "collapsed": false
   },
   "outputs": [],
   "source": []
  },
  {
   "cell_type": "markdown",
   "metadata": {
    "collapsed": true
   },
   "source": [
    "First, let's plot the curve $\\sqrt{2 \\Psi^*_{exc}(\\rho, T)}$ and intersect it with $\\phi^* = 0.2$"
   ]
  },
  {
   "cell_type": "code",
   "execution_count": 33,
   "metadata": {
    "collapsed": false
   },
   "outputs": [],
   "source": [
    "reduced_temperature = 0.8\n",
    "rho_V = 18.7170808941358 \n",
    "rho_L = 534.554641682232\n",
    "\n",
    "# n-Butane properties\n",
    "critical_pressure = 6894.75729 * 550.7\n",
    "critical_temperature = (5.0 / 9.0) * 765.3 # [K]\n",
    "acentric_factor = 0.192800 # [-]\n",
    "molar_mass = 58.12 * 0.001 # [kg/mol]\n",
    "\n",
    "eos = PengRobinsonEos(critical_pressure, critical_temperature, acentric_factor, molar_mass)\n",
    "eos.pressure = eos.pressure.subs(alpha, eos.alpha_function(reduced_temperature))  \n",
    "\n",
    "rho_c = eos.critical_pressure * eos.molar_mass / (eos.critical_z_factor * GAS_CONST * eos.critical_temperature)\n",
    "\n",
    "rho_V_r = rho_V / rho_c\n",
    "rho_L_r = rho_L / rho_c\n",
    "\n",
    "reduced_densities = np.linspace(0.0001, 3.5, num=150)\n",
    "    \n",
    "psi_vec = []\n",
    "reduced_densities_to_plot = []\n",
    "\n",
    "for rho in reduced_densities:\n",
    "    psi = calculate_helmholtz_excess(\n",
    "        rho_value=rho, \n",
    "        reduced_temperature=reduced_temperature, \n",
    "        rho_inf=rho_V_r,\n",
    "        eos=eos\n",
    "        )\n",
    "\n",
    "    reduced_densities_to_plot.append(rho)\n",
    "    psi_vec.append(psi)\n",
    "\n",
    "psi_vec = np.array(psi_vec)\n",
    "\n",
    "plt.plot(reduced_densities_to_plot, psi_vec, marker='o')\n",
    "\n",
    "phi_r = 0.2 * np.ones(len(reduced_densities_to_plot))\n",
    "plt.plot(reduced_densities_to_plot, phi_r, 'k--')\n",
    "\n",
    "ax = plt.gca()\n",
    "ax.grid(True)\n",
    "plt.show()"
   ]
  },
  {
   "cell_type": "markdown",
   "metadata": {},
   "source": [
    "Now we need to find the roots of the equation $\\phi^* - \\sqrt{2 \\Psi^*_{exc}(\\rho, T)} = 0$ and find $\\rho_s$\n",
    "\n",
    "TO BE CONTINUED..."
   ]
  },
  {
   "cell_type": "code",
   "execution_count": null,
   "metadata": {
    "collapsed": true
   },
   "outputs": [],
   "source": []
  }
 ],
 "metadata": {
  "kernelspec": {
   "display_name": "Python 2",
   "language": "python",
   "name": "python2"
  },
  "language_info": {
   "codemirror_mode": {
    "name": "ipython",
    "version": 2
   },
   "file_extension": ".py",
   "mimetype": "text/x-python",
   "name": "python",
   "nbconvert_exporter": "python",
   "pygments_lexer": "ipython2",
   "version": "2.7.9"
  }
 },
 "nbformat": 4,
 "nbformat_minor": 0
}
