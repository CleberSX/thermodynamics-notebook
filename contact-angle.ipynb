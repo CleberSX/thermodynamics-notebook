{
 "cells": [
  {
   "cell_type": "code",
   "execution_count": 324,
   "metadata": {
    "collapsed": true
   },
   "outputs": [],
   "source": [
    "from sympy import *\n",
    "from sympy import init_printing\n",
    "import numpy as np\n",
    "import matplotlib.pyplot as plt\n",
    "from scipy import integrate\n",
    "from scipy.optimize import newton\n",
    "\n",
    "init_printing(use_unicode=False, wrap_line=False, no_global=True)"
   ]
  },
  {
   "cell_type": "code",
   "execution_count": 325,
   "metadata": {
    "collapsed": true
   },
   "outputs": [],
   "source": [
    "def calculate_helmholtz_excess(\n",
    "    rho_value,     \n",
    "    reduced_temperature, \n",
    "    rho_inf, \n",
    "    eos\n",
    "    ):\n",
    "    # Defining symbols\n",
    "    R, T, v, b, a, alpha, rho = symbols(\"R T v b a alpha rho\")\n",
    "    M, k = symbols(\"M xi\")\n",
    "    P_r, rho_r, T_r = symbols(\"P_r rho_r T_r\")\n",
    "    P_c, rho_c, T_c = symbols(\"P_c rho_c T_c\")\n",
    "    omega_a, omega_b = symbols(\"Omega_a Omega_b\")\n",
    "    Z_c = symbols(\"Z_c\")\n",
    "    rho_oo = symbols(\"rho_oo\")\n",
    "    \n",
    "    P1 = eos.pressure.subs(v, M/rho)\n",
    "    P2 = P1.subs(rho, rho_c * rho_r)\n",
    "    P3 = P2.subs(T, T_c * T_r)\n",
    "    P4 = P3/P_c\n",
    "    P5 = P4.subs(a, omega_a*(R**2)*(T_c**2)/P_c)\n",
    "    P6 = P5.subs(b, omega_b*R*T_c/P_c)\n",
    "    P7 = expand(P6)\n",
    "    P8 = P7.subs(T_c, P_c * M / (Z_c * rho_c * R)) \n",
    "    \n",
    "    P_r = simplify(P8)    \n",
    "    P_oo = P_r.subs(rho_r, rho_oo)    \n",
    "    integrand = ((P_r - P_oo)/(rho_r ** 2))\n",
    "\n",
    "    integrand = integrand.subs(omega_a, eos.omega_a)\n",
    "    integrand = integrand.subs(omega_b, eos.omega_b)\n",
    "    integrand = integrand.subs(Z_c, eos.critical_z_factor)\n",
    "    integrand = integrand.subs(T_r, reduced_temperature)\n",
    "    integrand = integrand.subs(rho_oo, rho_inf)\n",
    "    \n",
    "    func = lambdify(rho_r, integrand)\n",
    "    y, err = integrate.quad(func, rho_inf, rho_value)\n",
    "    return rho_value * y"
   ]
  },
  {
   "cell_type": "code",
   "execution_count": 326,
   "metadata": {
    "collapsed": false
   },
   "outputs": [],
   "source": [
    "# Defining symbols\n",
    "P, R, T, v, b, a, alpha, rho = symbols(\"P R T v b a alpha rho\")\n",
    "def find_correct_root_of_cubic_eos(p0, p1, p2, p3, fluid_type):\n",
    "    coef_a = (3.0 * p2 - (p1 ** 2)) / 3.0        \n",
    "    coef_b = (2.0 * (p1 ** 3) - 9.0 * p1 * p2 + 27.0 * p3) / 27.0        \n",
    "    delta = 0.25 * (coef_b ** 2) + (coef_a ** 3) / 27.0     \n",
    "\n",
    "    if delta > 0.0:\n",
    "        # 1 real root, 2 imaginary                 \n",
    "        const_A =  cbrt(-0.5 * coef_b + sqrt(delta)) \n",
    "        const_B =  cbrt(-0.5 * coef_b - sqrt(delta))\n",
    "\n",
    "        correct_root = const_A + const_B - p1 / 3.0 \n",
    "    else:\n",
    "        # 3 real roots\n",
    "        phi = acos(-0.5 * coef_b / sqrt(-(coef_a ** 3) / 27.0))\n",
    "        root_1 = 2.0 * sqrt(-coef_a / 3.0) * cos(phi / 3.0) - p1 / 3.0\n",
    "        root_2 = 2.0 * sqrt(-coef_a / 3.0) * cos(phi / 3.0 + 2.0 * np.pi / 3.0) - p1 / 3.0\n",
    "        root_3 = 2.0 * sqrt(-coef_a / 3.0) * cos(phi / 3.0 + 4.0 * np.pi / 3.0) - p1 / 3.0\n",
    "\n",
    "        smallest_root = min(min(root_1,root_2), root_3)\n",
    "        largest_root = max(max(root_1,root_2), root_3)\n",
    "\n",
    "        if fluid_type is 'liquid':        \n",
    "            correct_root = smallest_root\n",
    "        else:\n",
    "            assert fluid_type is 'vapor', 'Wrong fluid type! ' + fluid_type\n",
    "            correct_root = largest_root\n",
    "    \n",
    "    assert correct_root > 0.0, fluid_type + ' Z-factor < 0.0! Delta is %f, %f' % (delta, correct_root)\n",
    "    \n",
    "    return correct_root\n",
    "\n",
    "GAS_CONST = 8.314\n",
    "\n",
    "class EquationOfState(object):\n",
    "    def __init__(\n",
    "        self,\n",
    "        critical_pressure, \n",
    "        critical_temperature,\n",
    "        acentric_factor,\n",
    "        molar_mass\n",
    "    ):       \n",
    "        self.critical_pressure = critical_pressure\n",
    "        self.critical_temperature = critical_temperature\n",
    "        self.acentric_factor = acentric_factor\n",
    "        self.molar_mass = molar_mass\n",
    "        \n",
    "        \n",
    "    def calculate_pressure_and_densities(self, temperature):\n",
    "        \n",
    "        def func(x):            \n",
    "            pressure = x\n",
    "            Z_V = eos.calculate_eos_roots(pressure, temperature, 'vapor')\n",
    "            Z_L = eos.calculate_eos_roots(pressure, temperature, 'liquid')\n",
    "        \n",
    "            f_V = eos.calculate_fugacity(pressure, temperature, Z_V)\n",
    "            f_L = eos.calculate_fugacity(pressure, temperature, Z_L)\n",
    "            \n",
    "            return f_V - f_L\n",
    "        \n",
    "        pressure = newton(func=func, x0=1.0e5)\n",
    "        \n",
    "        Z_V = eos.calculate_eos_roots(pressure, temperature, 'vapor')\n",
    "        Z_L = eos.calculate_eos_roots(pressure, temperature, 'liquid')\n",
    "        \n",
    "        rho_V = pressure * self.molar_mass / (Z_V * GAS_CONST * temperature)\n",
    "        rho_L = pressure * self.molar_mass / (Z_L * GAS_CONST * temperature)\n",
    "        \n",
    "        return pressure, rho_V, rho_L\n",
    "    \n",
    "    \n",
    "class PengRobinsonEos(EquationOfState):\n",
    "    def __init__(\n",
    "        self,\n",
    "        critical_pressure, \n",
    "        critical_temperature,\n",
    "        acentric_factor,\n",
    "        molar_mass\n",
    "    ):\n",
    "        self.omega_a = 0.45724\n",
    "        self.omega_b = 0.07780\n",
    "        self.critical_z_factor = 0.3074\n",
    "        self.pressure = R * T / (v - b) - a*alpha / (v*(v + b) + b*(v - b))\n",
    "        \n",
    "        EquationOfState.__init__(self, critical_pressure, critical_temperature, acentric_factor, molar_mass)\n",
    "\n",
    "    \n",
    "    def alpha_function(self, reduced_temperature):\n",
    "        omega = self.acentric_factor\n",
    "        \n",
    "        if omega < 0.49:\n",
    "            m = 0.37464 + 1.54226 * omega - 0.26992 * (omega ** 2)\n",
    "        else:\n",
    "            m = 0.379642 + 1.48503 * omega - 0.164423 * (omega ** 2) + 0.016667 * (omega ** 3)\n",
    "        \n",
    "        return (1.0 + m * (1.0 - sqrt(reduced_temperature))) ** 2\n",
    "    \n",
    "    \n",
    "    def calculate_fugacity(\n",
    "        self,\n",
    "        pressure,\n",
    "        temperature,\n",
    "        z_factor\n",
    "    ):\n",
    "        P = pressure\n",
    "        T = temperature\n",
    "        Z = z_factor\n",
    "        \n",
    "        Pr = P / self.critical_pressure\n",
    "        Tr = T / self.critical_temperature\n",
    "        \n",
    "        aa = self.alpha_function(Tr)\n",
    "        \n",
    "        A = aa * self.omega_a * Pr / (Tr ** 2)\n",
    "        B = self.omega_b * Pr / Tr\n",
    "        \n",
    "        SQRT_2 = sqrt(2.0)        \n",
    "        ln_f = (Z - 1.0) - log( Z - B ) - (A / (2.0 * SQRT_2 * B)) \\\n",
    "             * log( (Z + (1.0 + SQRT_2)*B)/(Z + (1.0 - SQRT_2)*B) )\n",
    "        return P * exp(ln_f)\n",
    "        \n",
    "        \n",
    "    def calculate_eos_roots(self, pressure, temperature, fluid_type):\n",
    "        P = pressure\n",
    "        T = temperature\n",
    "\n",
    "        Pr = P / self.critical_pressure\n",
    "        Tr = T / self.critical_temperature\n",
    "        \n",
    "        aa = self.alpha_function(Tr)\n",
    "        \n",
    "        A = aa * self.omega_a * Pr / (Tr ** 2)\n",
    "        B = self.omega_b * Pr / Tr      \n",
    "        \n",
    "        p0 = 1.0\n",
    "        p1 = - (1.0 - B)\n",
    "        p2 = A - 3.0 * (B ** 2) - 2.0 * B\n",
    "        p3 = -(A * B - B ** 2 - B ** 3)     \n",
    "\n",
    "        return find_correct_root_of_cubic_eos(p0, p1, p2, p3, fluid_type)       \n",
    "        \n",
    "        \n",
    "class VanDerWaalsEos(EquationOfState):\n",
    "    def __init__(\n",
    "        self,\n",
    "        critical_pressure, \n",
    "        critical_temperature,\n",
    "        acentric_factor,\n",
    "        molar_mass\n",
    "    ):\n",
    "        self.omega_a = 27.0/64.0\n",
    "        self.omega_b = 1.0/8.0\n",
    "        self.critical_z_factor = 3.0/8.0\n",
    "        self.pressure = R * T / (v - b) - a / (v**2)\n",
    "       \n",
    "        EquationOfState.__init__(self, critical_pressure, critical_temperature, acentric_factor, molar_mass)\n",
    "        \n",
    "    def calculate_fugacity(\n",
    "        self,\n",
    "        pressure,\n",
    "        temperature,\n",
    "        z_factor\n",
    "    ):\n",
    "        P = pressure\n",
    "        T = temperature\n",
    "        Z = z_factor\n",
    "        Pr = P / self.critical_pressure\n",
    "        Tr = T / self.critical_temperature\n",
    "        \n",
    "        A = self.omega_a * Pr / (Tr ** 2)\n",
    "        B = self.omega_b * Pr / Tr\n",
    "        \n",
    "        ln_f = B / (Z - B) - log(Z - B) - 2.0 * A / Z\n",
    "        return P * exp(ln_f)\n",
    "    \n",
    "    \n",
    "    def calculate_eos_roots(self, pressure, temperature, fluid_type):\n",
    "        P = pressure\n",
    "        T = temperature\n",
    "\n",
    "        Pr = P / self.critical_pressure\n",
    "        Tr = T / self.critical_temperature\n",
    "        \n",
    "        A = self.omega_a * Pr / (Tr ** 2)\n",
    "        B = self.omega_b * Pr / Tr\n",
    "        \n",
    "        p0 = 1.0\n",
    "        p1 = - (B + 1.0)\n",
    "        p2 = A\n",
    "        p3 = - A * B   \n",
    "        \n",
    "        return find_correct_root_of_cubic_eos(p0, p1, p2, p3, fluid_type) "
   ]
  },
  {
   "cell_type": "code",
   "execution_count": 327,
   "metadata": {
    "collapsed": false
   },
   "outputs": [
    {
     "name": "stdout",
     "output_type": "stream",
     "text": [
      "0.982476817228185\n",
      "98277.1196134455\n",
      "newton results\n",
      "714812.851555774 714812.851555785 23.2593689522383 352.245583099088 835569.339164810\n"
     ]
    }
   ],
   "source": [
    "temperature = 303.15\n",
    "#pressure = 500.0 * 6894.75729\n",
    "pressure = 1.0 * 1.0e5\n",
    "\n",
    "# n-Butane properties\n",
    "critical_pressure = 6894.75729 * 550.7\n",
    "critical_temperature = (5.0 / 9.0) * 765.3 # [K]\n",
    "acentric_factor = 0.192800 # [-]\n",
    "molar_mass = 58.12 * 0.001 # [kg/mol]\n",
    "\n",
    "eos = VanDerWaalsEos(critical_pressure, critical_temperature, acentric_factor, molar_mass)\n",
    "Zfactor = eos.calculate_eos_roots(pressure, temperature, 'vapor')\n",
    "print Zfactor\n",
    "print eos.calculate_fugacity(pressure, temperature, Zfactor)\n",
    "\n",
    "\n",
    "print 'newton results'\n",
    "\n",
    "\n",
    "pressure, rho_V, rho_L = eos.calculate_pressure_and_densities(temperature)\n",
    "Z_V = eos.calculate_eos_roots(pressure, temperature, 'vapor')\n",
    "Z_L = eos.calculate_eos_roots(pressure, temperature, 'liquid')\n",
    "f_V = eos.calculate_fugacity(pressure, temperature, Z_V)\n",
    "f_L = eos.calculate_fugacity(pressure, temperature, Z_L)\n",
    "\n",
    "print f_V, f_L, rho_V, rho_L, pressure"
   ]
  },
  {
   "cell_type": "markdown",
   "metadata": {},
   "source": [
    "# Step by step\n",
    "\n",
    "1. Given the temperature and an Equation of State\n",
    "2. Calculate the pressure and the densities"
   ]
  },
  {
   "cell_type": "code",
   "execution_count": 22,
   "metadata": {
    "collapsed": false
   },
   "outputs": [
    {
     "name": "stdout",
     "output_type": "stream",
     "text": [
      "0.4 2.58793748432490\n",
      "0.425 2.55695590908282\n",
      "0.45 2.52509676795955\n",
      "0.475 2.49229809695853\n",
      "0.5 2.45849200035004\n"
     ]
    }
   ],
   "source": [
    "# n-Butane properties\n",
    "critical_pressure = 6894.75729 * 550.7\n",
    "critical_temperature = (5.0 / 9.0) * 765.3 # [K]\n",
    "acentric_factor = 0.192800 # [-]\n",
    "molar_mass = 58.12 * 0.001 # [kg/mol]\n",
    "\n",
    "eos = VanDerWaalsEos(critical_pressure, critical_temperature, acentric_factor, molar_mass)\n",
    "\n",
    "reduced_temperatures = np.linspace(0.4, 0.5, num=5)\n",
    "#temperature = 303.15\n",
    "for reduced_temperature in reduced_temperatures:\n",
    "    temperature = reduced_temperature * critical_temperature\n",
    "    \n",
    "    pressure, rho_V, rho_L = eos.calculate_pressure_and_densities(temperature)\n",
    "\n",
    "    rho_c = eos.critical_pressure * eos.molar_mass / (eos.critical_z_factor * GAS_CONST * eos.critical_temperature)\n",
    "    rho_inf = rho_L / rho_c \n",
    "    \n",
    "    print reduced_temperature, rho_inf\n",
    "    \n",
    "    reduced_densities = np.linspace(0.01, 2.5, num=20)\n",
    "    psi_vec = []\n",
    "    for rho in reduced_densities:\n",
    "        psi = calculate_helmholtz_excess(\n",
    "            rho_value=rho, \n",
    "            reduced_temperature=reduced_temperature, \n",
    "            rho_inf=rho_inf,\n",
    "            eos=eos\n",
    "            )\n",
    "        psi_vec.append(psi)\n",
    "    psi_vec = np.array(psi_vec)\n",
    "\n",
    "    plt.plot(reduced_densities, psi_vec, marker='o')\n",
    "\n",
    "\n",
    "ax = plt.gca()\n",
    "ax.grid(True)\n",
    "plt.show()\n"
   ]
  },
  {
   "cell_type": "code",
   "execution_count": 23,
   "metadata": {
    "collapsed": false
   },
   "outputs": [
    {
     "name": "stdout",
     "output_type": "stream",
     "text": [
      "0.8 0.0921619264335243 761687.713668340 18.7170808941358 534.554641682232\n"
     ]
    }
   ],
   "source": [
    "# n-Butane properties\n",
    "critical_pressure = 6894.75729 * 550.7\n",
    "critical_temperature = (5.0 / 9.0) * 765.3 # [K]\n",
    "acentric_factor = 0.192800 # [-]\n",
    "molar_mass = 58.12 * 0.001 # [kg/mol]\n",
    "\n",
    "eos = PengRobinsonEos(critical_pressure, critical_temperature, acentric_factor, molar_mass)\n",
    "\n",
    "reduced_temperatures = np.linspace(0.8, 0.8, num=1)\n",
    "#temperature = 303.15\n",
    "for reduced_temperature in reduced_temperatures:\n",
    "    temperature = reduced_temperature * critical_temperature    \n",
    "    pressure, rho_V, rho_L = eos.calculate_pressure_and_densities(temperature)\n",
    "\n",
    "    rho_c = eos.critical_pressure * eos.molar_mass / (eos.critical_z_factor * GAS_CONST * eos.critical_temperature)\n",
    "    rho_inf = rho_V / rho_c \n",
    "    \n",
    "    print reduced_temperature, rho_inf, pressure, rho_V, rho_L\n",
    "    \n",
    "    eos.pressure = eos.pressure.subs(alpha, eos.alpha_function(reduced_temperature))    \n",
    "    \n",
    "    reduced_densities = np.linspace(0.1, 2.6, num=40)\n",
    "    \n",
    "    psi_vec = []\n",
    "    reduced_densities_to_plot = []\n",
    "    \n",
    "    for rho in reduced_densities:\n",
    "        psi = calculate_helmholtz_excess(\n",
    "            rho_value=rho, \n",
    "            reduced_temperature=reduced_temperature, \n",
    "            rho_inf=rho_inf,\n",
    "            eos=eos\n",
    "            )\n",
    "        \n",
    "        if psi < 0.0:\n",
    "            continue\n",
    "            \n",
    "        reduced_densities_to_plot.append(rho)\n",
    "        psi_vec.append(psi)\n",
    "        \n",
    "    psi_vec = np.array(psi_vec)\n",
    "\n",
    "    plt.plot(reduced_densities_to_plot, psi_vec, marker='o')\n",
    "\n",
    "\n",
    "ax = plt.gca()\n",
    "ax.grid(True)\n",
    "plt.show()\n"
   ]
  },
  {
   "cell_type": "code",
   "execution_count": 114,
   "metadata": {
    "collapsed": true
   },
   "outputs": [],
   "source": [
    "def gamma(kappa, eos, integral): \n",
    "    rho_c = eos.critical_pressure * eos.molar_mass / (eos.critical_z_factor * GAS_CONST * eos.critical_temperature)\n",
    "    return rho_c * sqrt(eos.critical_pressure * kappa) * integral\n",
    "\n",
    "def integrate_helholtz(eos, reduced_temperature, rho_0_r, rho_1_r, rho_inf=rho_V_r):\n",
    "    def func(x):\n",
    "        psi = calculate_helmholtz_excess(\n",
    "                rho_value=x, \n",
    "                reduced_temperature=reduced_temperature, \n",
    "                rho_inf=rho_inf,\n",
    "                eos=eos\n",
    "                )\n",
    "        return psi\n",
    "        \n",
    "    y, err = integrate.quad(func, rho_0_r, rho_1_r)\n",
    "    return sqrt(2.0 * y)"
   ]
  },
  {
   "cell_type": "markdown",
   "metadata": {},
   "source": [
    "# Calculate Interfacial Tension"
   ]
  },
  {
   "cell_type": "code",
   "execution_count": 116,
   "metadata": {
    "collapsed": false
   },
   "outputs": [],
   "source": [
    "reduced_temperature = 0.8\n",
    "rho_V = 18.7170808941358 \n",
    "rho_L = 534.554641682232\n",
    "\n",
    "# n-Butane properties\n",
    "critical_pressure = 6894.75729 * 550.7\n",
    "critical_temperature = (5.0 / 9.0) * 765.3 # [K]\n",
    "acentric_factor = 0.192800 # [-]\n",
    "molar_mass = 58.12 * 0.001 # [kg/mol]\n",
    "\n",
    "eos = PengRobinsonEos(critical_pressure, critical_temperature, acentric_factor, molar_mass)\n",
    "eos.pressure = eos.pressure.subs(alpha, eos.alpha_function(reduced_temperature))  \n",
    "\n",
    "rho_c = eos.critical_pressure * eos.molar_mass / (eos.critical_z_factor * GAS_CONST * eos.critical_temperature)\n",
    "\n",
    "rho_V_r = rho_V / rho_c\n",
    "rho_L_r = rho_L / rho_c\n",
    "\n",
    "integral = integrate_helholtz(eos, reduced_temperature, rho_V_r, rho_L_r)\n",
    "\n",
    "kappa_values = np.linspace(4.0e-17, 2.0e-16, num=20)\n",
    "\n",
    "gamma_calc = []\n",
    "for kappa in kappa_values:\n",
    "    gamma_calc.append(gamma_VL(kappa, eos, integral))\n",
    "\n",
    "    \n",
    "plt.semilogy(gamma_calc, kappa_values, marker='o')\n",
    "\n",
    "\n",
    "#plt.plot(gamma_calc, kappa_values, marker='o')\n",
    "ax = plt.gca()\n",
    "ax.grid(True, which=u'both')\n",
    "\n",
    "plt.show()"
   ]
  },
  {
   "cell_type": "markdown",
   "metadata": {
    "collapsed": false
   },
   "source": [
    "# TODO\n",
    "\n",
    "Calculate the above curve for various temperatures\n",
    "\n",
    "Calculate the equilibrium contact angle as a function of $\\phi^*$\n",
    "\n",
    "$$\n",
    "\\cos \\theta = \\frac{\\gamma_{sv} - \\gamma_{sl}}{\\gamma_{lv}}\n",
    "$$\n",
    "\n",
    "$$\n",
    "\\phi^* = \\frac{\\phi}{\\sqrt{\\kappa P_c}} = \\pm \\sqrt{2 \\Psi^*_{exc}(\\rho_s, T)}\n",
    "$$\n",
    "\n",
    "$$\n",
    "\\gamma_{vs} = \\Phi(\\rho_s) + \\rho_c \\sqrt{\\kappa P_c} \\int^{\\rho^*_{sv}}_{\\rho^*_{v}} \\sqrt{2 \\Psi^*_{exc}} d\\rho^*\n",
    "$$\n",
    "\n",
    "$$\n",
    "\\gamma_{ls} = \\Phi(\\rho_s) + \\rho_c \\sqrt{\\kappa P_c} \\int^{\\rho^*_{sl}}_{\\rho^*_{l}} \\sqrt{2 \\Psi^*_{exc}} d\\rho^*\n",
    "$$\n",
    "\n",
    "$$\n",
    "\\Phi(\\rho_s) = - \\phi \\rho^*_{s} \\rho_c\n",
    "$$\n",
    "\n",
    "$$\n",
    "\\phi = \\phi^* \\sqrt{\\kappa P_c}\n",
    "$$\n",
    "\n",
    "Obs: Check out fig 3.9 to find the roots of eq $\\phi^* = \\frac{\\phi}{\\sqrt{\\kappa P_c}} = \\pm \\sqrt{2 \\Psi^*_{exc}(\\rho_s, T)}$\n",
    "\n",
    "We also can get $\\kappa$ from \n",
    "\n",
    "$$\n",
    "\\gamma_{lv} = \\rho_c \\sqrt{2 \\kappa P_c} \\int^{\\rho^*_{l}}_{\\rho^*_{v}} \\sqrt{\\Psi^*_{exc}} d\\rho^*\n",
    "$$"
   ]
  },
  {
   "cell_type": "code",
   "execution_count": null,
   "metadata": {
    "collapsed": false
   },
   "outputs": [],
   "source": []
  },
  {
   "cell_type": "markdown",
   "metadata": {
    "collapsed": true
   },
   "source": [
    "First, let's plot the curve $\\sqrt{2 \\Psi^*_{exc}(\\rho, T)}$ and intersect it with $\\phi^* = 0.2$"
   ]
  },
  {
   "cell_type": "code",
   "execution_count": 265,
   "metadata": {
    "collapsed": true
   },
   "outputs": [],
   "source": [
    "psi_vec = {}\n",
    "reduced_densities_to_plot = {}"
   ]
  },
  {
   "cell_type": "code",
   "execution_count": 398,
   "metadata": {
    "collapsed": false
   },
   "outputs": [
    {
     "name": "stdout",
     "output_type": "stream",
     "text": [
      "Tr, rho_V, rho_L 0.8 18.7170808941358 534.554641682232\n"
     ]
    }
   ],
   "source": [
    "reduced_temperature = 0.8\n",
    "\n",
    "temperature = reduced_temperature * critical_temperature\n",
    "pressure, rho_V, rho_L = eos.calculate_pressure_and_densities(temperature)\n",
    "print 'Tr, rho_V, rho_L', reduced_temperature, rho_V, rho_L\n",
    "\n",
    "\n",
    "#reduced_temperature = 0.8\n",
    "#rho_V = 18.7170808941358 \n",
    "#rho_L = 534.554641682232\n",
    "\n",
    "# n-Butane properties\n",
    "critical_pressure = 6894.75729 * 550.7\n",
    "critical_temperature = (5.0 / 9.0) * 765.3 # [K]\n",
    "acentric_factor = 0.192800 # [-]\n",
    "molar_mass = 58.12 * 0.001 # [kg/mol]\n",
    "\n",
    "eos = PengRobinsonEos(critical_pressure, critical_temperature, acentric_factor, molar_mass)\n",
    "eos.pressure = eos.pressure.subs(alpha, eos.alpha_function(reduced_temperature))  \n",
    "\n",
    "rho_c = eos.critical_pressure * eos.molar_mass / (eos.critical_z_factor * GAS_CONST * eos.critical_temperature)\n",
    "\n",
    "rho_V_r = rho_V / rho_c\n",
    "rho_L_r = rho_L / rho_c\n",
    "\n",
    "reduced_densities = np.linspace(0.0001, 3.5, num=150)\n",
    "    \n",
    "psi_vec[reduced_temperature] = []\n",
    "reduced_densities_to_plot[reduced_temperature] = []\n",
    "\n",
    "for rho in reduced_densities:\n",
    "    psi = calculate_helmholtz_excess(\n",
    "        rho_value=rho, \n",
    "        reduced_temperature=reduced_temperature, \n",
    "        rho_inf=rho_V_r,\n",
    "        eos=eos\n",
    "        )\n",
    "\n",
    "    reduced_densities_to_plot[reduced_temperature].append(rho)\n",
    "    psi_vec[reduced_temperature].append(sqrt(2.0*psi))\n",
    "\n",
    "psi_vec[reduced_temperature] = np.array(psi_vec[reduced_temperature])\n",
    "\n",
    "plt.plot(reduced_densities_to_plot[reduced_temperature], -psi_vec[reduced_temperature], marker='o')\n",
    "\n",
    "phi_r = -0.275 * np.ones(len(reduced_densities_to_plot[reduced_temperature]))\n",
    "plt.plot(reduced_densities_to_plot[reduced_temperature], phi_r, 'k--')\n",
    "\n",
    "ax = plt.gca()\n",
    "ax.grid(True)\n",
    "plt.show()"
   ]
  },
  {
   "cell_type": "markdown",
   "metadata": {},
   "source": [
    "Now we need to find the roots of the equation $\\phi^* - \\sqrt{2 \\Psi^*_{exc}(\\rho, T)} = 0$ and find $\\rho_s$. So let's define a residual equation as $R(\\rho) = \\phi^* - \\sqrt{2 \\Psi^*_{exc}(\\rho, T)}$.\n"
   ]
  },
  {
   "cell_type": "code",
   "execution_count": 417,
   "metadata": {
    "collapsed": false
   },
   "outputs": [],
   "source": [
    "def calculate_surface_densities(phi_r, reduced_temperature, rho_V_r, rho_L_r, rho_inf):\n",
    "    def func(x):\n",
    "        psi = calculate_helmholtz_excess(\n",
    "            rho_value=x, \n",
    "            reduced_temperature=reduced_temperature, \n",
    "            rho_inf=rho_inf,\n",
    "            eos=eos\n",
    "            )\n",
    "        \n",
    "        if phi_r > 0.0:\n",
    "            return phi_r - sqrt(2.0 * psi)\n",
    "        else:\n",
    "            return phi_r + sqrt(2.0 * psi)\n",
    "\n",
    "    if phi_r > 0.0:\n",
    "        rho_SV_r = newton(func=func, x0=rho_V_r + 0.1*rho_V_r)\n",
    "        rho_SL_r = newton(func=func, x0=rho_L_r + 0.1*rho_L_r)\n",
    "    else:       \n",
    "        from scipy.optimize import brentq\n",
    "        rho_SV_r = brentq(f=func, a=0.000001, b=0.9999*rho_V_r)\n",
    "        rho_SL_r = brentq(f=func, a=0.5*(rho_L_r + rho_V_r), b=0.9999*rho_L_r)\n",
    "    \n",
    "    return rho_SV_r, rho_SL_r"
   ]
  },
  {
   "cell_type": "markdown",
   "metadata": {},
   "source": [
    "Now we need\n",
    "$$\n",
    "\\gamma_{vs} = \\Phi(\\rho_s) + \\rho_c \\sqrt{\\kappa P_c} \\int^{\\rho^*_{sv}}_{\\rho^*_{v}} \\sqrt{2 \\Psi^*_{exc}} d\\rho^*\n",
    "$$\n",
    "\n",
    "$$\n",
    "\\gamma_{ls} = \\Phi(\\rho_s) + \\rho_c \\sqrt{\\kappa P_c} \\int^{\\rho^*_{sl}}_{\\rho^*_{l}} \\sqrt{2 \\Psi^*_{exc}} d\\rho^*\n",
    "$$\n",
    "\n",
    "$$\n",
    "\\Phi(\\rho_s) = - \\phi \\rho^*_{s} \\rho_c = - \\rho^*_{s} \\rho_c \\phi^* \\sqrt{\\kappa P_c}\n",
    "$$\n",
    "$$\n",
    "\\gamma_{lv} = \\rho_c \\sqrt{2 \\kappa P_c} \\int^{\\rho^*_{l}}_{\\rho^*_{v}} \\sqrt{\\Psi^*_{exc}} d\\rho^*\n",
    "$$\n",
    "$$\n",
    "\\cos \\theta = \\frac{\\gamma_{sv} - \\gamma_{sl}}{\\gamma_{lv}}\n",
    "$$\n",
    "\n",
    "\n",
    "$$\n",
    "\\gamma_{vs}^* = \\frac{\\gamma_{vs}}{\\rho_c\\sqrt{\\kappa P_c}} = - \\rho^*_{s} \\phi^* + \\int^{\\rho^*_{sv}}_{\\rho^*_{v}} \\sqrt{2 \\Psi^*_{exc}} d\\rho^*\n",
    "$$\n",
    "\n",
    "$$\n",
    "\\gamma_{ls}^* = \\frac{\\gamma_{ls}}{\\rho_c\\sqrt{\\kappa P_c}} =- \\rho^*_{s} \\phi^* + \\int^{\\rho^*_{sl}}_{\\rho^*_{l}} \\sqrt{2 \\Psi^*_{exc}} d\\rho^*\n",
    "$$\n",
    "\n",
    "and\n",
    "\n",
    "$$\n",
    "\\gamma_{lv}^* = \\frac{\\gamma_{lv}}{\\rho_c\\sqrt{\\kappa P_c}} = \\int^{\\rho^*_{l}}_{\\rho^*_{v}} \\sqrt{2 \\Psi^*_{exc}} d\\rho^*\n",
    "$$\n",
    "\n",
    "$$\n",
    "\\cos \\theta = \\frac{\\gamma_{sv} - \\gamma_{sl}}{\\gamma_{lv}} = \\frac{\\gamma_{vs}^* - \\gamma_{ls}^*}{\\gamma_{lv}^*}\n",
    "$$"
   ]
  },
  {
   "cell_type": "code",
   "execution_count": 374,
   "metadata": {
    "collapsed": true
   },
   "outputs": [],
   "source": [
    "def calculate_contact_angle(phi_r, gamma_VL_r, eos, reduced_temperature, rho_V_r, rho_L_r):\n",
    "    if abs(phi_r) < 1.0e-8:\n",
    "        contact_angle = 90.0\n",
    "    else:\n",
    "        rho_SV_r, rho_SL_r = calculate_surface_densities(\n",
    "            phi_r=phi_r, \n",
    "            reduced_temperature=reduced_temperature, \n",
    "            rho_V_r=rho_V_r, \n",
    "            rho_L_r=rho_L_r, \n",
    "            rho_inf=rho_V_r\n",
    "        )\n",
    "\n",
    "        if phi_r > 0.0:\n",
    "            integral_SV = integrate_helholtz(eos, reduced_temperature, rho_V_r, rho_SV_r, rho_inf=rho_V_r)\n",
    "            integral_SL = integrate_helholtz(eos, reduced_temperature, rho_L_r, rho_SL_r, rho_inf=rho_V_r)\n",
    "        else:\n",
    "            integral_SV = integrate_helholtz(eos, reduced_temperature, rho_SV_r, rho_V_r, rho_inf=rho_V_r)\n",
    "            integral_SL = integrate_helholtz(eos, reduced_temperature, rho_SL_r, rho_L_r, rho_inf=rho_V_r)    \n",
    "\n",
    "        gamma_SV_r = integral_SV - phi_r * rho_SV_r\n",
    "        gamma_SL_r = integral_SL - phi_r * rho_SL_r\n",
    "\n",
    "        contact_angle = acos((gamma_SV_r - gamma_SL_r) / gamma_VL_r) * 180.0 / np.pi\n",
    "    \n",
    "    return contact_angle"
   ]
  },
  {
   "cell_type": "code",
   "execution_count": 375,
   "metadata": {
    "collapsed": true
   },
   "outputs": [],
   "source": [
    "contact_angles = {}\n",
    "phi_values = {}\n",
    "phi_limits = {}\n",
    "# Phi limits (so functions do not diverge)\n",
    "# Tr = 0.9 -> phi_r = 0.35\n",
    "# Tr = 0.8 -> phi_r = 0.275\n",
    "# Tr = 0.7 -> phi_r = 0.238\n",
    "# Tr = 0.65 -> phi_r = 0.225\n",
    "phi_limits[0.9] = 0.35\n",
    "phi_limits[0.8] = 0.275\n",
    "phi_limits[0.7] = 0.238\n",
    "phi_limits[0.65] = 0.225"
   ]
  },
  {
   "cell_type": "code",
   "execution_count": 436,
   "metadata": {
    "collapsed": false
   },
   "outputs": [],
   "source": [
    "# n-Butane properties\n",
    "critical_pressure = 6894.75729 * 550.7\n",
    "critical_temperature = (5.0 / 9.0) * 765.3 # [K]\n",
    "acentric_factor = 0.192800 # [-]\n",
    "molar_mass = 58.12 * 0.001 # [kg/mol]\n",
    "\n",
    "\n",
    "reduced_temperature_values = [0.65, 0.7, 0.8, 0.9]\n",
    "#reduced_temperature_values = [0.8]\n",
    "for reduced_temperature in reduced_temperature_values:\n",
    "    temperature = reduced_temperature * critical_temperature\n",
    "    eos = PengRobinsonEos(critical_pressure, critical_temperature, acentric_factor, molar_mass)\n",
    "    rho_c = eos.critical_pressure * eos.molar_mass / (eos.critical_z_factor * GAS_CONST * eos.critical_temperature)\n",
    "\n",
    "    pressure, rho_V, rho_L = eos.calculate_pressure_and_densities(temperature)\n",
    "    eos.pressure = eos.pressure.subs(alpha, eos.alpha_function(reduced_temperature))\n",
    "\n",
    "    pressure, rho_V, rho_L = eos.calculate_pressure_and_densities(temperature)\n",
    "\n",
    "    rho_V_r = rho_V / rho_c\n",
    "    rho_L_r = rho_L / rho_c\n",
    "\n",
    "    gamma_VL_r = integral_VL = integrate_helholtz(eos, reduced_temperature, rho_V_r, rho_L_r, rho_inf=rho_V_r)\n",
    "\n",
    "    phi_values[reduced_temperature] = np.linspace(-phi_limits[reduced_temperature], phi_limits[reduced_temperature], num=25)\n",
    "\n",
    "    contact_angles[reduced_temperature] = []\n",
    "\n",
    "    for phi_r in phi_values[reduced_temperature]:\n",
    "        contact_angle = calculate_contact_angle(\n",
    "            phi_r, \n",
    "            gamma_VL_r=gamma_VL_r, \n",
    "            eos=eos, \n",
    "            reduced_temperature=reduced_temperature,\n",
    "            rho_V_r=rho_V_r,\n",
    "            rho_L_r=rho_L_r\n",
    "        )\n",
    "        contact_angles[reduced_temperature].append(contact_angle)\n",
    "\n",
    "    contact_angles[reduced_temperature] = np.array(contact_angles[reduced_temperature])\n",
    "\n",
    "    plt.plot(phi_values[reduced_temperature], \n",
    "             contact_angles[reduced_temperature], \n",
    "             marker='o', label='Reduced temperature = %.2f' %reduced_temperature)\n",
    "\n",
    "ax = plt.gca()\n",
    "ax.grid(True)\n",
    "\n",
    "ax.set_xlabel(xlabel='Specific Surface Energy')\n",
    "ax.set_ylabel(ylabel='Contact Angle')\n",
    "ax.legend(loc='upper right')\n",
    "\n",
    "plt.show()"
   ]
  },
  {
   "cell_type": "code",
   "execution_count": 385,
   "metadata": {
    "collapsed": false
   },
   "outputs": [
    {
     "name": "stdout",
     "output_type": "stream",
     "text": [
      "-0.275 0.8\n"
     ]
    }
   ],
   "source": [
    "print phi_r, reduced_temperature"
   ]
  },
  {
   "cell_type": "code",
   "execution_count": 454,
   "metadata": {
    "collapsed": false
   },
   "outputs": [],
   "source": [
    "# Phi limits (so functions do not diverge)\n",
    "# Tr = 0.9 -> phi_r = 0.35\n",
    "# Tr = 0.8 -> phi_r = 0.615\n",
    "# Tr = 0.7 -> phi_r = 0.8\n",
    "# Tr = 0.65 -> phi_r = 0.225\n",
    "# n-Butane properties\n",
    "critical_pressure = 6894.75729 * 550.7\n",
    "critical_temperature = (5.0 / 9.0) * 765.3 # [K]\n",
    "acentric_factor = 0.192800 # [-]\n",
    "molar_mass = 58.12 * 0.001 # [kg/mol]\n",
    "\n",
    "reduced_temperature = 0.7\n",
    "\n",
    "temperature = reduced_temperature * critical_temperature\n",
    "eos = PengRobinsonEos(critical_pressure, critical_temperature, acentric_factor, molar_mass)\n",
    "rho_c = eos.critical_pressure * eos.molar_mass / (eos.critical_z_factor * GAS_CONST * eos.critical_temperature)\n",
    "\n",
    "pressure, rho_V, rho_L = eos.calculate_pressure_and_densities(temperature)\n",
    "eos.pressure = eos.pressure.subs(alpha, eos.alpha_function(reduced_temperature))\n",
    "\n",
    "pressure, rho_V, rho_L = eos.calculate_pressure_and_densities(temperature)\n",
    "\n",
    "rho_V_r = rho_V / rho_c\n",
    "rho_L_r = rho_L / rho_c\n",
    "\n",
    "gamma_VL_r = integral_VL = integrate_helholtz(eos, reduced_temperature, rho_V_r, rho_L_r, rho_inf=rho_V_r)"
   ]
  },
  {
   "cell_type": "code",
   "execution_count": 475,
   "metadata": {
    "collapsed": false
   },
   "outputs": [
    {
     "name": "stdout",
     "output_type": "stream",
     "text": [
      "114.046893448503\n"
     ]
    }
   ],
   "source": [
    "contact_angle = calculate_contact_angle(\n",
    "        phi_r=-0.355, \n",
    "        gamma_VL_r=gamma_VL_r, \n",
    "        eos=eos, \n",
    "        reduced_temperature=reduced_temperature,\n",
    "        rho_V_r=rho_V_r,\n",
    "        rho_L_r=rho_L_r\n",
    "    )\n",
    "print contact_angle"
   ]
  },
  {
   "cell_type": "code",
   "execution_count": 439,
   "metadata": {
    "collapsed": false
   },
   "outputs": [
    {
     "name": "stdout",
     "output_type": "stream",
     "text": [
      "0.0391992647909 2.47873336441\n",
      "0.0921619264335243 2.63211907027939\n"
     ]
    }
   ],
   "source": [
    "rho_SV_r, rho_SL_r = calculate_surface_densities(\n",
    "    phi_r=-0.35, \n",
    "    reduced_temperature=0.8, \n",
    "    rho_V_r=rho_V_r, \n",
    "    rho_L_r=rho_L_r, \n",
    "    rho_inf=rho_V_r\n",
    "    )\n",
    "print rho_SV_r, rho_SL_r\n",
    "print rho_V_r, rho_L_r"
   ]
  },
  {
   "cell_type": "code",
   "execution_count": 368,
   "metadata": {
    "collapsed": false
   },
   "outputs": [
    {
     "name": "stdout",
     "output_type": "stream",
     "text": [
      "0.225\n"
     ]
    }
   ],
   "source": [
    "print phi_r"
   ]
  },
  {
   "cell_type": "code",
   "execution_count": 380,
   "metadata": {
    "collapsed": false
   },
   "outputs": [
    {
     "data": {
      "text/plain": [
       "array([-0.238     , -0.21816667, -0.19833333, -0.1785    , -0.15866667,\n",
       "       -0.13883333, -0.119     , -0.09916667, -0.07933333, -0.0595    ,\n",
       "       -0.03966667, -0.01983333,  0.        ,  0.01983333,  0.03966667,\n",
       "        0.0595    ,  0.07933333,  0.09916667,  0.119     ,  0.13883333,\n",
       "        0.15866667,  0.1785    ,  0.19833333,  0.21816667,  0.238     ])"
      ]
     },
     "execution_count": 380,
     "metadata": {},
     "output_type": "execute_result"
    }
   ],
   "source": [
    "phi_values[reduced_temperature]"
   ]
  },
  {
   "cell_type": "code",
   "execution_count": null,
   "metadata": {
    "collapsed": true
   },
   "outputs": [],
   "source": []
  },
  {
   "cell_type": "code",
   "execution_count": 434,
   "metadata": {
    "collapsed": false,
    "scrolled": true
   },
   "outputs": [
    {
     "data": {
      "text/plain": [
       "{0.65: array([103.210628617533, 102.088906568220, 100.972961803070,\n",
       "        99.8618039933652, 98.7547274255040, 97.6511755114256,\n",
       "        96.5506906409213, 95.4528952069945, 94.3574907719681,\n",
       "        93.2642765296204, 92.1732049813091, 91.0845542545362, 90.0,\n",
       "        88.9277806226994, 87.8579247902963, 86.7876792014217,\n",
       "        85.7158052346745, 84.6414298992758, 83.5638429467905,\n",
       "        82.4824209199960, 81.3965901669652, 80.3058057324469,\n",
       "        79.2095378524827, 78.1072624831875, 76.9984541130239], dtype=object),\n",
       " 0.7: array([105.871756791953, 104.521756317339, 103.178939922360,\n",
       "        101.842460384343, 100.511549558268, 99.1855081182527,\n",
       "        97.8637014149551, 96.5455617902067, 95.2306002197852,\n",
       "        93.9184355898738, 92.6088665941193, 91.3020854828429, 90.0,\n",
       "        88.7125929281646, 87.4273528608209, 86.1407013748920,\n",
       "        84.8509287743651, 83.5567709264079, 82.2571561373558,\n",
       "        80.9511090472361, 79.6377026158959, 78.3160295603387,\n",
       "        76.9851829365506, 75.6442413770466, 74.2922567358527], dtype=object),\n",
       " 0.8: array([115.730286334300, 113.480551533443, 111.261061944983,\n",
       "        109.067652661341, 106.896613473002, 104.744609669006,\n",
       "        102.608623336107, 100.485913883475, 98.3740010469029,\n",
       "        96.2706834108894, 94.1741351800859, 92.0832559416535, 90.0,\n",
       "        87.9405755150682, 85.8805998327858, 83.8121217141171,\n",
       "        81.7305420445943, 79.6319728243501, 77.5127315318248,\n",
       "        75.3691200971324, 73.1972854122166, 70.9931053090712,\n",
       "        68.7520768758405, 66.4691933403828, 64.1387977466562], dtype=object),\n",
       " 0.9: array([157.297132533343, 148.249409175741, 140.979412867137,\n",
       "        134.617792266645, 128.816952318126, 123.395560135741,\n",
       "        118.244036213343, 113.289324672456, 108.479003749130,\n",
       "        103.773183829755, 99.1401071396273, 94.5541348457583, 90.0,\n",
       "        85.4998061078488, 80.9590963020583, 76.3334333787327,\n",
       "        71.5844520747975, 66.6689742637400, 61.5331076241731,\n",
       "        56.1041818787729, 50.2764192913728, 43.8811052374955,\n",
       "        36.6123882871616, 27.7832750781108, 14.8146028981488], dtype=object)}"
      ]
     },
     "execution_count": 434,
     "metadata": {},
     "output_type": "execute_result"
    }
   ],
   "source": [
    "contact_angles"
   ]
  },
  {
   "cell_type": "code",
   "execution_count": 435,
   "metadata": {
    "collapsed": false
   },
   "outputs": [
    {
     "data": {
      "text/plain": [
       "{0.65: array([ -2.25000000e-01,  -2.06250000e-01,  -1.87500000e-01,\n",
       "         -1.68750000e-01,  -1.50000000e-01,  -1.31250000e-01,\n",
       "         -1.12500000e-01,  -9.37500000e-02,  -7.50000000e-02,\n",
       "         -5.62500000e-02,  -3.75000000e-02,  -1.87500000e-02,\n",
       "         -2.77555756e-17,   1.87500000e-02,   3.75000000e-02,\n",
       "          5.62500000e-02,   7.50000000e-02,   9.37500000e-02,\n",
       "          1.12500000e-01,   1.31250000e-01,   1.50000000e-01,\n",
       "          1.68750000e-01,   1.87500000e-01,   2.06250000e-01,\n",
       "          2.25000000e-01]),\n",
       " 0.7: array([-0.238     , -0.21816667, -0.19833333, -0.1785    , -0.15866667,\n",
       "        -0.13883333, -0.119     , -0.09916667, -0.07933333, -0.0595    ,\n",
       "        -0.03966667, -0.01983333,  0.        ,  0.01983333,  0.03966667,\n",
       "         0.0595    ,  0.07933333,  0.09916667,  0.119     ,  0.13883333,\n",
       "         0.15866667,  0.1785    ,  0.19833333,  0.21816667,  0.238     ]),\n",
       " 0.8: array([-0.275     , -0.25208333, -0.22916667, -0.20625   , -0.18333333,\n",
       "        -0.16041667, -0.1375    , -0.11458333, -0.09166667, -0.06875   ,\n",
       "        -0.04583333, -0.02291667,  0.        ,  0.02291667,  0.04583333,\n",
       "         0.06875   ,  0.09166667,  0.11458333,  0.1375    ,  0.16041667,\n",
       "         0.18333333,  0.20625   ,  0.22916667,  0.25208333,  0.275     ]),\n",
       " 0.9: array([-0.35      , -0.32083333, -0.29166667, -0.2625    , -0.23333333,\n",
       "        -0.20416667, -0.175     , -0.14583333, -0.11666667, -0.0875    ,\n",
       "        -0.05833333, -0.02916667,  0.        ,  0.02916667,  0.05833333,\n",
       "         0.0875    ,  0.11666667,  0.14583333,  0.175     ,  0.20416667,\n",
       "         0.23333333,  0.2625    ,  0.29166667,  0.32083333,  0.35      ])}"
      ]
     },
     "execution_count": 435,
     "metadata": {},
     "output_type": "execute_result"
    }
   ],
   "source": [
    "phi_values"
   ]
  },
  {
   "cell_type": "code",
   "execution_count": null,
   "metadata": {
    "collapsed": false
   },
   "outputs": [],
   "source": []
  },
  {
   "cell_type": "code",
   "execution_count": 428,
   "metadata": {
    "collapsed": true
   },
   "outputs": [],
   "source": [
    "reduced_temperature_values = [0.65, 0.7, 0.8, 0.9]\n",
    "\n",
    "for reduced_temperature in reduced_temperature_values:\n",
    "    plt.plot(phi_values_ref[reduced_temperature], \n",
    "             contact_angles_ref[reduced_temperature], \n",
    "             marker='o', label='Reduced temperature = %.2f' %reduced_temperature)\n",
    "\n",
    "ax = plt.gca()\n",
    "ax.grid(True)\n",
    "\n",
    "ax.set_xlabel(xlabel='Specific Surface Energy')\n",
    "ax.set_ylabel(ylabel='Contact Angle')\n",
    "ax.legend(loc='upper right')\n",
    "\n",
    "plt.show()"
   ]
  },
  {
   "cell_type": "code",
   "execution_count": null,
   "metadata": {
    "collapsed": true
   },
   "outputs": [],
   "source": []
  }
 ],
 "metadata": {
  "kernelspec": {
   "display_name": "Python 2",
   "language": "python",
   "name": "python2"
  },
  "language_info": {
   "codemirror_mode": {
    "name": "ipython",
    "version": 2
   },
   "file_extension": ".py",
   "mimetype": "text/x-python",
   "name": "python",
   "nbconvert_exporter": "python",
   "pygments_lexer": "ipython2",
   "version": "2.7.10"
  }
 },
 "nbformat": 4,
 "nbformat_minor": 0
}
