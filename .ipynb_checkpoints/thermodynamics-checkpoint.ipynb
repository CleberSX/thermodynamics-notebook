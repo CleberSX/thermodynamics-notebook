{
 "cells": [
  {
   "cell_type": "code",
   "execution_count": 61,
   "metadata": {
    "collapsed": false
   },
   "outputs": [],
   "source": [
    "import numpy as np\n",
    "from itertools import izip\n",
    "from math import *\n",
    "from scipy.optimize import fsolve, root, brentq"
   ]
  },
  {
   "cell_type": "code",
   "execution_count": 2,
   "metadata": {
    "collapsed": true
   },
   "outputs": [],
   "source": [
    "R = 8.314 # [kg/(J.K)]"
   ]
  },
  {
   "cell_type": "markdown",
   "metadata": {
    "collapsed": true
   },
   "source": [
    "The van der Waals Equation of State is given by\n",
    "$$\n",
    "P = \\frac{RT}{v - b} - \\frac{a}{v^2}\n",
    "$$\n",
    "\n",
    "We can write it in a cubic equation form:\n",
    "$$\n",
    "v^3 - \\left( b + \\frac{RT}{P} \\right) v^2 + \\frac{a}{P}v - \\frac{ab}{P} = 0\n",
    "$$\n",
    "\n",
    "where we need to find the roots of $v$"
   ]
  },
  {
   "cell_type": "code",
   "execution_count": 42,
   "metadata": {
    "collapsed": false
   },
   "outputs": [],
   "source": [
    "class WanDerWaalsEos():\n",
    "    def __init__(self, a, b, binary_interaction):\n",
    "        self.a = a\n",
    "        self.b = b\n",
    "        self.binary_interaction = binary_interaction\n",
    "        \n",
    "    def set_molar_fractions(self, molar_fractions):\n",
    "        self.molar_fractions = molar_fractions\n",
    "    \n",
    "    def update_eos_coefficients(self):\n",
    "        x = self.molar_fractions\n",
    "        \n",
    "        BI = self.binary_interaction\n",
    "\n",
    "        AIJ = BI * np.sqrt(np.einsum('i,j', self.a, self.a))\n",
    "\n",
    "        # This variables will be used in the fugacity expression\n",
    "        self.numerator_coef = np.einsum('ij,j', AIJ, x)\n",
    "        \n",
    "        self.mixture_a = np.dot(np.dot(x, AIJ), x)\n",
    "        self.mixture_b = np.sum(x * self.b)\n",
    "        \n",
    "    def calculate_eos_roots(self, pressure, temperature):\n",
    "        P = pressure\n",
    "        T = temperature\n",
    "        p0 = 1.0\n",
    "        p1 = - (self.mixture_b + (R * T) / P)\n",
    "        p2 = self.mixture_a / P\n",
    "        p3 = - self.mixture_a * self.mixture_b / P     \n",
    "        \n",
    "        coef_a = (3.0 * p2 - (p1 ** 2)) / 3.0        \n",
    "        coef_b = (2.0 * (p1 ** 3) - 9.0 * p1 * p2 + 27.0 * p3) / 27.0        \n",
    "        delta = 0.25 * (coef_b ** 2) + (coef_a ** 3) / 27.0     \n",
    "                  \n",
    "        if delta > 0.0:\n",
    "            # 1 real root, 2 imaginary                 \n",
    "            const_A =  (-0.5 * coef_b + sqrt(delta)) ** (1.0/3.0)\n",
    "            const_B =  (-0.5 * coef_b - sqrt(delta)) ** (1.0/3.0)\n",
    "                  \n",
    "            single_real_root = const_A + const_B - p1 / 3.0 \n",
    "            \n",
    "            return np.array([single_real_root])\n",
    "        else:\n",
    "            # 3 real roots\n",
    "            phi = acos(-0.5 * coef_b / sqrt(-(coef_a ** 3) / 27.0))\n",
    "            root_1 = 2.0 * sqrt(-coef_a / 3.0) * cos(phi / 3.0) - p1 / 3.0\n",
    "            root_2 = 2.0 * sqrt(-coef_a / 3.0) * cos(phi / 3.0 + 2.0 * np.pi / 3.0) - p1 / 3.0\n",
    "            root_3 = 2.0 * sqrt(-coef_a / 3.0) * cos(phi / 3.0 + 4.0 * np.pi / 3.0) - p1 / 3.0\n",
    "\n",
    "            smallest_root = min(min(root_1,root_2), root_3)\n",
    "            largest_root = max(max(root_1,root_2), root_3)\n",
    "                  \n",
    "            return np.array([smallest_root, largest_root])\n",
    "\n",
    "    def calculate_fugacity(\n",
    "        self,\n",
    "        component_index,\n",
    "        temperature,\n",
    "        molar_volume\n",
    "    ):\n",
    "        i = component_index\n",
    "        T = temperature\n",
    "        v = molar_volume\n",
    "        x = self.molar_fractions\n",
    "        x_i = self.molar_fractions[i]\n",
    "        \n",
    "        v_minus_b = v - self.mixture_b\n",
    "        \n",
    "        BI = self.binary_interaction\n",
    "        AIJ = BI * np.sqrt(np.einsum('i,j', self.a, self.a))\n",
    "\n",
    "        ln_f = (  np.log((x_i * R * T) / v_minus_b) \n",
    "                + self.b[i] / v_minus_b \n",
    "                - self.numerator_coef[i] / (v * R * T))\n",
    "        \n",
    "        return np.exp(ln_f) # [Pa]\n",
    "    \n",
    "    def calculate_fugacities(\n",
    "        self,\n",
    "        pressure,\n",
    "        temperature,\n",
    "        molar_volume\n",
    "    ):\n",
    "        P = pressure\n",
    "        T = temperature\n",
    "        v = molar_volume\n",
    "        x = self.molar_fractions\n",
    "        \n",
    "        v_minus_b = v - self.mixture_b\n",
    "        \n",
    "        BI = self.binary_interaction\n",
    "        AIJ = BI * np.sqrt(np.einsum('i,j', self.a, self.a))\n",
    "\n",
    "        ln_f = (  np.log((x * R * T) / v_minus_b) \n",
    "                + self.b / v_minus_b \n",
    "                - self.numerator_coef / (v * R * T))\n",
    "        \n",
    "        return (x * P) * np.exp(ln_f) # [Pa]\n",
    "        "
   ]
  },
  {
   "cell_type": "code",
   "execution_count": 135,
   "metadata": {
    "collapsed": false
   },
   "outputs": [],
   "source": [
    "def func_rachford_rice(x, global_molar_fractions, K_values):\n",
    "    z = global_molar_fractions\n",
    "    c = 1.0 / (K_values - 1.0)\n",
    "    return np.sum(z / (c + x))\n",
    "\n",
    "def deriv_rachford_rice(x, global_molar_fractions, K_values):\n",
    "    z = global_molar_fractions\n",
    "    c = 1.0 / (K_values - 1.0)\n",
    "    return - np.sum(z / ((c + x) ** 2))\n",
    "    \n",
    "def calculate_rachford_rice(global_molar_fractions, K_values):\n",
    "    min_K = np.min(K_values)\n",
    "    max_K = np.max(K_values)\n",
    "\n",
    "    min_val = 1.0 / (1.0 - max_K)\n",
    "    max_val = 1.0 / (1.0 - min_K)\n",
    "\n",
    "    F_V = root(\n",
    "        fun=func_rachford_rice,\n",
    "        x0=0.5,\n",
    "        args=(global_molar_fractions, K_values),\n",
    "        jac=deriv_rachford_rice\n",
    "    )    \n",
    "\n",
    "    \n",
    "    return F_V"
   ]
  },
  {
   "cell_type": "code",
   "execution_count": 138,
   "metadata": {
    "collapsed": false
   },
   "outputs": [
    {
     "name": "stdout",
     "output_type": "stream",
     "text": [
      "1.01096894234\n"
     ]
    },
    {
     "ename": "ValueError",
     "evalue": "object of too small depth for desired array",
     "output_type": "error",
     "traceback": [
      "\u001b[1;31m---------------------------------------------------------------------------\u001b[0m",
      "\u001b[1;31mValueError\u001b[0m                                Traceback (most recent call last)",
      "\u001b[1;31mValueError\u001b[0m: object of too small depth for desired array"
     ]
    },
    {
     "ename": "error",
     "evalue": "Result from function call is not a proper array of floats.",
     "output_type": "error",
     "traceback": [
      "\u001b[1;31m---------------------------------------------------------------------------\u001b[0m",
      "\u001b[1;31merror\u001b[0m                                     Traceback (most recent call last)",
      "\u001b[1;32m<ipython-input-138-e0d1560667b7>\u001b[0m in \u001b[0;36m<module>\u001b[1;34m()\u001b[0m\n\u001b[0;32m      2\u001b[0m \u001b[0mmax_val\u001b[0m \u001b[1;33m=\u001b[0m \u001b[1;36m1.0\u001b[0m \u001b[1;33m/\u001b[0m \u001b[1;33m(\u001b[0m\u001b[1;36m1.0\u001b[0m \u001b[1;33m-\u001b[0m \u001b[0mmin_K\u001b[0m\u001b[1;33m)\u001b[0m\u001b[1;33m\u001b[0m\u001b[0m\n\u001b[0;32m      3\u001b[0m \u001b[1;32mprint\u001b[0m \u001b[0mmax_val\u001b[0m\u001b[1;33m\u001b[0m\u001b[0m\n\u001b[1;32m----> 4\u001b[1;33m \u001b[0mcalculate_rachford_rice\u001b[0m\u001b[1;33m(\u001b[0m\u001b[0mglobal_molar_fractions\u001b[0m\u001b[1;33m,\u001b[0m \u001b[0minitial_K_values\u001b[0m\u001b[1;33m)\u001b[0m\u001b[1;33m\u001b[0m\u001b[0m\n\u001b[0m",
      "\u001b[1;32m<ipython-input-135-ba4ca017744c>\u001b[0m in \u001b[0;36mcalculate_rachford_rice\u001b[1;34m(global_molar_fractions, K_values)\u001b[0m\n\u001b[0;32m     20\u001b[0m         \u001b[0mx0\u001b[0m\u001b[1;33m=\u001b[0m\u001b[1;36m0.5\u001b[0m\u001b[1;33m,\u001b[0m\u001b[1;33m\u001b[0m\u001b[0m\n\u001b[0;32m     21\u001b[0m         \u001b[0margs\u001b[0m\u001b[1;33m=\u001b[0m\u001b[1;33m(\u001b[0m\u001b[0mglobal_molar_fractions\u001b[0m\u001b[1;33m,\u001b[0m \u001b[0mK_values\u001b[0m\u001b[1;33m)\u001b[0m\u001b[1;33m,\u001b[0m\u001b[1;33m\u001b[0m\u001b[0m\n\u001b[1;32m---> 22\u001b[1;33m         \u001b[0mjac\u001b[0m\u001b[1;33m=\u001b[0m\u001b[0mderiv_rachford_rice\u001b[0m\u001b[1;33m\u001b[0m\u001b[0m\n\u001b[0m\u001b[0;32m     23\u001b[0m     )    \n\u001b[0;32m     24\u001b[0m \u001b[1;33m\u001b[0m\u001b[0m\n",
      "\u001b[1;32mD:\\Work\\Miniconda\\envs\\py27\\lib\\site-packages\\scipy\\optimize\\_root.pyc\u001b[0m in \u001b[0;36mroot\u001b[1;34m(fun, x0, args, method, jac, tol, callback, options)\u001b[0m\n\u001b[0;32m    177\u001b[0m \u001b[1;33m\u001b[0m\u001b[0m\n\u001b[0;32m    178\u001b[0m     \u001b[1;32mif\u001b[0m \u001b[0mmeth\u001b[0m \u001b[1;33m==\u001b[0m \u001b[1;34m'hybr'\u001b[0m\u001b[1;33m:\u001b[0m\u001b[1;33m\u001b[0m\u001b[0m\n\u001b[1;32m--> 179\u001b[1;33m         \u001b[0msol\u001b[0m \u001b[1;33m=\u001b[0m \u001b[0m_root_hybr\u001b[0m\u001b[1;33m(\u001b[0m\u001b[0mfun\u001b[0m\u001b[1;33m,\u001b[0m \u001b[0mx0\u001b[0m\u001b[1;33m,\u001b[0m \u001b[0margs\u001b[0m\u001b[1;33m=\u001b[0m\u001b[0margs\u001b[0m\u001b[1;33m,\u001b[0m \u001b[0mjac\u001b[0m\u001b[1;33m=\u001b[0m\u001b[0mjac\u001b[0m\u001b[1;33m,\u001b[0m \u001b[1;33m**\u001b[0m\u001b[0moptions\u001b[0m\u001b[1;33m)\u001b[0m\u001b[1;33m\u001b[0m\u001b[0m\n\u001b[0m\u001b[0;32m    180\u001b[0m     \u001b[1;32melif\u001b[0m \u001b[0mmeth\u001b[0m \u001b[1;33m==\u001b[0m \u001b[1;34m'lm'\u001b[0m\u001b[1;33m:\u001b[0m\u001b[1;33m\u001b[0m\u001b[0m\n\u001b[0;32m    181\u001b[0m         \u001b[0msol\u001b[0m \u001b[1;33m=\u001b[0m \u001b[0m_root_leastsq\u001b[0m\u001b[1;33m(\u001b[0m\u001b[0mfun\u001b[0m\u001b[1;33m,\u001b[0m \u001b[0mx0\u001b[0m\u001b[1;33m,\u001b[0m \u001b[0margs\u001b[0m\u001b[1;33m=\u001b[0m\u001b[0margs\u001b[0m\u001b[1;33m,\u001b[0m \u001b[0mjac\u001b[0m\u001b[1;33m=\u001b[0m\u001b[0mjac\u001b[0m\u001b[1;33m,\u001b[0m \u001b[1;33m**\u001b[0m\u001b[0moptions\u001b[0m\u001b[1;33m)\u001b[0m\u001b[1;33m\u001b[0m\u001b[0m\n",
      "\u001b[1;32mD:\\Work\\Miniconda\\envs\\py27\\lib\\site-packages\\scipy\\optimize\\minpack.pyc\u001b[0m in \u001b[0;36m_root_hybr\u001b[1;34m(func, x0, args, jac, col_deriv, xtol, maxfev, band, eps, factor, diag, full_output, **unknown_options)\u001b[0m\n\u001b[0;32m    213\u001b[0m             \u001b[0mmaxfev\u001b[0m \u001b[1;33m=\u001b[0m \u001b[1;36m100\u001b[0m \u001b[1;33m*\u001b[0m \u001b[1;33m(\u001b[0m\u001b[0mn\u001b[0m \u001b[1;33m+\u001b[0m \u001b[1;36m1\u001b[0m\u001b[1;33m)\u001b[0m\u001b[1;33m\u001b[0m\u001b[0m\n\u001b[0;32m    214\u001b[0m         retval = _minpack._hybrj(func, Dfun, x0, args, 1,\n\u001b[1;32m--> 215\u001b[1;33m                                  col_deriv, xtol, maxfev, factor, diag)\n\u001b[0m\u001b[0;32m    216\u001b[0m \u001b[1;33m\u001b[0m\u001b[0m\n\u001b[0;32m    217\u001b[0m     \u001b[0mx\u001b[0m\u001b[1;33m,\u001b[0m \u001b[0mstatus\u001b[0m \u001b[1;33m=\u001b[0m \u001b[0mretval\u001b[0m\u001b[1;33m[\u001b[0m\u001b[1;36m0\u001b[0m\u001b[1;33m]\u001b[0m\u001b[1;33m,\u001b[0m \u001b[0mretval\u001b[0m\u001b[1;33m[\u001b[0m\u001b[1;33m-\u001b[0m\u001b[1;36m1\u001b[0m\u001b[1;33m]\u001b[0m\u001b[1;33m\u001b[0m\u001b[0m\n",
      "\u001b[1;31merror\u001b[0m: Result from function call is not a proper array of floats."
     ]
    }
   ],
   "source": [
    "min_K = np.min(initial_K_values)\n",
    "max_val = 1.0 / (1.0 - min_K)\n",
    "print max_val\n",
    "calculate_rachford_rice(global_molar_fractions, initial_K_values)"
   ]
  },
  {
   "cell_type": "code",
   "execution_count": null,
   "metadata": {
    "collapsed": false
   },
   "outputs": [],
   "source": []
  },
  {
   "cell_type": "code",
   "execution_count": null,
   "metadata": {
    "collapsed": false
   },
   "outputs": [],
   "source": []
  },
  {
   "cell_type": "code",
   "execution_count": null,
   "metadata": {
    "collapsed": false
   },
   "outputs": [],
   "source": []
  },
  {
   "cell_type": "code",
   "execution_count": null,
   "metadata": {
    "collapsed": true
   },
   "outputs": [],
   "source": []
  },
  {
   "cell_type": "code",
   "execution_count": 55,
   "metadata": {
    "collapsed": false
   },
   "outputs": [
    {
     "name": "stdout",
     "output_type": "stream",
     "text": [
      "Possible roots are 3.7723e-05 m3/mol and 2.4757e-02 m3/mol.\n",
      "Fugacity is 103639.4 kPa.\n",
      "[  9.32754424e+09   7.53222824e+08]\n"
     ]
    }
   ],
   "source": [
    "# Input data\n",
    "a = np.array([0.55237, 0.42548])\n",
    "b = np.array([3.0412e-5, 3.738e-5])\n",
    "\n",
    "delta_ij = 0.47126/sqrt(a[0] * a[1])\n",
    "\n",
    "binary_interaction = np.array(\n",
    "    [[1.000000, delta_ij],\n",
    "     [delta_ij, 1.000000]]\n",
    ")\n",
    "\n",
    "molar_fractions = np.array([0.9, 0.1])\n",
    "\n",
    "# Create EoS object and set properties\n",
    "eos = WanDerWaalsEos(a, b, binary_interaction)\n",
    "\n",
    "# Set molar fractions\n",
    "eos.set_molar_fractions(molar_fractions)\n",
    "\n",
    "eos.update_eos_coefficients()\n",
    "\n",
    "volumes = eos.calculate_eos_roots(pressure=100000.0, temperature=300)\n",
    "print 'Possible roots are %.4e m3/mol and %.4e m3/mol.' % (volumes[0], volumes[1])\n",
    "\n",
    "f_i = eos.calculate_fugacity(\n",
    "    component_index=0,\n",
    "    temperature=300.0,\n",
    "    molar_volume=volumes[0]\n",
    ")\n",
    "\n",
    "print 'Fugacity is %.1f kPa.' % (f_i/1000.0)\n",
    "\n",
    "f = eos.calculate_fugacities(\n",
    "    pressure=100000.0,\n",
    "    temperature=300.0,\n",
    "    molar_volume=volumes[0]\n",
    ")\n",
    "\n",
    "print f/1000.0"
   ]
  },
  {
   "cell_type": "code",
   "execution_count": 50,
   "metadata": {
    "collapsed": true
   },
   "outputs": [],
   "source": [
    "def residual_function(x, temperature, pressure, eos, global_molar_fractions):\n",
    "    T = temperature\n",
    "    P = pressure\n",
    "    z = global_molar_fractions\n",
    "    \n",
    "    size = x.shape[0]\n",
    "    \n",
    "    K = x[0:size-1] # K-values\n",
    "    K_minus_one = (K - 1.0)\n",
    "    \n",
    "    F_V = x[size-1]\n",
    "    \n",
    "    print F_V\n",
    "    if F_V < 0.0:\n",
    "        F_V = 0.0\n",
    "    if F_V > 1.0:\n",
    "        F_V = 1.0\n",
    "        \n",
    "    x_L = z / (F_V * K_minus_one + 1.0)\n",
    "    x_V = K * x_L\n",
    "    \n",
    "    # Vapor\n",
    "    eos.set_molar_fractions(x_V)\n",
    "    eos.update_eos_coefficients()\n",
    "    volumes = eos.calculate_eos_roots(P, T)\n",
    "    \n",
    "    if volumes.shape[0] > 1:  \n",
    "        volume_vapor = volumes[1] # Larger value\n",
    "    else:\n",
    "        volume_vapor = volumes[0] # Only value\n",
    "\n",
    "    assert volume_vapor > 0.0, 'Vapor volume < 0.0!'\n",
    "    \n",
    "    f_V = eos.calculate_fugacities(P, T, volume_vapor)\n",
    "    \n",
    "    # Liquid\n",
    "    eos.set_molar_fractions(x_L)\n",
    "    eos.update_eos_coefficients()\n",
    "    volumes = eos.calculate_eos_roots(P, T)\n",
    "    \n",
    "    if volumes.shape[0] > 1:        \n",
    "        volume_liquid = volumes[0] # Larger value\n",
    "    else:\n",
    "        volume_liquid = volumes[0] # Only value\n",
    "\n",
    "    assert volume_liquid > 0.0, 'Liquid volume < 0.0!'\n",
    "        \n",
    "    f_L = eos.calculate_fugacities(P, T, volume_liquid)\n",
    "    \n",
    "    residual_fugacity = f_L - f_V \n",
    "    residual_mass = np.sum(z * K_minus_one / (1.0 + F_V * K_minus_one))\n",
    "    residual = np.append(residual_fugacity, residual_mass)\n",
    "\n",
    "    print f_L, f_V\n",
    "    return residual"
   ]
  },
  {
   "cell_type": "code",
   "execution_count": 113,
   "metadata": {
    "collapsed": true
   },
   "outputs": [],
   "source": [
    "def calculate_initial_K_values(\n",
    "    pressure,\n",
    "    temperature,\n",
    "    critical_pressure,\n",
    "    critical_temperature,\n",
    "    acentric_factor\n",
    "):\n",
    "    P = pressure\n",
    "    T = temperature\n",
    "    P_c = critical_pressure\n",
    "    T_c = critical_temperature\n",
    "    omega = acentric_factor\n",
    "    \n",
    "    return (P_c / P) * np.exp(5.37 * (1.0 + omega) * (1.0 - (T_c / T)))\n",
    "\n",
    "def calculate_m_function(acentric_factor):\n",
    "    return np.where(\n",
    "        acentric_factor < 0.49, \n",
    "        0.37464 + 1.54226 * acentric_factor - 0.26992 * acentric_factor **2, \n",
    "        0.3796 + 1.485 * acentric_factor - 0.1644 * acentric_factor **2 + 0.01667 * acentric_factor ** 3\n",
    "    )"
   ]
  },
  {
   "cell_type": "code",
   "execution_count": 106,
   "metadata": {
    "collapsed": false
   },
   "outputs": [],
   "source": [
    "temperature = 366.5\n",
    "pressure = 150.0 * 1.0e5\n",
    "\n",
    "critical_pressure = 101325.0 * np.array([45.45, 51.29, 39.89, 31.95, 27.91, 17.71, 12.52]) # [atm]\n",
    "critical_temperature = np.array([189.2, 305.4, 395.8, 485.1, 592.0, 697.1, 804.4]) # [K]\n",
    "acentric_factor = np.array([0.00891, 0.11352, 0.17113, 0.26910, 0.34196, 0.51730, 0.72755]) # [-]\n",
    "molar_mass = 0.001 * np.array([16.38, 31.77, 50.64, 77.78, 118.44, 193.95, 295.30]) # [g/mol]\n",
    "omega_a = np.array([0.344772, 0.521974, 0.514972, 0.419169, 0.485943, 0.570583, 0.457236]) # [-]\n",
    "omega_b = np.array([0.063282, 0.099825, 0.107479, 0.093455, 0.07486, 0.101206, 0.077796]) # [-]\n",
    "\n",
    "binary_interaction = np.array(\n",
    "[[ 0.000000,  0.000622, -0.002471,  0.011418, -0.028367, -0.100000, 0.206868],\n",
    " [ 0.000622,  0.000000, -0.001540,  0.010046,  0.010046,  0.010046, 0.010046],\n",
    " [-0.002471, -0.001540,  0.000000,  0.002246,  0.002246,  0.002246, 0.002246],\n",
    " [ 0.011418,  0.010046,  0.002246,  0.000000,  0.000000,  0.000000, 0.000000],\n",
    " [-0.028367,  0.010046,  0.002246,  0.000000,  0.000000,  0.000000, 0.000000],\n",
    " [-0.100000,  0.010046,  0.002246,  0.000000,  0.000000,  0.000000, 0.000000],\n",
    " [ 0.206868,  0.010046,  0.002246,  0.000000,  0.000000,  0.000000, 0.000000]]\n",
    ")\n",
    "\n",
    "global_molar_fractions = np.array([0.6793, 0.099, 0.1108, 0.045, 0.05011, 0.0134, 0.00239])\n",
    "\n"
   ]
  },
  {
   "cell_type": "code",
   "execution_count": 124,
   "metadata": {
    "collapsed": false
   },
   "outputs": [
    {
     "name": "stdout",
     "output_type": "stream",
     "text": [
      "[ 2029795.86190413  1022782.08591318    20848.71183137]\n"
     ]
    }
   ],
   "source": [
    "# TEST PROBLEM PHASE BEHAVIOUR WHITSON PROBLEM 18 APPENDIX\n",
    "temperature = (280.0 + 459.67) * 5.0 / 9.0\n",
    "pressure = 500.0 * 6894.75729\n",
    "\n",
    "critical_pressure = 6894.75729 * np.array([667.8, 550.7, 304.0]) # [atm]\n",
    "critical_temperature = (5.0 / 9.0) * np.array([343.0, 765.3, 1111.8]) # [K]\n",
    "acentric_factor = np.array([0.011500, 0.192800, 0.490200]) # [-]\n",
    "molar_mass = 0.001 * np.array([16.04, 58.12, 142.29]) # [g/mol]\n",
    "omega_a = np.array([0.45724, 0.45724, 0.45724]) # [-]\n",
    "omega_b = np.array([0.07780, 0.07780, 0.07780]) # [-]\n",
    "\n",
    "binary_interaction = np.array(\n",
    "[[0.000000,  0.000000, 0.000000],\n",
    " [0.000000,  0.000000, 0.000000],\n",
    " [0.000000,  0.000000, 0.000000]]\n",
    ")\n",
    "\n",
    "global_molar_fractions = np.array([0.5, 0.42, 0.08])\n",
    "\n",
    "fugacity_expected = np.array([294.397, 148.342, 3.02385]) * 6894.75729\n",
    "K_values_expected = np.array([6.65071, 0.890061, 0.03624])\n",
    "x_expected = np.array([0.08588, 0.46349, 0.45064])\n",
    "y_expected = np.array([0.57114, 0.41253, 0.01633])\n",
    "print fugacity_expected"
   ]
  },
  {
   "cell_type": "code",
   "execution_count": 125,
   "metadata": {
    "collapsed": false
   },
   "outputs": [
    {
     "name": "stdout",
     "output_type": "stream",
     "text": [
      "[  2.45895248e+01   8.82173476e-01   1.08499301e-02]\n",
      "0.5\n",
      "[  1.86459607e+10   2.54658197e+12   3.60890809e+11] [  1.12741818e+13   1.98182659e+12   4.24844207e+07]\n",
      "0.5\n",
      "[  1.86459607e+10   2.54658197e+12   3.60890809e+11] [  1.12741818e+13   1.98182659e+12   4.24844207e+07]\n",
      "0.5\n",
      "[  1.86459607e+10   2.54658197e+12   3.60890809e+11] [  1.12741818e+13   1.98182659e+12   4.24844207e+07]\n",
      "0.5\n",
      "[  1.86459602e+10   2.54658197e+12   3.60890809e+11] [  1.12741819e+13   1.98182659e+12   4.24844207e+07]\n",
      "0.5\n"
     ]
    },
    {
     "ename": "AssertionError",
     "evalue": "Liquid volume < 0.0!",
     "output_type": "error",
     "traceback": [
      "\u001b[1;31m---------------------------------------------------------------------------\u001b[0m",
      "\u001b[1;31mAssertionError\u001b[0m                            Traceback (most recent call last)",
      "\u001b[1;32m<ipython-input-125-97530646bfa0>\u001b[0m in \u001b[0;36m<module>\u001b[1;34m()\u001b[0m\n\u001b[0;32m     24\u001b[0m     \u001b[0mfunc\u001b[0m\u001b[1;33m=\u001b[0m\u001b[0mresidual_function\u001b[0m\u001b[1;33m,\u001b[0m\u001b[1;33m\u001b[0m\u001b[0m\n\u001b[0;32m     25\u001b[0m     \u001b[0mx0\u001b[0m\u001b[1;33m=\u001b[0m\u001b[0mx0\u001b[0m\u001b[1;33m,\u001b[0m\u001b[1;33m\u001b[0m\u001b[0m\n\u001b[1;32m---> 26\u001b[1;33m     \u001b[0margs\u001b[0m\u001b[1;33m=\u001b[0m\u001b[1;33m(\u001b[0m\u001b[0mtemperature\u001b[0m\u001b[1;33m,\u001b[0m \u001b[0mpressure\u001b[0m\u001b[1;33m,\u001b[0m \u001b[0meos\u001b[0m\u001b[1;33m,\u001b[0m \u001b[0mglobal_molar_fractions\u001b[0m\u001b[1;33m)\u001b[0m\u001b[1;33m,\u001b[0m\u001b[1;33m\u001b[0m\u001b[0m\n\u001b[0m\u001b[0;32m     27\u001b[0m     \u001b[1;31m#full_output=True\u001b[0m\u001b[1;33m\u001b[0m\u001b[1;33m\u001b[0m\u001b[0m\n\u001b[0;32m     28\u001b[0m )\n",
      "\u001b[1;32mD:\\Work\\Miniconda\\envs\\py27\\lib\\site-packages\\scipy\\optimize\\minpack.pyc\u001b[0m in \u001b[0;36mfsolve\u001b[1;34m(func, x0, args, fprime, full_output, col_deriv, xtol, maxfev, band, epsfcn, factor, diag)\u001b[0m\n\u001b[0;32m    138\u001b[0m                'full_output': full_output}\n\u001b[0;32m    139\u001b[0m \u001b[1;33m\u001b[0m\u001b[0m\n\u001b[1;32m--> 140\u001b[1;33m     \u001b[0mres\u001b[0m \u001b[1;33m=\u001b[0m \u001b[0m_root_hybr\u001b[0m\u001b[1;33m(\u001b[0m\u001b[0mfunc\u001b[0m\u001b[1;33m,\u001b[0m \u001b[0mx0\u001b[0m\u001b[1;33m,\u001b[0m \u001b[0margs\u001b[0m\u001b[1;33m,\u001b[0m \u001b[0mjac\u001b[0m\u001b[1;33m=\u001b[0m\u001b[0mfprime\u001b[0m\u001b[1;33m,\u001b[0m \u001b[1;33m**\u001b[0m\u001b[0moptions\u001b[0m\u001b[1;33m)\u001b[0m\u001b[1;33m\u001b[0m\u001b[0m\n\u001b[0m\u001b[0;32m    141\u001b[0m     \u001b[1;32mif\u001b[0m \u001b[0mfull_output\u001b[0m\u001b[1;33m:\u001b[0m\u001b[1;33m\u001b[0m\u001b[0m\n\u001b[0;32m    142\u001b[0m         \u001b[0mx\u001b[0m \u001b[1;33m=\u001b[0m \u001b[0mres\u001b[0m\u001b[1;33m[\u001b[0m\u001b[1;34m'x'\u001b[0m\u001b[1;33m]\u001b[0m\u001b[1;33m\u001b[0m\u001b[0m\n",
      "\u001b[1;32mD:\\Work\\Miniconda\\envs\\py27\\lib\\site-packages\\scipy\\optimize\\minpack.pyc\u001b[0m in \u001b[0;36m_root_hybr\u001b[1;34m(func, x0, args, jac, col_deriv, xtol, maxfev, band, eps, factor, diag, full_output, **unknown_options)\u001b[0m\n\u001b[0;32m    207\u001b[0m             \u001b[0mmaxfev\u001b[0m \u001b[1;33m=\u001b[0m \u001b[1;36m200\u001b[0m \u001b[1;33m*\u001b[0m \u001b[1;33m(\u001b[0m\u001b[0mn\u001b[0m \u001b[1;33m+\u001b[0m \u001b[1;36m1\u001b[0m\u001b[1;33m)\u001b[0m\u001b[1;33m\u001b[0m\u001b[0m\n\u001b[0;32m    208\u001b[0m         retval = _minpack._hybrd(func, x0, args, 1, xtol, maxfev,\n\u001b[1;32m--> 209\u001b[1;33m                                  ml, mu, epsfcn, factor, diag)\n\u001b[0m\u001b[0;32m    210\u001b[0m     \u001b[1;32melse\u001b[0m\u001b[1;33m:\u001b[0m\u001b[1;33m\u001b[0m\u001b[0m\n\u001b[0;32m    211\u001b[0m         \u001b[0m_check_func\u001b[0m\u001b[1;33m(\u001b[0m\u001b[1;34m'fsolve'\u001b[0m\u001b[1;33m,\u001b[0m \u001b[1;34m'fprime'\u001b[0m\u001b[1;33m,\u001b[0m \u001b[0mDfun\u001b[0m\u001b[1;33m,\u001b[0m \u001b[0mx0\u001b[0m\u001b[1;33m,\u001b[0m \u001b[0margs\u001b[0m\u001b[1;33m,\u001b[0m \u001b[0mn\u001b[0m\u001b[1;33m,\u001b[0m \u001b[1;33m(\u001b[0m\u001b[0mn\u001b[0m\u001b[1;33m,\u001b[0m \u001b[0mn\u001b[0m\u001b[1;33m)\u001b[0m\u001b[1;33m)\u001b[0m\u001b[1;33m\u001b[0m\u001b[0m\n",
      "\u001b[1;32m<ipython-input-50-3d01ab3b1b02>\u001b[0m in \u001b[0;36mresidual_function\u001b[1;34m(x, temperature, pressure, eos, global_molar_fractions)\u001b[0m\n\u001b[0;32m     44\u001b[0m         \u001b[0mvolume_liquid\u001b[0m \u001b[1;33m=\u001b[0m \u001b[0mvolumes\u001b[0m\u001b[1;33m[\u001b[0m\u001b[1;36m0\u001b[0m\u001b[1;33m]\u001b[0m \u001b[1;31m# Only value\u001b[0m\u001b[1;33m\u001b[0m\u001b[0m\n\u001b[0;32m     45\u001b[0m \u001b[1;33m\u001b[0m\u001b[0m\n\u001b[1;32m---> 46\u001b[1;33m     \u001b[1;32massert\u001b[0m \u001b[0mvolume_liquid\u001b[0m \u001b[1;33m>\u001b[0m \u001b[1;36m0.0\u001b[0m\u001b[1;33m,\u001b[0m \u001b[1;34m'Liquid volume < 0.0!'\u001b[0m\u001b[1;33m\u001b[0m\u001b[0m\n\u001b[0m\u001b[0;32m     47\u001b[0m \u001b[1;33m\u001b[0m\u001b[0m\n\u001b[0;32m     48\u001b[0m     \u001b[0mf_L\u001b[0m \u001b[1;33m=\u001b[0m \u001b[0meos\u001b[0m\u001b[1;33m.\u001b[0m\u001b[0mcalculate_fugacities\u001b[0m\u001b[1;33m(\u001b[0m\u001b[0mP\u001b[0m\u001b[1;33m,\u001b[0m \u001b[0mT\u001b[0m\u001b[1;33m,\u001b[0m \u001b[0mvolume_liquid\u001b[0m\u001b[1;33m)\u001b[0m\u001b[1;33m\u001b[0m\u001b[0m\n",
      "\u001b[1;31mAssertionError\u001b[0m: Liquid volume < 0.0!"
     ]
    }
   ],
   "source": [
    "m = calculate_m_function(acentric_factor)\n",
    "alpha = (1.0 + m * (1.0 - np.sqrt(temperature / critical_temperature)))\n",
    "a = alpha * (omega_a * (R * critical_temperature) ** 2) / critical_pressure\n",
    "b = (omega_b * R * critical_temperature) / critical_pressure\n",
    "\n",
    "initial_vapor_fraction = 0.5\n",
    "\n",
    "initial_K_values = calculate_initial_K_values(\n",
    "    pressure,\n",
    "    temperature,\n",
    "    critical_pressure,\n",
    "    critical_temperature,\n",
    "    acentric_factor\n",
    ")\n",
    "print initial_K_values\n",
    "x0 = np.append(initial_K_values, initial_vapor_fraction)\n",
    "\n",
    "# Create EoS object and set properties\n",
    "eos = WanDerWaalsEos(a, b, binary_interaction)\n",
    "\n",
    "F_V = calculate_rachford_rice(global_molar_fractions, initial_K_values)\n",
    "print F_V\n",
    "#result = fsolve(\n",
    "#    func=residual_function,\n",
    "#    x0=x0,\n",
    "#    args=(temperature, pressure, eos, global_molar_fractions),\n",
    "    #full_output=True\n",
    "#)\n",
    "\n",
    "#print result"
   ]
  },
  {
   "cell_type": "code",
   "execution_count": 24,
   "metadata": {
    "collapsed": false
   },
   "outputs": [
    {
     "name": "stdout",
     "output_type": "stream",
     "text": [
      "[ 2029795.86190413  1022782.08591318    20848.71183137]\n"
     ]
    }
   ],
   "source": []
  },
  {
   "cell_type": "code",
   "execution_count": 158,
   "metadata": {
    "collapsed": false
   },
   "outputs": [
    {
     "name": "stdout",
     "output_type": "stream",
     "text": [
      "4\n"
     ]
    }
   ],
   "source": [
    "bb = np.array([1,2,3,4])\n",
    "\n",
    "print bb[bb.shape[0]-1]"
   ]
  },
  {
   "cell_type": "code",
   "execution_count": 201,
   "metadata": {
    "collapsed": false
   },
   "outputs": [
    {
     "name": "stdout",
     "output_type": "stream",
     "text": [
      "[ 1.5  1.5  1.5  3.8  3.8  3.8]\n"
     ]
    },
    {
     "ename": "NameError",
     "evalue": "name 'res' is not defined",
     "output_type": "error",
     "traceback": [
      "\u001b[1;31m---------------------------------------------------------------------------\u001b[0m",
      "\u001b[1;31mNameError\u001b[0m                                 Traceback (most recent call last)",
      "\u001b[1;32m<ipython-input-201-3a16781fd264>\u001b[0m in \u001b[0;36m<module>\u001b[1;34m()\u001b[0m\n\u001b[0;32m      7\u001b[0m \u001b[0mmm1\u001b[0m \u001b[1;33m=\u001b[0m \u001b[0mnp\u001b[0m\u001b[1;33m.\u001b[0m\u001b[0mwhere\u001b[0m\u001b[1;33m(\u001b[0m\u001b[0maa\u001b[0m \u001b[1;33m>\u001b[0m \u001b[1;36m2\u001b[0m\u001b[1;33m)\u001b[0m\u001b[1;33m\u001b[0m\u001b[0m\n\u001b[0;32m      8\u001b[0m \u001b[1;33m\u001b[0m\u001b[0m\n\u001b[1;32m----> 9\u001b[1;33m \u001b[0mres\u001b[0m\u001b[1;33m\u001b[0m\u001b[0m\n\u001b[0m\u001b[0;32m     10\u001b[0m \u001b[1;32mprint\u001b[0m \u001b[0mmm\u001b[0m\u001b[1;33m[\u001b[0m\u001b[1;36m0\u001b[0m\u001b[1;33m]\u001b[0m\u001b[1;33m,\u001b[0m \u001b[0mmm1\u001b[0m\u001b[1;33m[\u001b[0m\u001b[1;36m0\u001b[0m\u001b[1;33m]\u001b[0m\u001b[1;33m\u001b[0m\u001b[0m\n",
      "\u001b[1;31mNameError\u001b[0m: name 'res' is not defined"
     ]
    }
   ],
   "source": [
    "aa = np.array([1,1,1,3,3,3])\n",
    "\n",
    "mm = np.where(aa < 2, aa + 0.5, aa + 0.8)\n",
    "print mm\n",
    "\n",
    "mm = np.where(aa < 2)\n",
    "mm1 = np.where(aa > 2)\n",
    "\n",
    "res\n",
    "print mm[0], mm1[0]"
   ]
  },
  {
   "cell_type": "code",
   "execution_count": 199,
   "metadata": {
    "collapsed": false
   },
   "outputs": [
    {
     "name": "stdout",
     "output_type": "stream",
     "text": [
      "[ True  True  True False False False]\n"
     ]
    }
   ],
   "source": [
    "print aa < 2"
   ]
  },
  {
   "cell_type": "code",
   "execution_count": 256,
   "metadata": {
    "collapsed": true
   },
   "outputs": [],
   "source": [
    "aa = np.array([1,2])"
   ]
  },
  {
   "cell_type": "code",
   "execution_count": 259,
   "metadata": {
    "collapsed": false
   },
   "outputs": [],
   "source": [
    "if aa.shape > 1:\n",
    "    print 'here'\n",
    "    \n",
    "if bb.shape > 1:\n",
    "    print 'here'"
   ]
  },
  {
   "cell_type": "raw",
   "metadata": {},
   "source": []
  },
  {
   "cell_type": "code",
   "execution_count": null,
   "metadata": {
    "collapsed": true
   },
   "outputs": [],
   "source": []
  },
  {
   "cell_type": "code",
   "execution_count": null,
   "metadata": {
    "collapsed": true
   },
   "outputs": [],
   "source": []
  },
  {
   "cell_type": "code",
   "execution_count": null,
   "metadata": {
    "collapsed": true
   },
   "outputs": [],
   "source": []
  }
 ],
 "metadata": {
  "kernelspec": {
   "display_name": "Python 2",
   "language": "python",
   "name": "python2"
  },
  "language_info": {
   "codemirror_mode": {
    "name": "ipython",
    "version": 2
   },
   "file_extension": ".py",
   "mimetype": "text/x-python",
   "name": "python",
   "nbconvert_exporter": "python",
   "pygments_lexer": "ipython2",
   "version": "2.7.9"
  }
 },
 "nbformat": 4,
 "nbformat_minor": 0
}
