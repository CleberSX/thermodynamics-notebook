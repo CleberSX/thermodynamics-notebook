{
 "cells": [
  {
   "cell_type": "code",
   "execution_count": 145,
   "metadata": {
    "collapsed": false
   },
   "outputs": [],
   "source": [
    "import numpy as np\n",
    "from itertools import izip\n",
    "from math import *\n",
    "from scipy.optimize import fsolve"
   ]
  },
  {
   "cell_type": "code",
   "execution_count": 3,
   "metadata": {
    "collapsed": true
   },
   "outputs": [],
   "source": [
    "R = 8.314 # [kg/(J.K)]"
   ]
  },
  {
   "cell_type": "markdown",
   "metadata": {
    "collapsed": true
   },
   "source": [
    "The van der Waals Equation of State is given by\n",
    "$$\n",
    "P = \\frac{RT}{v - b} - \\frac{a}{v^2}\n",
    "$$\n",
    "\n",
    "We can write it in a cubic equation form:\n",
    "$$\n",
    "v^3 - \\left( b + \\frac{RT}{P} \\right) v^2 + \\frac{a}{P}v - \\frac{ab}{P} = 0\n",
    "$$\n",
    "\n",
    "where we need to find the roots of $v$"
   ]
  },
  {
   "cell_type": "code",
   "execution_count": 267,
   "metadata": {
    "collapsed": false
   },
   "outputs": [],
   "source": [
    "class WanDerWaalsEos():\n",
    "    def __init__(self, a, b, binary_interaction):\n",
    "        self.a = a\n",
    "        self.b = b\n",
    "        self.binary_interaction = binary_interaction\n",
    "        \n",
    "    def set_molar_fractions(self, molar_fractions):\n",
    "        self.molar_fractions = molar_fractions\n",
    "    \n",
    "    def update_eos_coefficients(self):\n",
    "        x = self.molar_fractions\n",
    "        \n",
    "        BI = self.binary_interaction\n",
    "\n",
    "        AIJ = BI * np.sqrt(np.einsum('i,j', self.a, self.a))\n",
    "\n",
    "        # This variables will be used in the fugacity expression\n",
    "        self.numerator_coef = np.einsum('ij,j', AIJ, x)\n",
    "        \n",
    "        self.mixture_a = np.dot(np.dot(x, AIJ), x)\n",
    "        self.mixture_b = np.sum(x * self.b)\n",
    "        \n",
    "    def calculate_eos_roots(self, pressure, temperature):\n",
    "        P = pressure\n",
    "        T = temperature\n",
    "        p0 = 1.0\n",
    "        p1 = - (self.mixture_b + (R * T) / P)\n",
    "        p2 = self.mixture_a / P\n",
    "        p3 = - self.mixture_a * self.mixture_b / P     \n",
    "        \n",
    "        coef_a = (3.0 * p2 - (p1 ** 2)) / 3.0        \n",
    "        coef_b = (2.0 * (p1 ** 3) - 9.0 * p1 * p2 + 27.0 * p3) / 27.0        \n",
    "        delta = 0.25 * (coef_b ** 2) + (coef_a ** 3) / 27.0     \n",
    "                  \n",
    "        if delta > 0.0:\n",
    "            # 1 real root, 2 imaginary                 \n",
    "            const_A =  (-0.5 * coef_b + sqrt(delta)) ** (1.0/3.0)\n",
    "            const_B =  (-0.5 * coef_b - sqrt(delta)) ** (1.0/3.0)\n",
    "                  \n",
    "            single_real_root = const_A + const_B - p1 / 3.0 \n",
    "            \n",
    "            return np.array([single_real_root])\n",
    "        else:\n",
    "            # 3 real roots\n",
    "            phi = acos(-0.5 * coef_b / sqrt(-(coef_a ** 3) / 27.0))\n",
    "            root_1 = 2.0 * sqrt(-coef_a / 3.0) * cos(phi / 3.0) - p1 / 3.0\n",
    "            root_2 = 2.0 * sqrt(-coef_a / 3.0) * cos(phi / 3.0 + 2.0 * np.pi / 3.0) - p1 / 3.0\n",
    "            root_3 = 2.0 * sqrt(-coef_a / 3.0) * cos(phi / 3.0 + 4.0 * np.pi / 3.0) - p1 / 3.0\n",
    "\n",
    "            smallest_root = min(min(root_1,root_2), root_3)\n",
    "            largest_root = max(max(root_1,root_2), root_3)\n",
    "                  \n",
    "            return np.array([smallest_root, largest_root])\n",
    "\n",
    "    def calculate_fugacity(\n",
    "        self,\n",
    "        component_index,\n",
    "        temperature,\n",
    "        molar_volume\n",
    "    ):\n",
    "        i = component_index\n",
    "        T = temperature\n",
    "        v = molar_volume\n",
    "        x = self.molar_fractions\n",
    "        x_i = self.molar_fractions[i]\n",
    "        \n",
    "        v_minus_b = v - self.mixture_b\n",
    "        \n",
    "        BI = self.binary_interaction\n",
    "        AIJ = BI * np.sqrt(np.einsum('i,j', self.a, self.a))\n",
    "\n",
    "        ln_f = (  np.log((x_i * R * T) / v_minus_b) \n",
    "                + self.b[i] / v_minus_b \n",
    "                - self.numerator_coef[i] / (v * R * T))\n",
    "        \n",
    "        return np.exp(ln_f) # [Pa]\n",
    "    \n",
    "    def calculate_fugacities(\n",
    "        self,\n",
    "        temperature,\n",
    "        molar_volume\n",
    "    ):\n",
    "        T = temperature\n",
    "        v = molar_volume\n",
    "        x = self.molar_fractions\n",
    "        \n",
    "        v_minus_b = v - self.mixture_b\n",
    "        \n",
    "        BI = self.binary_interaction\n",
    "        AIJ = BI * np.sqrt(np.einsum('i,j', self.a, self.a))\n",
    "\n",
    "        ln_f = (  np.log((x * R * T) / v_minus_b) \n",
    "                + self.b / v_minus_b \n",
    "                - self.numerator_coef / (v * R * T))\n",
    "        \n",
    "        return np.exp(ln_f) # [Pa]\n",
    "        "
   ]
  },
  {
   "cell_type": "code",
   "execution_count": 268,
   "metadata": {
    "collapsed": false
   },
   "outputs": [],
   "source": [
    "# Input data\n",
    "number_of_components = 2\n",
    "\n",
    "a = np.array([0.55237, 0.42548])\n",
    "b = np.array([3.0412e-5, 3.738e-5])\n",
    "\n",
    "delta_ij = 0.47126/sqrt(a[0] * a[1])\n",
    "\n",
    "binary_interaction = np.array(\n",
    "    [[1.000000, delta_ij],\n",
    "     [delta_ij, 1.000000]]\n",
    ")\n",
    "\n",
    "molar_fractions = np.array([0.9, 0.1])"
   ]
  },
  {
   "cell_type": "code",
   "execution_count": null,
   "metadata": {
    "collapsed": false
   },
   "outputs": [],
   "source": []
  },
  {
   "cell_type": "code",
   "execution_count": null,
   "metadata": {
    "collapsed": false
   },
   "outputs": [],
   "source": []
  },
  {
   "cell_type": "code",
   "execution_count": 269,
   "metadata": {
    "collapsed": false
   },
   "outputs": [
    {
     "name": "stdout",
     "output_type": "stream",
     "text": [
      "0.5365013 0.5365013\n",
      "3.11088e-05 3.11088e-05\n"
     ]
    }
   ],
   "source": [
    "eos = WanDerWaalsEos(a, b, binary_interaction)\n",
    "eos.set_molar_fractions(molar_fractions)\n",
    "eos.update_eos_coefficients()\n",
    "\n",
    "print eos.mixture_a, '0.5365013'\n",
    "print eos.mixture_b, '3.11088e-05'"
   ]
  },
  {
   "cell_type": "code",
   "execution_count": null,
   "metadata": {
    "collapsed": false
   },
   "outputs": [],
   "source": []
  },
  {
   "cell_type": "code",
   "execution_count": null,
   "metadata": {
    "collapsed": true
   },
   "outputs": [],
   "source": []
  },
  {
   "cell_type": "code",
   "execution_count": 270,
   "metadata": {
    "collapsed": false
   },
   "outputs": [
    {
     "name": "stdout",
     "output_type": "stream",
     "text": [
      "Possible roots are 3.7723e-05 m3/mol and 2.4757e-02 m3/mol.\n",
      "Fugacity is 103639.4 kPa.\n",
      "[ 103639.38042728   75322.28240228]\n"
     ]
    }
   ],
   "source": [
    "# Create EoS object and set properties\n",
    "eos = WanDerWaalsEos(a, b, binary_interaction)\n",
    "\n",
    "# Set molar fractions\n",
    "eos.set_molar_fractions(molar_fractions)\n",
    "\n",
    "eos.update_eos_coefficients()\n",
    "\n",
    "volumes = eos.calculate_eos_roots(pressure=100000.0, temperature=300)\n",
    "print 'Possible roots are %.4e m3/mol and %.4e m3/mol.' % (volumes[0], volumes[1])\n",
    "\n",
    "f_i = eos.calculate_fugacity(\n",
    "    component_index=0,\n",
    "    temperature=300.0,\n",
    "    molar_volume=volumes[0]\n",
    ")\n",
    "\n",
    "print 'Fugacity is %.1f kPa.' % (f_i/1000.0)\n",
    "\n",
    "f = eos.calculate_fugacities(\n",
    "    temperature=300.0,\n",
    "    molar_volume=volumes[0]\n",
    ")\n",
    "\n",
    "print f/1000.0"
   ]
  },
  {
   "cell_type": "code",
   "execution_count": 311,
   "metadata": {
    "collapsed": true
   },
   "outputs": [],
   "source": [
    "def residual_function(x, temperature, pressure, eos, global_molar_fractions):\n",
    "    T = temperature\n",
    "    P = pressure\n",
    "    z = global_molar_fractions\n",
    "    \n",
    "    size = x.shape[0]\n",
    "    \n",
    "    K = x[0:size-1] # K-values\n",
    "    K_minus_one = (K - 1.0)\n",
    "    \n",
    "    F_V = x[size-1]\n",
    "    \n",
    "    print F_V\n",
    "    if F_V < 0.0:\n",
    "        F_V = 0.0\n",
    "    if F_V > 1.0:\n",
    "        F_V = 1.0\n",
    "        \n",
    "    x_L = z / (F_V * K_minus_one + 1.0)\n",
    "    x_V = K * x_L\n",
    "    \n",
    "    # Vapor\n",
    "    eos.set_molar_fractions(x_V)\n",
    "    eos.update_eos_coefficients()\n",
    "    volumes = eos.calculate_eos_roots(P, T)\n",
    "    \n",
    "    if volumes.shape[0] > 1:  \n",
    "        volume_vapor = volumes[1] # Larger value\n",
    "    else:\n",
    "        volume_vapor = volumes[0] # Only value\n",
    "\n",
    "    assert volume_vapor > 0.0, 'Vapor volume < 0.0!'\n",
    "    \n",
    "    f_V = eos.calculate_fugacities(T, volume_vapor)\n",
    "    \n",
    "    # Liquid\n",
    "    eos.set_molar_fractions(x_L)\n",
    "    eos.update_eos_coefficients()\n",
    "    volumes = eos.calculate_eos_roots(P, T)\n",
    "    \n",
    "    if volumes.shape[0] > 1:        \n",
    "        volume_liquid = volumes[0] # Larger value\n",
    "    else:\n",
    "        volume_liquid = volumes[0] # Only value\n",
    "\n",
    "    assert volume_liquid > 0.0, 'Liquid volume < 0.0!'\n",
    "        \n",
    "    f_L = eos.calculate_fugacities(T, volume_liquid)\n",
    "    \n",
    "    residual_fugacity = f_L - f_V \n",
    "    residual_mass = np.sum(z * K_minus_one / (1.0 + F_V * K_minus_one))\n",
    "    residual = np.append(residual_fugacity, residual_mass)\n",
    "\n",
    "    print x_V, x_L\n",
    "    return residual"
   ]
  },
  {
   "cell_type": "code",
   "execution_count": 317,
   "metadata": {
    "collapsed": false
   },
   "outputs": [
    {
     "name": "stdout",
     "output_type": "stream",
     "text": [
      "inital_K_values [ 67.51076648  82.40545331  53.79529763  29.05160776  13.08752089\n",
      "   2.09774213   0.17063596]\n"
     ]
    }
   ],
   "source": [
    "temperature = 366.5\n",
    "pressure = 150.0 * 1.0e5\n",
    "\n",
    "critical_pressure = 101325.0 * np.array([45.45, 51.29, 39.89, 31.95, 27.91, 17.71, 12.52]) # [atm]\n",
    "critical_temperature = np.array([189.2, 305.4, 395.8, 485.1, 592.0, 697.1, 804.4]) # [K]\n",
    "acentric_factor = np.array([0.00891, 0.11352, 0.17113, 0.26910, 0.34196, 0.51730, 0.72755]) # [-]\n",
    "molar_mass = 0.001 * np.array([16.38, 31.77, 50.64, 77.78, 118.44, 193.95, 295.30]) # [g/mol]\n",
    "omega_a = np.array([0.344772, 0.521974, 0.514972, 0.419169, 0.485943, 0.570583, 0.457236]) # [-]\n",
    "omega_b = np.array([0.063282, 0.099825, 0.107479, 0.093455, 0.07486, 0.101206, 0.077796]) # [-]\n",
    "\n",
    "m = np.where(\n",
    "    acentric_factor < 0.49, \n",
    "    0.37464 + 1.54226 * acentric_factor - 0.26992 * acentric_factor **2, \n",
    "    0.3796 + 1.485 * acentric_factor - 0.1644 * acentric_factor **2 - 0.01667 * acentric_factor ** 3\n",
    ")\n",
    "\n",
    "alpha = (1.0 + m * (1.0 - np.sqrt(temperature / critical_temperature)))\n",
    "a = alpha * (omega_a * (R * critical_temperature) ** 2) / critical_pressure\n",
    "b = (omega_b * R * critical_temperature) / critical_pressure\n",
    "\n",
    "binary_interaction = np.array(\n",
    "[[ 0.000000,  0.000622, -0.002471,  0.011418, -0.028367, -0.100000, 0.206868],\n",
    " [ 0.000622,  0.000000, -0.001540,  0.010046,  0.010046,  0.010046, 0.010046],\n",
    " [-0.002471, -0.001540,  0.000000,  0.002246,  0.002246,  0.002246, 0.002246],\n",
    " [ 0.011418,  0.010046,  0.002246,  0.000000,  0.000000,  0.000000, 0.000000],\n",
    " [-0.028367,  0.010046,  0.002246,  0.000000,  0.000000,  0.000000, 0.000000],\n",
    " [-0.100000,  0.010046,  0.002246,  0.000000,  0.000000,  0.000000, 0.000000],\n",
    " [ 0.206868,  0.010046,  0.002246,  0.000000,  0.000000,  0.000000, 0.000000]]\n",
    ")\n",
    "\n",
    "global_molar_fractions = np.array([0.6793, 0.099, 0.1108, 0.045, 0.05011, 0.0134, 0.00239])\n",
    "\n",
    "def calculate_initial_K_values(\n",
    "    pressure,\n",
    "    temperature,\n",
    "    critical_pressure,\n",
    "    critical_temperature,\n",
    "    acentric_factor\n",
    "):\n",
    "    P = pressure\n",
    "    T = temperature\n",
    "    P_c = critical_pressure\n",
    "    T_c = critical_temperature\n",
    "    omega = acentric_factor\n",
    "    \n",
    "    return (P_c / P) * np.exp(5.37 * (1.0 + omega * (1.0 - (T_c / T))))\n",
    "\n",
    "inital_K_values = calculate_initial_K_values(\n",
    "    pressure,\n",
    "    temperature,\n",
    "    critical_pressure,\n",
    "    critical_temperature,\n",
    "    acentric_factor\n",
    ")\n",
    "\n",
    "print 'inital_K_values', inital_K_values\n",
    "\n",
    "initial_vapor_fraction = 0.1\n",
    "\n",
    "x0 = np.append(inital_K_values, initial_vapor_fraction)\n",
    "\n",
    "# Create EoS object and set properties\n",
    "eos = WanDerWaalsEos(a, b, binary_interaction)"
   ]
  },
  {
   "cell_type": "code",
   "execution_count": 318,
   "metadata": {
    "collapsed": false
   },
   "outputs": [
    {
     "name": "stdout",
     "output_type": "stream",
     "text": [
      "0.1\n"
     ]
    },
    {
     "ename": "AssertionError",
     "evalue": "Liquid volume < 0.0!",
     "output_type": "error",
     "traceback": [
      "\u001b[1;31m---------------------------------------------------------------------------\u001b[0m",
      "\u001b[1;31mAssertionError\u001b[0m                            Traceback (most recent call last)",
      "\u001b[1;32m<ipython-input-318-05e72cf6b9e8>\u001b[0m in \u001b[0;36m<module>\u001b[1;34m()\u001b[0m\n\u001b[0;32m      2\u001b[0m     \u001b[0mfunc\u001b[0m\u001b[1;33m=\u001b[0m\u001b[0mresidual_function\u001b[0m\u001b[1;33m,\u001b[0m\u001b[1;33m\u001b[0m\u001b[0m\n\u001b[0;32m      3\u001b[0m     \u001b[0mx0\u001b[0m\u001b[1;33m=\u001b[0m\u001b[0mx0\u001b[0m\u001b[1;33m,\u001b[0m\u001b[1;33m\u001b[0m\u001b[0m\n\u001b[1;32m----> 4\u001b[1;33m     \u001b[0margs\u001b[0m\u001b[1;33m=\u001b[0m\u001b[1;33m(\u001b[0m\u001b[0mtemperature\u001b[0m\u001b[1;33m,\u001b[0m \u001b[0mpressure\u001b[0m\u001b[1;33m,\u001b[0m \u001b[0meos\u001b[0m\u001b[1;33m,\u001b[0m \u001b[0mglobal_molar_fractions\u001b[0m\u001b[1;33m)\u001b[0m\u001b[1;33m,\u001b[0m\u001b[1;33m\u001b[0m\u001b[0m\n\u001b[0m\u001b[0;32m      5\u001b[0m     \u001b[1;31m#full_output=True\u001b[0m\u001b[1;33m\u001b[0m\u001b[1;33m\u001b[0m\u001b[0m\n\u001b[0;32m      6\u001b[0m )\n",
      "\u001b[1;32mD:\\Miniconda\\envs\\py27\\lib\\site-packages\\scipy\\optimize\\minpack.pyc\u001b[0m in \u001b[0;36mfsolve\u001b[1;34m(func, x0, args, fprime, full_output, col_deriv, xtol, maxfev, band, epsfcn, factor, diag)\u001b[0m\n\u001b[0;32m    138\u001b[0m                'full_output': full_output}\n\u001b[0;32m    139\u001b[0m \u001b[1;33m\u001b[0m\u001b[0m\n\u001b[1;32m--> 140\u001b[1;33m     \u001b[0mres\u001b[0m \u001b[1;33m=\u001b[0m \u001b[0m_root_hybr\u001b[0m\u001b[1;33m(\u001b[0m\u001b[0mfunc\u001b[0m\u001b[1;33m,\u001b[0m \u001b[0mx0\u001b[0m\u001b[1;33m,\u001b[0m \u001b[0margs\u001b[0m\u001b[1;33m,\u001b[0m \u001b[0mjac\u001b[0m\u001b[1;33m=\u001b[0m\u001b[0mfprime\u001b[0m\u001b[1;33m,\u001b[0m \u001b[1;33m**\u001b[0m\u001b[0moptions\u001b[0m\u001b[1;33m)\u001b[0m\u001b[1;33m\u001b[0m\u001b[0m\n\u001b[0m\u001b[0;32m    141\u001b[0m     \u001b[1;32mif\u001b[0m \u001b[0mfull_output\u001b[0m\u001b[1;33m:\u001b[0m\u001b[1;33m\u001b[0m\u001b[0m\n\u001b[0;32m    142\u001b[0m         \u001b[0mx\u001b[0m \u001b[1;33m=\u001b[0m \u001b[0mres\u001b[0m\u001b[1;33m[\u001b[0m\u001b[1;34m'x'\u001b[0m\u001b[1;33m]\u001b[0m\u001b[1;33m\u001b[0m\u001b[0m\n",
      "\u001b[1;32mD:\\Miniconda\\envs\\py27\\lib\\site-packages\\scipy\\optimize\\minpack.pyc\u001b[0m in \u001b[0;36m_root_hybr\u001b[1;34m(func, x0, args, jac, col_deriv, xtol, maxfev, band, eps, factor, diag, full_output, **unknown_options)\u001b[0m\n\u001b[0;32m    195\u001b[0m     \u001b[1;32mif\u001b[0m \u001b[1;32mnot\u001b[0m \u001b[0misinstance\u001b[0m\u001b[1;33m(\u001b[0m\u001b[0margs\u001b[0m\u001b[1;33m,\u001b[0m \u001b[0mtuple\u001b[0m\u001b[1;33m)\u001b[0m\u001b[1;33m:\u001b[0m\u001b[1;33m\u001b[0m\u001b[0m\n\u001b[0;32m    196\u001b[0m         \u001b[0margs\u001b[0m \u001b[1;33m=\u001b[0m \u001b[1;33m(\u001b[0m\u001b[0margs\u001b[0m\u001b[1;33m,\u001b[0m\u001b[1;33m)\u001b[0m\u001b[1;33m\u001b[0m\u001b[0m\n\u001b[1;32m--> 197\u001b[1;33m     \u001b[0mshape\u001b[0m\u001b[1;33m,\u001b[0m \u001b[0mdtype\u001b[0m \u001b[1;33m=\u001b[0m \u001b[0m_check_func\u001b[0m\u001b[1;33m(\u001b[0m\u001b[1;34m'fsolve'\u001b[0m\u001b[1;33m,\u001b[0m \u001b[1;34m'func'\u001b[0m\u001b[1;33m,\u001b[0m \u001b[0mfunc\u001b[0m\u001b[1;33m,\u001b[0m \u001b[0mx0\u001b[0m\u001b[1;33m,\u001b[0m \u001b[0margs\u001b[0m\u001b[1;33m,\u001b[0m \u001b[0mn\u001b[0m\u001b[1;33m,\u001b[0m \u001b[1;33m(\u001b[0m\u001b[0mn\u001b[0m\u001b[1;33m,\u001b[0m\u001b[1;33m)\u001b[0m\u001b[1;33m)\u001b[0m\u001b[1;33m\u001b[0m\u001b[0m\n\u001b[0m\u001b[0;32m    198\u001b[0m     \u001b[1;32mif\u001b[0m \u001b[0mepsfcn\u001b[0m \u001b[1;32mis\u001b[0m \u001b[0mNone\u001b[0m\u001b[1;33m:\u001b[0m\u001b[1;33m\u001b[0m\u001b[0m\n\u001b[0;32m    199\u001b[0m         \u001b[0mepsfcn\u001b[0m \u001b[1;33m=\u001b[0m \u001b[0mfinfo\u001b[0m\u001b[1;33m(\u001b[0m\u001b[0mdtype\u001b[0m\u001b[1;33m)\u001b[0m\u001b[1;33m.\u001b[0m\u001b[0meps\u001b[0m\u001b[1;33m\u001b[0m\u001b[0m\n",
      "\u001b[1;32mD:\\Miniconda\\envs\\py27\\lib\\site-packages\\scipy\\optimize\\minpack.pyc\u001b[0m in \u001b[0;36m_check_func\u001b[1;34m(checker, argname, thefunc, x0, args, numinputs, output_shape)\u001b[0m\n\u001b[0;32m     18\u001b[0m def _check_func(checker, argname, thefunc, x0, args, numinputs,\n\u001b[0;32m     19\u001b[0m                 output_shape=None):\n\u001b[1;32m---> 20\u001b[1;33m     \u001b[0mres\u001b[0m \u001b[1;33m=\u001b[0m \u001b[0matleast_1d\u001b[0m\u001b[1;33m(\u001b[0m\u001b[0mthefunc\u001b[0m\u001b[1;33m(\u001b[0m\u001b[1;33m*\u001b[0m\u001b[1;33m(\u001b[0m\u001b[1;33m(\u001b[0m\u001b[0mx0\u001b[0m\u001b[1;33m[\u001b[0m\u001b[1;33m:\u001b[0m\u001b[0mnuminputs\u001b[0m\u001b[1;33m]\u001b[0m\u001b[1;33m,\u001b[0m\u001b[1;33m)\u001b[0m \u001b[1;33m+\u001b[0m \u001b[0margs\u001b[0m\u001b[1;33m)\u001b[0m\u001b[1;33m)\u001b[0m\u001b[1;33m)\u001b[0m\u001b[1;33m\u001b[0m\u001b[0m\n\u001b[0m\u001b[0;32m     21\u001b[0m     \u001b[1;32mif\u001b[0m \u001b[1;33m(\u001b[0m\u001b[0moutput_shape\u001b[0m \u001b[1;32mis\u001b[0m \u001b[1;32mnot\u001b[0m \u001b[0mNone\u001b[0m\u001b[1;33m)\u001b[0m \u001b[1;32mand\u001b[0m \u001b[1;33m(\u001b[0m\u001b[0mshape\u001b[0m\u001b[1;33m(\u001b[0m\u001b[0mres\u001b[0m\u001b[1;33m)\u001b[0m \u001b[1;33m!=\u001b[0m \u001b[0moutput_shape\u001b[0m\u001b[1;33m)\u001b[0m\u001b[1;33m:\u001b[0m\u001b[1;33m\u001b[0m\u001b[0m\n\u001b[0;32m     22\u001b[0m         \u001b[1;32mif\u001b[0m \u001b[1;33m(\u001b[0m\u001b[0moutput_shape\u001b[0m\u001b[1;33m[\u001b[0m\u001b[1;36m0\u001b[0m\u001b[1;33m]\u001b[0m \u001b[1;33m!=\u001b[0m \u001b[1;36m1\u001b[0m\u001b[1;33m)\u001b[0m\u001b[1;33m:\u001b[0m\u001b[1;33m\u001b[0m\u001b[0m\n",
      "\u001b[1;32m<ipython-input-311-fa315e0949a6>\u001b[0m in \u001b[0;36mresidual_function\u001b[1;34m(x, temperature, pressure, eos, global_molar_fractions)\u001b[0m\n\u001b[0;32m     44\u001b[0m         \u001b[0mvolume_liquid\u001b[0m \u001b[1;33m=\u001b[0m \u001b[0mvolumes\u001b[0m\u001b[1;33m[\u001b[0m\u001b[1;36m0\u001b[0m\u001b[1;33m]\u001b[0m \u001b[1;31m# Only value\u001b[0m\u001b[1;33m\u001b[0m\u001b[0m\n\u001b[0;32m     45\u001b[0m \u001b[1;33m\u001b[0m\u001b[0m\n\u001b[1;32m---> 46\u001b[1;33m     \u001b[1;32massert\u001b[0m \u001b[0mvolume_liquid\u001b[0m \u001b[1;33m>\u001b[0m \u001b[1;36m0.0\u001b[0m\u001b[1;33m,\u001b[0m \u001b[1;34m'Liquid volume < 0.0!'\u001b[0m\u001b[1;33m\u001b[0m\u001b[0m\n\u001b[0m\u001b[0;32m     47\u001b[0m \u001b[1;33m\u001b[0m\u001b[0m\n\u001b[0;32m     48\u001b[0m     \u001b[0mf_L\u001b[0m \u001b[1;33m=\u001b[0m \u001b[0meos\u001b[0m\u001b[1;33m.\u001b[0m\u001b[0mcalculate_fugacities\u001b[0m\u001b[1;33m(\u001b[0m\u001b[0mT\u001b[0m\u001b[1;33m,\u001b[0m \u001b[0mvolume_liquid\u001b[0m\u001b[1;33m)\u001b[0m\u001b[1;33m\u001b[0m\u001b[0m\n",
      "\u001b[1;31mAssertionError\u001b[0m: Liquid volume < 0.0!"
     ]
    }
   ],
   "source": [
    "result = fsolve(\n",
    "    func=residual_function,\n",
    "    x0=x0,\n",
    "    args=(temperature, pressure, eos, global_molar_fractions),\n",
    "    #full_output=True\n",
    ")\n",
    "\n",
    "#print result"
   ]
  },
  {
   "cell_type": "code",
   "execution_count": 307,
   "metadata": {
    "collapsed": false
   },
   "outputs": [
    {
     "data": {
      "text/plain": [
       "array([ nan,  nan,  nan,  nan,  nan,  nan,  nan])"
      ]
     },
     "execution_count": 307,
     "metadata": {},
     "output_type": "execute_result"
    }
   ],
   "source": [
    "eos.numerator_coef"
   ]
  },
  {
   "cell_type": "code",
   "execution_count": 158,
   "metadata": {
    "collapsed": false
   },
   "outputs": [
    {
     "name": "stdout",
     "output_type": "stream",
     "text": [
      "4\n"
     ]
    }
   ],
   "source": [
    "bb = np.array([1,2,3,4])\n",
    "\n",
    "print bb[bb.shape[0]-1]"
   ]
  },
  {
   "cell_type": "code",
   "execution_count": 201,
   "metadata": {
    "collapsed": false
   },
   "outputs": [
    {
     "name": "stdout",
     "output_type": "stream",
     "text": [
      "[ 1.5  1.5  1.5  3.8  3.8  3.8]\n"
     ]
    },
    {
     "ename": "NameError",
     "evalue": "name 'res' is not defined",
     "output_type": "error",
     "traceback": [
      "\u001b[1;31m---------------------------------------------------------------------------\u001b[0m",
      "\u001b[1;31mNameError\u001b[0m                                 Traceback (most recent call last)",
      "\u001b[1;32m<ipython-input-201-3a16781fd264>\u001b[0m in \u001b[0;36m<module>\u001b[1;34m()\u001b[0m\n\u001b[0;32m      7\u001b[0m \u001b[0mmm1\u001b[0m \u001b[1;33m=\u001b[0m \u001b[0mnp\u001b[0m\u001b[1;33m.\u001b[0m\u001b[0mwhere\u001b[0m\u001b[1;33m(\u001b[0m\u001b[0maa\u001b[0m \u001b[1;33m>\u001b[0m \u001b[1;36m2\u001b[0m\u001b[1;33m)\u001b[0m\u001b[1;33m\u001b[0m\u001b[0m\n\u001b[0;32m      8\u001b[0m \u001b[1;33m\u001b[0m\u001b[0m\n\u001b[1;32m----> 9\u001b[1;33m \u001b[0mres\u001b[0m\u001b[1;33m\u001b[0m\u001b[0m\n\u001b[0m\u001b[0;32m     10\u001b[0m \u001b[1;32mprint\u001b[0m \u001b[0mmm\u001b[0m\u001b[1;33m[\u001b[0m\u001b[1;36m0\u001b[0m\u001b[1;33m]\u001b[0m\u001b[1;33m,\u001b[0m \u001b[0mmm1\u001b[0m\u001b[1;33m[\u001b[0m\u001b[1;36m0\u001b[0m\u001b[1;33m]\u001b[0m\u001b[1;33m\u001b[0m\u001b[0m\n",
      "\u001b[1;31mNameError\u001b[0m: name 'res' is not defined"
     ]
    }
   ],
   "source": [
    "aa = np.array([1,1,1,3,3,3])\n",
    "\n",
    "mm = np.where(aa < 2, aa + 0.5, aa + 0.8)\n",
    "print mm\n",
    "\n",
    "mm = np.where(aa < 2)\n",
    "mm1 = np.where(aa > 2)\n",
    "\n",
    "res\n",
    "print mm[0], mm1[0]"
   ]
  },
  {
   "cell_type": "code",
   "execution_count": 199,
   "metadata": {
    "collapsed": false
   },
   "outputs": [
    {
     "name": "stdout",
     "output_type": "stream",
     "text": [
      "[ True  True  True False False False]\n"
     ]
    }
   ],
   "source": [
    "print aa < 2"
   ]
  },
  {
   "cell_type": "code",
   "execution_count": 256,
   "metadata": {
    "collapsed": true
   },
   "outputs": [],
   "source": [
    "aa = np.array([1,2])"
   ]
  },
  {
   "cell_type": "code",
   "execution_count": 259,
   "metadata": {
    "collapsed": false
   },
   "outputs": [],
   "source": [
    "if aa.shape > 1:\n",
    "    print 'here'\n",
    "    \n",
    "if bb.shape > 1:\n",
    "    print 'here'"
   ]
  },
  {
   "cell_type": "raw",
   "metadata": {},
   "source": []
  },
  {
   "cell_type": "code",
   "execution_count": null,
   "metadata": {
    "collapsed": true
   },
   "outputs": [],
   "source": []
  },
  {
   "cell_type": "code",
   "execution_count": null,
   "metadata": {
    "collapsed": true
   },
   "outputs": [],
   "source": []
  },
  {
   "cell_type": "code",
   "execution_count": null,
   "metadata": {
    "collapsed": true
   },
   "outputs": [],
   "source": []
  }
 ],
 "metadata": {
  "kernelspec": {
   "display_name": "Python 2",
   "language": "python",
   "name": "python2"
  },
  "language_info": {
   "codemirror_mode": {
    "name": "ipython",
    "version": 2
   },
   "file_extension": ".py",
   "mimetype": "text/x-python",
   "name": "python",
   "nbconvert_exporter": "python",
   "pygments_lexer": "ipython2",
   "version": "2.7.9"
  }
 },
 "nbformat": 4,
 "nbformat_minor": 0
}
