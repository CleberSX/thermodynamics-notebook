{
 "cells": [
  {
   "cell_type": "markdown",
   "metadata": {},
   "source": [
    "#The UNIFAC Method\n",
    "\n",
    "For a multicomponent mixture, the activity coefficient is calculated by\n",
    "\n",
    "$$\n",
    "\\ln \\gamma_i = \\ln \\gamma^c_i + \\ln \\gamma^r_i \n",
    "$$\n",
    "\n",
    "where $\\ln \\gamma^c_i$ is the combinatorial part and $\\ln \\gamma^r_i$ is the residual part."
   ]
  },
  {
   "cell_type": "code",
   "execution_count": 1,
   "metadata": {
    "collapsed": true
   },
   "outputs": [],
   "source": [
    "import numpy as np"
   ]
  },
  {
   "cell_type": "code",
   "execution_count": 61,
   "metadata": {
    "collapsed": true
   },
   "outputs": [],
   "source": [
    "# Prausnitz case\n",
    "\n",
    "# acetone and n-pentane\n",
    "# CH3, CH2, CH3CO\n",
    "R = np.array([0.9011, 0.6744, 1.6724])\n",
    "Q = np.array([0.848, 0.540, 1.488])\n",
    "\n",
    "# Groups\n",
    "n0 = np.array([1.0, 0.0, 1.0])\n",
    "n1 = np.array([2.0, 3.0, 0.0])\n",
    "N = np.array([n0, n1]) # acetone and pentane in this ORDER\n",
    "\n",
    "x = np.array([0.047, 1.0 - 0.047]) # New composition!"
   ]
  },
  {
   "cell_type": "markdown",
   "metadata": {},
   "source": [
    "##Combinatorial activity"
   ]
  },
  {
   "cell_type": "code",
   "execution_count": 62,
   "metadata": {
    "collapsed": false
   },
   "outputs": [],
   "source": [
    "def calculate_combinatorial_activity_log(x, R, Q, N):\n",
    "    r = np.array([np.sum(n0 * R), np.sum(n1 * R)])\n",
    "    q = np.array([np.sum(n0 * Q), np.sum(n1 * Q)])\n",
    "\n",
    "    phi = r * x / np.sum(r * x)\n",
    "    theta = q * x / np.sum(q * x)\n",
    "    zz = 10\n",
    "    l = 0.5 * zz * (r - q) - (r - 1.0) \n",
    "    ln_gamma_c = np.log(phi / x) + 0.5 * zz * q * np.log(theta / phi) \\\n",
    "               + l - (phi / x) * np.sum(x * l)\n",
    "    return ln_gamma_c"
   ]
  },
  {
   "cell_type": "code",
   "execution_count": 63,
   "metadata": {
    "collapsed": false
   },
   "outputs": [
    {
     "name": "stdout",
     "output_type": "stream",
     "text": [
      "[-0.05271726 -0.00010177]\n",
      "[ 0.94864819  0.99989824]\n"
     ]
    }
   ],
   "source": [
    "ln_gamma_c = calculate_combinatorial_activity_log(x, R, Q, N)\n",
    "\n",
    "print ln_gamma_c\n",
    "print np.exp(ln_gamma_c)"
   ]
  },
  {
   "cell_type": "markdown",
   "metadata": {},
   "source": [
    "##Residual activity"
   ]
  },
  {
   "cell_type": "code",
   "execution_count": 64,
   "metadata": {
    "collapsed": false
   },
   "outputs": [
    {
     "name": "stdout",
     "output_type": "stream",
     "text": [
      "[ 1.66056077  0.00534819]\n",
      "[ 5.26226091  1.00536252]\n"
     ]
    }
   ],
   "source": [
    "temperature = 307.0 # [K]\n",
    "\n",
    "a = np.array([[  0.0,   0.0, 476.4],\n",
    "              [  0.0,   0.0, 476.4],\n",
    "              [26.76, 26.76,   0.0]])\n",
    "psi = np.exp(- a / temperature)\n",
    "\n",
    "def calculate_residual_activity_log(psi):    \n",
    "    # Reference solution\n",
    "    # x_acetone = n0 / np.sum(n0)\n",
    "    # x_pentane = n1 / np.sum(n1)\n",
    "    X = (N.T / np.sum(N, axis=1)).T\n",
    "\n",
    "    # theta_pentane = Q * x_pentane / np.sum(Q * x_pentane)\n",
    "    # theta_acetone = Q * x_acetone / np.sum(Q * x_acetone)\n",
    "    theta_ref = ((Q * X).T / np.sum(Q * X, axis=1))\n",
    "\n",
    "    A = np.einsum('mi,mk', theta_ref, psi)\n",
    "    B = np.einsum('mi,km', (theta_ref.T/A).T, psi) \n",
    "    ln_gamma_ref = Q * (1.0 - np.log(A) - B)\n",
    "\n",
    "    X = np.dot(x, N) / np.sum(N.T * x)\n",
    "    theta = Q * X / np.sum(Q * X)\n",
    "\n",
    "    A = np.einsum('m,mk', theta, psi)\n",
    "    B = np.einsum('m,km', (theta / A), psi) \n",
    "    ln_gamma = Q * (1.0 - np.log(A) - B)\n",
    "\n",
    "    return np.sum(N * (ln_gamma - ln_gamma_ref), axis=1)\n",
    "\n",
    "ln_gamma_r = calculate_residual_activity_log(psi)\n",
    "print ln_gamma_r\n",
    "print np.exp(ln_gamma_r)"
   ]
  },
  {
   "cell_type": "code",
   "execution_count": 68,
   "metadata": {
    "collapsed": false
   },
   "outputs": [
    {
     "name": "stdout",
     "output_type": "stream",
     "text": [
      "[ 1.6078435   0.00524642]\n",
      "[ 4.99203431  1.00526021]\n"
     ]
    }
   ],
   "source": [
    "def calculate_activity_unifac(x, R, Q, N, psi):\n",
    "    ln_gamma_c = calculate_combinatorial_activity_log(x, R, Q, N)\n",
    "    ln_gamma_r = calculate_residual_activity_log(psi)\n",
    "    ln_gamma = ln_gamma_c + ln_gamma_r\n",
    "    return np.exp(ln_gamma)\n",
    "\n",
    "gamma = calculate_activity_unifac(x, R, Q, N, psi)\n",
    "\n",
    "print np.log(gamma)\n",
    "print gamma"
   ]
  },
  {
   "cell_type": "code",
   "execution_count": 69,
   "metadata": {
    "collapsed": false
   },
   "outputs": [
    {
     "name": "stdout",
     "output_type": "stream",
     "text": [
      "Obtained activity is [ 4.99203431  1.00526021]\n",
      "Expected activity is [ 4.99   1.005]\n"
     ]
    }
   ],
   "source": [
    "obtained_gamma = gamma\n",
    "expected_gamma = np.array([4.99, 1.005])\n",
    "\n",
    "print 'Obtained activity is %s' % obtained_gamma\n",
    "print 'Expected activity is %s' % expected_gamma\n",
    "\n",
    "assert np.allclose(obtained_gamma, expected_gamma, rtol=1.0e-3), 'Obatined value did not match expected!'"
   ]
  },
  {
   "cell_type": "markdown",
   "metadata": {
    "collapsed": false
   },
   "source": [
    "##Phase Equilibrium\n",
    "\n",
    "$$\n",
    "f_i^v = f_i^l\n",
    "$$\n",
    "where,\n",
    "$$\n",
    "f_i^l = x_i \\gamma_i^l f_{i,\\text{pure}}^l(T,P)\n",
    "$$\n",
    "and\n",
    "$$\n",
    "f_i^v = \\phi_i^v y_i P\n",
    "$$\n",
    "if $\\phi_i^v = 1$ (ideal gas)\n",
    "\n",
    "$$\n",
    "x_i \\gamma_i^l P_{i,\\text{sat}}(T) = y_i P\n",
    "$$\n",
    "\n",
    "Hence,\n",
    "\n",
    "$$\n",
    "x_{CH_3OH} \\gamma_{CH_3OH}^l P_{CH_3OH, \\text{sat}}(T) + (1 - x_{CH_3OH}) \\gamma_{H_2O}^l P_{H_2O, \\text{sat}}(T) = P\n",
    "$$\n",
    "\n",
    "$$\n",
    "y_i = \\frac{P_{i, \\text{sat}}(T)}{P}\n",
    "$$"
   ]
  },
  {
   "cell_type": "code",
   "execution_count": 74,
   "metadata": {
    "collapsed": false
   },
   "outputs": [
    {
     "name": "stdout",
     "output_type": "stream",
     "text": [
      "Obtained activity is [ 1.04362481  1.49569659]\n",
      "Expected activity is [ 1.0436  1.4957]\n"
     ]
    }
   ],
   "source": [
    "# Prof Philippi case\n",
    "# water and methanol\n",
    "# H2O, CH3OH\n",
    "R = np.array([0.92, 1.4311])\n",
    "Q = np.array([1.4 , 1.432 ])\n",
    "\n",
    "# Groups\n",
    "n0 = np.array([1.0, 0.0])\n",
    "n1 = np.array([0.0, 1.0])\n",
    "N = np.array([n0, n1])\n",
    "\n",
    "x = np.array([0.8, 0.2])\n",
    "\n",
    "temperature = 323.15 # [K]\n",
    "\n",
    "a = np.array([[   0.0, 289.6],\n",
    "              [-181.0,   0.0]])\n",
    "psi = np.exp(- a / temperature)\n",
    "gamma = calculate_activity_unifac(x, R, Q, N, psi)\n",
    "\n",
    "# Check results\n",
    "obtained_gamma = gamma\n",
    "expected_gamma = np.array([1.0436, 1.4957])\n",
    "\n",
    "print 'Obtained activity is %s' % obtained_gamma\n",
    "print 'Expected activity is %s' % expected_gamma\n",
    "\n",
    "assert np.allclose(obtained_gamma, expected_gamma, rtol=1.0e-3), 'Obatined value did not match expected!'"
   ]
  },
  {
   "cell_type": "code",
   "execution_count": 96,
   "metadata": {
    "collapsed": false
   },
   "outputs": [
    {
     "name": "stdout",
     "output_type": "stream",
     "text": [
      "x_methanol, gamma_w, gamma_m\n",
      "0.0495 [ 1.00327319  1.99359967]\n",
      "0.099 [ 1.01216277  1.7845898 ]\n",
      "0.1485 [ 1.02560581  1.6247964 ]\n",
      "0.198 [ 1.04285603  1.5001397 ]\n",
      "0.2475 [ 1.06337802  1.40131133]\n",
      "0.297 [ 1.08678089  1.32195372]\n",
      "0.3465 [ 1.11277523  1.25760092]\n",
      "0.396 [ 1.14114453  1.20503812]\n",
      "0.4455 [ 1.17172559  1.16190093]\n",
      "0.495 [ 1.20439492  1.12641717]\n",
      "0.5445 [ 1.23905908  1.09723598]\n",
      "0.594 [ 1.27564762  1.07331207]\n",
      "0.6435 [ 1.31410801  1.05382562]\n",
      "0.693 [ 1.35440176  1.03812577]\n",
      "0.7425 [ 1.39650155  1.02569012]\n",
      "0.792 [ 1.44038903  1.01609517]\n",
      "0.8415 [ 1.48605308  1.00899447]\n",
      "0.891 [ 1.53348852  1.00410227]\n",
      "0.9405 [ 1.58269503  1.00118111]\n",
      "0.99 [ 1.63367633  1.00003229]\n"
     ]
    }
   ],
   "source": [
    "x_water = np.linspace(0.01, 1.0, 20, endpoint=False)\n",
    "x_methanol = 1.0 - x_water\n",
    "xx = np.append([x_water], [x_methanol], axis=0).T\n",
    "\n",
    "print 'x_methanol, gamma_w, gamma_m'\n",
    "for x in reversed(xx):\n",
    "    gamma = calculate_activity_unifac(x, R, Q, N, psi)\n",
    "    print x[1], gamma"
   ]
  },
  {
   "cell_type": "code",
   "execution_count": null,
   "metadata": {
    "collapsed": false
   },
   "outputs": [],
   "source": []
  },
  {
   "cell_type": "code",
   "execution_count": null,
   "metadata": {
    "collapsed": false
   },
   "outputs": [],
   "source": []
  },
  {
   "cell_type": "code",
   "execution_count": null,
   "metadata": {
    "collapsed": false
   },
   "outputs": [],
   "source": []
  },
  {
   "cell_type": "code",
   "execution_count": null,
   "metadata": {
    "collapsed": true
   },
   "outputs": [],
   "source": []
  }
 ],
 "metadata": {
  "kernelspec": {
   "display_name": "Python 2",
   "language": "python",
   "name": "python2"
  },
  "language_info": {
   "codemirror_mode": {
    "name": "ipython",
    "version": 2
   },
   "file_extension": ".py",
   "mimetype": "text/x-python",
   "name": "python",
   "nbconvert_exporter": "python",
   "pygments_lexer": "ipython2",
   "version": "2.7.9"
  }
 },
 "nbformat": 4,
 "nbformat_minor": 0
}
