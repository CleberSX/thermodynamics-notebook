{
 "cells": [
  {
   "cell_type": "markdown",
   "metadata": {},
   "source": [
    "#The UNIFAC Method\n",
    "\n",
    "For a multicomponent mixture, the activity coefficient is calculated by\n",
    "\n",
    "$$\n",
    "\\ln \\gamma_i = \\ln \\gamma^c_i + \\ln \\gamma^r_i \n",
    "$$\n",
    "\n",
    "where $\\ln \\gamma^c_i$ is the combinatorial part and $\\ln \\gamma^r_i$ is the residual part."
   ]
  },
  {
   "cell_type": "code",
   "execution_count": 118,
   "metadata": {
    "collapsed": true
   },
   "outputs": [],
   "source": [
    "import numpy as np"
   ]
  },
  {
   "cell_type": "code",
   "execution_count": 129,
   "metadata": {
    "collapsed": true
   },
   "outputs": [],
   "source": [
    "# Prausnitz case\n",
    "\n",
    "# acetone and n-pentane\n",
    "# CH3, CH2, CH3CO\n",
    "R = np.array([0.9011, 0.6744, 1.6724])\n",
    "Q = np.array([0.848, 0.540, 1.488])\n",
    "\n",
    "# Groups\n",
    "n0 = np.array([1.0, 0.0, 1.0])\n",
    "n1 = np.array([2.0, 3.0, 0.0])\n",
    "\n",
    "x = np.array([0.047, 1.0 - 0.047]) # New composition!\n",
    "N = np.array([n0, n1]) # acetone and pentane in this ORDER\n",
    "r = np.array([np.sum(n0 * R), np.sum(n1 * R)])\n",
    "q = np.array([np.sum(n0 * Q), np.sum(n1 * Q)])"
   ]
  },
  {
   "cell_type": "markdown",
   "metadata": {},
   "source": [
    "##Combinatorial activity"
   ]
  },
  {
   "cell_type": "code",
   "execution_count": 130,
   "metadata": {
    "collapsed": false
   },
   "outputs": [],
   "source": [
    "phi = r * x / np.sum(r * x)\n",
    "theta = q * x / np.sum(q * x)\n",
    "zz = 10\n",
    "l = 0.5 * zz * (r - q) - (r - 1.0) \n",
    "ln_gamma_c = np.log(phi / x) + 0.5 * zz * q * np.log(theta / phi) \\\n",
    "           + l - (phi / x) * np.sum(x * l)\n",
    "gamma_c = np.exp(ln_gamma_c)"
   ]
  },
  {
   "cell_type": "code",
   "execution_count": 140,
   "metadata": {
    "collapsed": false
   },
   "outputs": [
    {
     "name": "stdout",
     "output_type": "stream",
     "text": [
      "[-0.05271726 -0.00010177]\n",
      "[ 0.94864819  0.99989824]\n"
     ]
    }
   ],
   "source": [
    "print ln_gamma_c\n",
    "print gamma_c"
   ]
  },
  {
   "cell_type": "markdown",
   "metadata": {},
   "source": [
    "##Residual activity"
   ]
  },
  {
   "cell_type": "code",
   "execution_count": 132,
   "metadata": {
    "collapsed": false
   },
   "outputs": [
    {
     "name": "stdout",
     "output_type": "stream",
     "text": [
      "[[ 0.40890193  0.26038566  0.13891146]\n",
      " [ 0.          0.          2.43327686]]\n"
     ]
    }
   ],
   "source": [
    "temperature = 307.0 # [K]\n",
    "\n",
    "a = np.array([[  0.0,   0.0, 476.4],\n",
    "              [  0.0,   0.0, 476.4],\n",
    "              [26.76, 26.76,   0.0]])\n",
    "psi = np.exp(- a / temperature)\n",
    "\n",
    "# Reference solution\n",
    "x_acetone = n0 / np.sum(n0)\n",
    "x_pentane = n1 / np.sum(n1)\n",
    "\n",
    "theta_pentane = Q * x_pentane / np.sum(Q * x_pentane)\n",
    "theta_acetone = Q * x_acetone / np.sum(Q * x_acetone)\n",
    "\n",
    "theta_ref = np.array([theta_acetone, theta_pentane]).T\n",
    "\n",
    "A = np.einsum('mi,mk', theta_ref, psi)\n",
    "B = np.einsum('mi,km', (theta_ref.T/A).T, psi) \n",
    "ln_gamma_ref = Q * (1.0 - np.log(A) - B)\n",
    "\n",
    "print ln_gamma_ref"
   ]
  },
  {
   "cell_type": "code",
   "execution_count": 133,
   "metadata": {
    "collapsed": false
   },
   "outputs": [
    {
     "name": "stdout",
     "output_type": "stream",
     "text": [
      "[  1.36769256e-03   8.70936299e-04   2.20700647e+00]\n"
     ]
    }
   ],
   "source": [
    "X = np.dot(x, N) / np.sum(N.T * x)\n",
    "theta = Q * X / np.sum(Q * X)\n",
    "\n",
    "A = np.einsum('m,mk', theta, psi)\n",
    "B = np.einsum('m,km', (theta / A), psi) \n",
    "ln_gamma = Q * (1.0 - np.log(A) - B)\n",
    "\n",
    "print ln_gamma"
   ]
  },
  {
   "cell_type": "code",
   "execution_count": 134,
   "metadata": {
    "collapsed": false
   },
   "outputs": [
    {
     "name": "stdout",
     "output_type": "stream",
     "text": [
      "[ 1.66056077  0.00534819]\n",
      "[ 5.26226091  1.00536252]\n"
     ]
    }
   ],
   "source": [
    "ln_gamma_r = np.sum(N * (ln_gamma - ln_gamma_ref), axis=1)\n",
    "gamma_r = np.exp(ln_gamma_r)\n",
    "\n",
    "print ln_gamma_r\n",
    "print gamma_r"
   ]
  },
  {
   "cell_type": "code",
   "execution_count": 135,
   "metadata": {
    "collapsed": false
   },
   "outputs": [
    {
     "name": "stdout",
     "output_type": "stream",
     "text": [
      "[ 1.6078435   0.00524642]\n",
      "[ 4.99203431  1.00526021]\n"
     ]
    }
   ],
   "source": [
    "ln_gamma = ln_gamma_c + ln_gamma_r\n",
    "gamma = np.exp(ln_gamma)\n",
    "\n",
    "print ln_gamma\n",
    "print gamma"
   ]
  },
  {
   "cell_type": "code",
   "execution_count": 148,
   "metadata": {
    "collapsed": false
   },
   "outputs": [
    {
     "name": "stdout",
     "output_type": "stream",
     "text": [
      "Obtained activity is [ 4.99203431  1.00526021]\n",
      "Expected activity is [ 4.99   1.005]\n"
     ]
    }
   ],
   "source": [
    "obtained_gamma = gamma\n",
    "expected_gamma = np.array([4.99, 1.005])\n",
    "\n",
    "print 'Obtained activity is %s' % obtained_gamma\n",
    "print 'Expected activity is %s' % expected_gamma\n",
    "\n",
    "assert np.allclose(obtained_gamma, expected_gamma, rtol=1.0e-3), 'Obatined value did not match expected!'"
   ]
  },
  {
   "cell_type": "code",
   "execution_count": null,
   "metadata": {
    "collapsed": false
   },
   "outputs": [],
   "source": []
  },
  {
   "cell_type": "code",
   "execution_count": null,
   "metadata": {
    "collapsed": false
   },
   "outputs": [],
   "source": []
  },
  {
   "cell_type": "code",
   "execution_count": null,
   "metadata": {
    "collapsed": false
   },
   "outputs": [],
   "source": []
  },
  {
   "cell_type": "code",
   "execution_count": null,
   "metadata": {
    "collapsed": false
   },
   "outputs": [],
   "source": []
  },
  {
   "cell_type": "code",
   "execution_count": null,
   "metadata": {
    "collapsed": false
   },
   "outputs": [],
   "source": []
  },
  {
   "cell_type": "code",
   "execution_count": null,
   "metadata": {
    "collapsed": false
   },
   "outputs": [],
   "source": []
  },
  {
   "cell_type": "code",
   "execution_count": null,
   "metadata": {
    "collapsed": false
   },
   "outputs": [],
   "source": []
  },
  {
   "cell_type": "code",
   "execution_count": null,
   "metadata": {
    "collapsed": true
   },
   "outputs": [],
   "source": []
  }
 ],
 "metadata": {
  "kernelspec": {
   "display_name": "Python 2",
   "language": "python",
   "name": "python2"
  },
  "language_info": {
   "codemirror_mode": {
    "name": "ipython",
    "version": 2
   },
   "file_extension": ".py",
   "mimetype": "text/x-python",
   "name": "python",
   "nbconvert_exporter": "python",
   "pygments_lexer": "ipython2",
   "version": "2.7.9"
  }
 },
 "nbformat": 4,
 "nbformat_minor": 0
}
