{
 "cells": [
  {
   "cell_type": "markdown",
   "metadata": {},
   "source": [
    "#The UNIFAC Method\n",
    "\n",
    "For a multicomponent mixture, the activity coefficient is calculated by\n",
    "\n",
    "$$\n",
    "\\ln \\gamma_i = \\ln \\gamma^c_i + \\ln \\gamma^r_i \n",
    "$$\n",
    "\n",
    "where $\\ln \\gamma^c_i$ is the combinatorial part and $\\ln \\gamma^r_i$ is the residual part."
   ]
  },
  {
   "cell_type": "code",
   "execution_count": 1,
   "metadata": {
    "collapsed": true
   },
   "outputs": [],
   "source": [
    "import numpy as np\n",
    "import matplotlib.pyplot as plt"
   ]
  },
  {
   "cell_type": "code",
   "execution_count": 2,
   "metadata": {
    "collapsed": true
   },
   "outputs": [],
   "source": [
    "# Prausnitz case\n",
    "\n",
    "# acetone and n-pentane\n",
    "# CH3, CH2, CH3CO\n",
    "R = np.array([0.9011, 0.6744, 1.6724])\n",
    "Q = np.array([0.848, 0.540, 1.488])\n",
    "\n",
    "temperature = 307.0 # [K]\n",
    "\n",
    "a = np.array([[  0.0,   0.0, 476.4],\n",
    "              [  0.0,   0.0, 476.4],\n",
    "              [26.76, 26.76,   0.0]])\n",
    "psi = np.exp(- a / temperature)\n",
    "\n",
    "# Groups\n",
    "n0 = np.array([1.0, 0.0, 1.0])\n",
    "n1 = np.array([2.0, 3.0, 0.0])\n",
    "N = np.array([n0, n1]) # acetone and pentane in this ORDER\n",
    "\n",
    "x = np.array([0.047, 1.0 - 0.047]) # New composition!"
   ]
  },
  {
   "cell_type": "markdown",
   "metadata": {},
   "source": [
    "##Combinatorial activity"
   ]
  },
  {
   "cell_type": "code",
   "execution_count": 3,
   "metadata": {
    "collapsed": false
   },
   "outputs": [],
   "source": [
    "def calculate_combinatorial_activity_log(x, R, Q, N):\n",
    "    r = np.array([np.sum(n0 * R), np.sum(n1 * R)])\n",
    "    q = np.array([np.sum(n0 * Q), np.sum(n1 * Q)])\n",
    "\n",
    "    phi = r * x / np.sum(r * x)\n",
    "    theta = q * x / np.sum(q * x)\n",
    "    zz = 10\n",
    "    l = 0.5 * zz * (r - q) - (r - 1.0) \n",
    "    ln_gamma_c = np.log(phi / x) + 0.5 * zz * q * np.log(theta / phi) \\\n",
    "               + l - (phi / x) * np.sum(x * l)\n",
    "    return ln_gamma_c"
   ]
  },
  {
   "cell_type": "code",
   "execution_count": 4,
   "metadata": {
    "collapsed": false
   },
   "outputs": [
    {
     "name": "stdout",
     "output_type": "stream",
     "text": [
      "[-0.05271726 -0.00010177]\n",
      "[ 0.94864819  0.99989824]\n"
     ]
    }
   ],
   "source": [
    "ln_gamma_c = calculate_combinatorial_activity_log(x, R, Q, N)\n",
    "\n",
    "print ln_gamma_c\n",
    "print np.exp(ln_gamma_c)"
   ]
  },
  {
   "cell_type": "markdown",
   "metadata": {},
   "source": [
    "##Residual activity"
   ]
  },
  {
   "cell_type": "code",
   "execution_count": 5,
   "metadata": {
    "collapsed": false
   },
   "outputs": [
    {
     "name": "stdout",
     "output_type": "stream",
     "text": [
      "[ 1.66056077  0.00534819]\n",
      "[ 5.26226091  1.00536252]\n"
     ]
    }
   ],
   "source": [
    "def calculate_residual_activity_log(psi):    \n",
    "    # Reference solution\n",
    "    # x_acetone = n0 / np.sum(n0)\n",
    "    # x_pentane = n1 / np.sum(n1)\n",
    "    X = (N.T / np.sum(N, axis=1)).T\n",
    "\n",
    "    # theta_pentane = Q * x_pentane / np.sum(Q * x_pentane)\n",
    "    # theta_acetone = Q * x_acetone / np.sum(Q * x_acetone)\n",
    "    theta_ref = ((Q * X).T / np.sum(Q * X, axis=1))\n",
    "\n",
    "    A = np.einsum('mi,mk', theta_ref, psi)\n",
    "    B = np.einsum('mi,km', (theta_ref.T/A).T, psi) \n",
    "    ln_gamma_ref = Q * (1.0 - np.log(A) - B)\n",
    "\n",
    "    X = np.dot(x, N) / np.sum(N.T * x)\n",
    "    theta = Q * X / np.sum(Q * X)\n",
    "\n",
    "    A = np.einsum('m,mk', theta, psi)\n",
    "    B = np.einsum('m,km', (theta / A), psi) \n",
    "    ln_gamma = Q * (1.0 - np.log(A) - B)\n",
    "\n",
    "    return np.sum(N * (ln_gamma - ln_gamma_ref), axis=1)\n",
    "\n",
    "ln_gamma_r = calculate_residual_activity_log(psi)\n",
    "print ln_gamma_r\n",
    "print np.exp(ln_gamma_r)"
   ]
  },
  {
   "cell_type": "code",
   "execution_count": 6,
   "metadata": {
    "collapsed": false
   },
   "outputs": [
    {
     "name": "stdout",
     "output_type": "stream",
     "text": [
      "[ 1.6078435   0.00524642]\n",
      "[ 4.99203431  1.00526021]\n"
     ]
    }
   ],
   "source": [
    "def calculate_activity_unifac(x, R, Q, N, psi):\n",
    "    ln_gamma_c = calculate_combinatorial_activity_log(x, R, Q, N)\n",
    "    ln_gamma_r = calculate_residual_activity_log(psi)\n",
    "    ln_gamma = ln_gamma_c + ln_gamma_r\n",
    "    return np.exp(ln_gamma)\n",
    "\n",
    "gamma = calculate_activity_unifac(x, R, Q, N, psi)\n",
    "\n",
    "print np.log(gamma)\n",
    "print gamma"
   ]
  },
  {
   "cell_type": "code",
   "execution_count": 7,
   "metadata": {
    "collapsed": false
   },
   "outputs": [
    {
     "name": "stdout",
     "output_type": "stream",
     "text": [
      "Obtained activity is [ 4.99203431  1.00526021]\n",
      "Expected activity is [ 4.99   1.005]\n"
     ]
    }
   ],
   "source": [
    "obtained_gamma = gamma\n",
    "expected_gamma = np.array([4.99, 1.005])\n",
    "\n",
    "print 'Obtained activity is %s' % obtained_gamma\n",
    "print 'Expected activity is %s' % expected_gamma\n",
    "\n",
    "assert np.allclose(obtained_gamma, expected_gamma, rtol=1.0e-3), 'Obatined value did not match expected!'"
   ]
  },
  {
   "cell_type": "markdown",
   "metadata": {
    "collapsed": false
   },
   "source": [
    "##Phase Equilibrium\n",
    "\n",
    "$$\n",
    "f_i^v = f_i^l\n",
    "$$\n",
    "where,\n",
    "$$\n",
    "f_i^l = x_i \\gamma_i^l f_{i,\\text{pure}}^l(T,P)\n",
    "$$\n",
    "and\n",
    "$$\n",
    "f_i^v = \\phi_i^v y_i P\n",
    "$$\n",
    "if $\\phi_i^v = 1$ (ideal gas)\n",
    "\n",
    "$$\n",
    "x_i \\gamma_i^l P_{i,\\text{sat}}(T) = y_i P\n",
    "$$\n",
    "\n",
    "Hence,\n",
    "\n",
    "$$\n",
    "x_{CH_3OH} \\gamma_{CH_3OH}^l P_{CH_3OH, \\text{sat}}(T) + (1 - x_{CH_3OH}) \\gamma_{H_2O}^l P_{H_2O, \\text{sat}}(T) = P\n",
    "$$\n",
    "\n",
    "$$\n",
    "y_i = \\frac{x_i \\gamma_i^l P_{i, \\text{sat}}(T)}{P}\n",
    "$$"
   ]
  },
  {
   "cell_type": "code",
   "execution_count": 8,
   "metadata": {
    "collapsed": false
   },
   "outputs": [
    {
     "name": "stdout",
     "output_type": "stream",
     "text": [
      "Obtained activity is [ 1.04362481  1.49569659]\n",
      "Expected activity is [ 1.0436  1.4957]\n"
     ]
    }
   ],
   "source": [
    "# Prof Philippi case\n",
    "# water and methanol\n",
    "# H2O, CH3OH\n",
    "R = np.array([0.92, 1.4311])\n",
    "Q = np.array([1.4 , 1.432 ])\n",
    "\n",
    "# Groups\n",
    "n0 = np.array([1.0, 0.0])\n",
    "n1 = np.array([0.0, 1.0])\n",
    "N = np.array([n0, n1])\n",
    "\n",
    "x = np.array([0.8, 0.2])\n",
    "\n",
    "temperature = 323.15 # [K]\n",
    "\n",
    "a = np.array([[   0.0, 289.6],\n",
    "              [-181.0,   0.0]])\n",
    "psi = np.exp(- a / temperature)\n",
    "gamma = calculate_activity_unifac(x, R, Q, N, psi)\n",
    "\n",
    "# Check results\n",
    "obtained_gamma = gamma\n",
    "expected_gamma = np.array([1.0436, 1.4957])\n",
    "\n",
    "print 'Obtained activity is %s' % obtained_gamma\n",
    "print 'Expected activity is %s' % expected_gamma\n",
    "\n",
    "assert np.allclose(obtained_gamma, expected_gamma, rtol=1.0e-3), 'Obatined value did not match expected!'"
   ]
  },
  {
   "cell_type": "code",
   "execution_count": 9,
   "metadata": {
    "collapsed": false
   },
   "outputs": [],
   "source": [
    "x_water = np.linspace(0.00000001, 1.0, 500, endpoint=False)\n",
    "x_methanol = 1.0 - x_water\n",
    "xx = np.append([x_water], [x_methanol], axis=0).T\n",
    "\n",
    "Psat_water = 92.50\n",
    "Psat_methanol = 417.40\n",
    "\n",
    "gamma = []\n",
    "for x in xx:\n",
    "    gamma.append(calculate_activity_unifac(x, R, Q, N, psi))\n",
    "gamma = np.array(gamma) # Convert to numpy array\n",
    "\n",
    "P = xx[:, 0] * gamma[:, 0] * Psat_water + xx[:, 1] * gamma[:, 1] * Psat_methanol\n",
    "y = Psat_methanol * gamma[:, 1] * xx[:, 1] / P\n",
    "\n",
    "x_met = xx[:, 1]\n",
    "y_met = y\n",
    "line1 = plt.plot(x_met, P, label='Bubble-point curve')\n",
    "line2 = plt.plot(y_met, P, label='Dew-point curve')\n",
    "\n",
    "ax = plt.gca()\n",
    "ax.grid(True)\n",
    "ax.axvline(0, color='black', lw=2)\n",
    "ax.axhline(0, color='black', lw=2)\n",
    "ax.axis([0.0, 1.0, 0.0, 500.0])\n",
    "ax.legend(loc='upper left')\n",
    "ax.set_xlabel(xlabel='Methane molar fraction [mol/mol]')\n",
    "ax.set_ylabel(ylabel='Pressure [bar]')\n",
    "plt.show()"
   ]
  },
  {
   "cell_type": "markdown",
   "metadata": {},
   "source": [
    "##Selected Components\n",
    "\n",
    "Let's choose $C_4H_10$ (Ethane) and $C_5 H_{12}$ (Pentane) as components in our system.\n",
    "\n",
    "Ethane:\n",
    "\n",
    "* 2 Groups of $CH_3$\n",
    "* 2 Groups of $CH_2$\n",
    "\n",
    "Pentane\n",
    "\n",
    "* 2 Groups of $CH_3$\n",
    "* 3 Groups of $CH_2$\n",
    "\n",
    "By checking Table 1 from the class notes, we find out that $R_{CH_3} = 0.9011$, $Q_{CH_3} = 0.848$, $R_{CH_2} = 0.6744$  and $Q_{CH_2} = 0.540$. $CH_3$ belongs to the main group 1 and secondary group 1 and $CH_2$ belongs to the main group 1 and to the secondary group 2. For this case, the values for $a = 0$."
   ]
  },
  {
   "cell_type": "code",
   "execution_count": 10,
   "metadata": {
    "collapsed": false
   },
   "outputs": [],
   "source": [
    "# My case\n",
    "# ethane and pentane\n",
    "# C2, C5\n",
    "\n",
    "# 2 Groupd\n",
    "R = np.array([0.9011, 0.6744]) # CH3, CH2\n",
    "Q = np.array([0.848 , 0.540 ])\n",
    "\n",
    "# Groups\n",
    "n0 = np.array([2.0, 2.0])\n",
    "n1 = np.array([2.0, 3.0])\n",
    "N = np.array([n0, n1])\n",
    "\n",
    "temperature = 300.0 # [K]\n",
    "\n",
    "a = np.array([[0.0, 0.0],\n",
    "              [0.0, 0.0]])\n",
    "psi = np.exp(- a / temperature)\n",
    "x_butane = np.linspace(0.0000000001, 1.0, 500, endpoint=False)\n",
    "x_pentane = 1.0 - x_butane\n",
    "xx = np.append([x_butane], [x_pentane], axis=0).T\n",
    "\n",
    "Psat_butane = 1.58 # [bar]\n",
    "Psat_pentane = 0.7267 # [bar]\n",
    "\n",
    "gamma = []\n",
    "for x in xx:\n",
    "    gamma.append(calculate_activity_unifac(x, R, Q, N, psi))\n",
    "gamma = np.array(gamma) # Convert to numpy array\n",
    "\n",
    "P = xx[:, 0] * gamma[:, 0] * Psat_pentane + xx[:, 1] * gamma[:, 1] * Psat_butane\n",
    "y = Psat_butane * gamma[:, 1] * xx[:, 1] / P\n",
    "\n",
    "x_butane = xx[:, 1]\n",
    "y_butane = y\n",
    "line1 = plt.plot(x_butane, P, label='Bubble-point curve')\n",
    "line2 = plt.plot(y_butane, P, label='Dew-point curve')\n",
    "\n",
    "ax = plt.gca()\n",
    "ax.grid(True)\n",
    "ax.axvline(0, color='black', lw=2)\n",
    "ax.axhline(0, color='black', lw=2)\n",
    "ax.axis([0.0, 1.0, 0.6, 1.6])\n",
    "ax.legend(loc='upper left')\n",
    "ax.set_xlabel(xlabel='Butane molar fraction [mol/mol]')\n",
    "ax.set_ylabel(ylabel='Pressure [bar]')\n",
    "plt.show()"
   ]
  }
 ],
 "metadata": {
  "kernelspec": {
   "display_name": "Python 2",
   "language": "python",
   "name": "python2"
  },
  "language_info": {
   "codemirror_mode": {
    "name": "ipython",
    "version": 2
   },
   "file_extension": ".py",
   "mimetype": "text/x-python",
   "name": "python",
   "nbconvert_exporter": "python",
   "pygments_lexer": "ipython2",
   "version": "2.7.10"
  }
 },
 "nbformat": 4,
 "nbformat_minor": 0
}
